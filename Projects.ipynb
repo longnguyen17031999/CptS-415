{
 "cells": [
  {
   "cell_type": "code",
   "execution_count": 1,
   "id": "4d45b2c0",
   "metadata": {
    "scrolled": false
   },
   "outputs": [
    {
     "name": "stderr",
     "output_type": "stream",
     "text": [
      "21/10/12 09:24:42 WARN Utils: Your hostname, DESKTOP-RV59F4C resolves to a loopback address: 127.0.1.1; using 192.168.20.1 instead (on interface eth0)\n",
      "21/10/12 09:24:42 WARN Utils: Set SPARK_LOCAL_IP if you need to bind to another address\n",
      "WARNING: An illegal reflective access operation has occurred\n",
      "WARNING: Illegal reflective access by org.apache.spark.unsafe.Platform (file:/root/spark-3.0.3-bin-hadoop3.2/jars/spark-unsafe_2.12-3.0.3.jar) to constructor java.nio.DirectByteBuffer(long,int)\n",
      "WARNING: Please consider reporting this to the maintainers of org.apache.spark.unsafe.Platform\n",
      "WARNING: Use --illegal-access=warn to enable warnings of further illegal reflective access operations\n",
      "WARNING: All illegal access operations will be denied in a future release\n",
      "Ivy Default Cache set to: /root/.ivy2/cache\n",
      "The jars for the packages stored in: /root/.ivy2/jars\n",
      ":: loading settings :: url = jar:file:/root/spark-3.0.3-bin-hadoop3.2/jars/ivy-2.4.0.jar!/org/apache/ivy/core/settings/ivysettings.xml\n",
      "org.apache.sedona#sedona-python-adapter-3.0_2.12 added as a dependency\n",
      "org.datasyslab#geotools-wrapper added as a dependency\n",
      ":: resolving dependencies :: org.apache.spark#spark-submit-parent-eaf8be56-07de-4721-a50d-7e299b2ae465;1.0\n",
      "\tconfs: [default]\n",
      "\tfound org.apache.sedona#sedona-python-adapter-3.0_2.12;1.0.1-incubating in central\n",
      "\tfound org.locationtech.jts#jts-core;1.18.0 in central\n",
      "\tfound org.wololo#jts2geojson;0.16.1 in central\n",
      "\tfound com.fasterxml.jackson.core#jackson-databind;2.12.2 in central\n",
      "\tfound com.fasterxml.jackson.core#jackson-annotations;2.12.2 in central\n",
      "\tfound com.fasterxml.jackson.core#jackson-core;2.12.2 in central\n",
      "\tfound org.apache.sedona#sedona-core-3.0_2.12;1.0.1-incubating in central\n",
      "\tfound org.apache.sedona#sedona-sql-3.0_2.12;1.0.1-incubating in central\n",
      "\tfound org.datasyslab#geotools-wrapper;geotools-24.1 in central\n",
      ":: resolution report :: resolve 3976ms :: artifacts dl 458ms\n",
      "\t:: modules in use:\n",
      "\tcom.fasterxml.jackson.core#jackson-annotations;2.12.2 from central in [default]\n",
      "\tcom.fasterxml.jackson.core#jackson-core;2.12.2 from central in [default]\n",
      "\tcom.fasterxml.jackson.core#jackson-databind;2.12.2 from central in [default]\n",
      "\torg.apache.sedona#sedona-core-3.0_2.12;1.0.1-incubating from central in [default]\n",
      "\torg.apache.sedona#sedona-python-adapter-3.0_2.12;1.0.1-incubating from central in [default]\n",
      "\torg.apache.sedona#sedona-sql-3.0_2.12;1.0.1-incubating from central in [default]\n",
      "\torg.datasyslab#geotools-wrapper;geotools-24.1 from central in [default]\n",
      "\torg.locationtech.jts#jts-core;1.18.0 from central in [default]\n",
      "\torg.wololo#jts2geojson;0.16.1 from central in [default]\n",
      "\t:: evicted modules:\n",
      "\torg.locationtech.jts#jts-core;1.18.1 by [org.locationtech.jts#jts-core;1.18.0] in [default]\n",
      "\t---------------------------------------------------------------------\n",
      "\t|                  |            modules            ||   artifacts   |\n",
      "\t|       conf       | number| search|dwnlded|evicted|| number|dwnlded|\n",
      "\t---------------------------------------------------------------------\n",
      "\t|      default     |   10  |   0   |   0   |   1   ||   9   |   0   |\n",
      "\t---------------------------------------------------------------------\n",
      ":: retrieving :: org.apache.spark#spark-submit-parent-eaf8be56-07de-4721-a50d-7e299b2ae465\n",
      "\tconfs: [default]\n",
      "\t0 artifacts copied, 9 already retrieved (0kB/212ms)\n",
      "21/10/12 09:24:50 WARN NativeCodeLoader: Unable to load native-hadoop library for your platform... using builtin-java classes where applicable\n",
      "Using Spark's default log4j profile: org/apache/spark/log4j-defaults.properties\n",
      "Setting default log level to \"WARN\".\n",
      "To adjust logging level use sc.setLogLevel(newLevel). For SparkR, use setLogLevel(newLevel).\n",
      "                                                                                \r"
     ]
    },
    {
     "data": {
      "text/plain": [
       "True"
      ]
     },
     "execution_count": 1,
     "metadata": {},
     "output_type": "execute_result"
    }
   ],
   "source": [
    "from pyspark.sql import SparkSession\n",
    "from sedona.register import SedonaRegistrator\n",
    "from sedona.utils import SedonaKryoRegistrator, KryoSerializer\n",
    "import geopandas as gpd\n",
    "\n",
    "spark = SparkSession. \\\n",
    "    builder. \\\n",
    "    appName('Milestone2 Loading data'). \\\n",
    "    master('local[*]'). \\\n",
    "    config(\"spark.serializer\", KryoSerializer.getName). \\\n",
    "    config(\"spark.kryo.registrator\", SedonaKryoRegistrator.getName). \\\n",
    "    config('spark.jars.packages',\n",
    "           'org.apache.sedona:sedona-python-adapter-3.0_2.12:1.0.1-incubating,'\n",
    "           'org.datasyslab:geotools-wrapper:geotools-24.1'). \\\n",
    "    getOrCreate()\n",
    "\n",
    "SedonaRegistrator.registerAll(spark)"
   ]
  },
  {
   "cell_type": "markdown",
   "id": "5190ee77",
   "metadata": {},
   "source": [
    "# Importing State and convert it to geospacial"
   ]
  },
  {
   "cell_type": "code",
   "execution_count": 2,
   "id": "459f2287",
   "metadata": {},
   "outputs": [
    {
     "name": "stderr",
     "output_type": "stream",
     "text": [
      "                                                                                \r"
     ]
    },
    {
     "name": "stdout",
     "output_type": "stream",
     "text": [
      "+-------------+--------------------+\n",
      "|       s_name|             s_bound|\n",
      "+-------------+--------------------+\n",
      "|       Alaska|POLYGON((-141.020...|\n",
      "|      Alabama|POLYGON((-88.1955...|\n",
      "|     Arkansas|POLYGON((-94.0416...|\n",
      "|      Arizona|POLYGON((-112.598...|\n",
      "|   California|POLYGON((-124.400...|\n",
      "|     Colorado|POLYGON((-109.044...|\n",
      "|  Connecticut|POLYGON((-73.4875...|\n",
      "|     Delaware|POLYGON((-75.7919...|\n",
      "|      Florida|POLYGON((-87.6050...|\n",
      "|      Georgia|POLYGON((-85.6082...|\n",
      "|       Hawaii|POLYGON((-154.628...|\n",
      "|         Iowa|POLYGON((-95.7623...|\n",
      "|        Idaho|POLYGON((-117.031...|\n",
      "|     Illinois|POLYGON((-90.6290...|\n",
      "|      Indiana|POLYGON((-87.5253...|\n",
      "|       Kansas|POLYGON((-102.050...|\n",
      "|     Kentucky|POLYGON((-89.5372...|\n",
      "|    Louisiana|POLYGON((-94.0430...|\n",
      "|Massachusetts|POLYGON((-72.7789...|\n",
      "|     Maryland|POLYGON((-79.4778...|\n",
      "+-------------+--------------------+\n",
      "only showing top 20 rows\n",
      "\n",
      "root\n",
      " |-- s_name: string (nullable = true)\n",
      " |-- s_bound: string (nullable = true)\n",
      "\n"
     ]
    },
    {
     "name": "stderr",
     "output_type": "stream",
     "text": [
      "                                                                                \r"
     ]
    },
    {
     "name": "stdout",
     "output_type": "stream",
     "text": [
      "+-------------+--------------------+\n",
      "|       s_name|             s_bound|\n",
      "+-------------+--------------------+\n",
      "|       Alaska|POLYGON ((-141.02...|\n",
      "|      Alabama|POLYGON ((-88.195...|\n",
      "|     Arkansas|POLYGON ((-94.041...|\n",
      "|      Arizona|POLYGON ((-112.59...|\n",
      "|   California|POLYGON ((-124.40...|\n",
      "|     Colorado|POLYGON ((-109.04...|\n",
      "|  Connecticut|POLYGON ((-73.487...|\n",
      "|     Delaware|POLYGON ((-75.791...|\n",
      "|      Florida|POLYGON ((-87.605...|\n",
      "|      Georgia|POLYGON ((-85.608...|\n",
      "|       Hawaii|POLYGON ((-154.62...|\n",
      "|         Iowa|POLYGON ((-95.762...|\n",
      "|        Idaho|POLYGON ((-117.03...|\n",
      "|     Illinois|POLYGON ((-90.629...|\n",
      "|      Indiana|POLYGON ((-87.525...|\n",
      "|       Kansas|POLYGON ((-102.05...|\n",
      "|     Kentucky|POLYGON ((-89.537...|\n",
      "|    Louisiana|POLYGON ((-94.043...|\n",
      "|Massachusetts|POLYGON ((-72.778...|\n",
      "|     Maryland|POLYGON ((-79.477...|\n",
      "+-------------+--------------------+\n",
      "only showing top 20 rows\n",
      "\n",
      "root\n",
      " |-- s_name: string (nullable = true)\n",
      " |-- s_bound: geometry (nullable = false)\n",
      "\n"
     ]
    }
   ],
   "source": [
    "states_wkt = spark.read.option(\"delimiter\", \"\\t\").option(\"header\", \"false\").csv(\"boundary-each-state.tsv\").toDF(\"s_name\",\"s_bound\")\n",
    "states_wkt.show()\n",
    "states_wkt.printSchema()\n",
    "\n",
    "states = states_wkt.selectExpr(\"s_name\", \"ST_GeomFromWKT(s_bound) as s_bound\")\n",
    "states.show()\n",
    "states.printSchema()\n",
    "states.createOrReplaceTempView(\"states\")"
   ]
  },
  {
   "cell_type": "markdown",
   "id": "65e0f84e",
   "metadata": {},
   "source": [
    "# Importing airports.dat and perform data cleaning"
   ]
  },
  {
   "cell_type": "code",
   "execution_count": 3,
   "id": "e63b793d",
   "metadata": {
    "scrolled": false
   },
   "outputs": [
    {
     "name": "stderr",
     "output_type": "stream",
     "text": [
      "\r",
      "[Stage 6:>                                                          (0 + 1) / 1]\r",
      "\r",
      "                                                                                \r"
     ]
    },
    {
     "name": "stdout",
     "output_type": "stream",
     "text": [
      "+----------+--------------------+--------------+----------------+----+----+--------------------+\n",
      "|Airport ID|                Name|          City|         Country|IATA|ICAO|            Location|\n",
      "+----------+--------------------+--------------+----------------+----+----+--------------------+\n",
      "|         1|      Goroka Airport|        Goroka|Papua New Guinea| GKA|AYGA|-6.08168983459000...|\n",
      "|         2|      Madang Airport|        Madang|Papua New Guinea| MAG|AYMD|-5.20707988739_14...|\n",
      "|         3|Mount Hagen Kagam...|   Mount Hagen|Papua New Guinea| HGU|AYMH|-5.82678985595703...|\n",
      "|         4|      Nadzab Airport|        Nadzab|Papua New Guinea| LAE|AYNZ|-6.569803_146.725...|\n",
      "|         5|Port Moresby Jack...|  Port Moresby|Papua New Guinea| POM|AYPY|-9.44338035583496...|\n",
      "|         6|Wewak Internation...|         Wewak|Papua New Guinea| WWK|AYWK|-3.58383011818_14...|\n",
      "|         7|  Narsarsuaq Airport|  Narssarssuaq|       Greenland| UAK|BGBW|61.1604995728_-45...|\n",
      "|         8|Godthaab / Nuuk A...|      Godthaab|       Greenland| GOH|BGGH|64.19090271_-51.6...|\n",
      "|         9|Kangerlussuaq Air...|   Sondrestrom|       Greenland| SFJ|BGSF|67.0122218992_-50...|\n",
      "|        10|      Thule Air Base|         Thule|       Greenland| THU|BGTL|76.5311965942_-68...|\n",
      "|        11|    Akureyri Airport|      Akureyri|         Iceland| AEY|BIAR|65.66000366210938...|\n",
      "|        12| Egilsstaðir Airport|   Egilsstadir|         Iceland| EGS|BIEG|65.2833023071289_...|\n",
      "|        13|Hornafjörður Airport|          Hofn|         Iceland| HFN|BIHN|64.295601_-15.227...|\n",
      "|        14|     Húsavík Airport|       Husavik|         Iceland| HZK|BIHU|65.952301_-17.426...|\n",
      "|        15|  Ísafjörður Airport|    Isafjordur|         Iceland| IFJ|BIIS|66.05809783935547...|\n",
      "|        16|Keflavik Internat...|      Keflavik|         Iceland| KEF|BIKF|63.985000610352_-...|\n",
      "|        17|Patreksfjörður Ai...|Patreksfjordur|         Iceland| PFJ|BIPA|65.555801_-23.965_11|\n",
      "|        18|   Reykjavik Airport|     Reykjavik|         Iceland| RKV|BIRK|64.1299972534_-21...|\n",
      "|        19|Siglufjörður Airport|  Siglufjordur|         Iceland| SIJ|BISI|66.133301_-18.916...|\n",
      "|        20|Vestmannaeyjar Ai...|Vestmannaeyjar|         Iceland| VEY|BIVM|63.42430114746094...|\n",
      "+----------+--------------------+--------------+----------------+----+----+--------------------+\n",
      "only showing top 20 rows\n",
      "\n",
      "root\n",
      " |-- Airport ID: string (nullable = true)\n",
      " |-- Name: string (nullable = true)\n",
      " |-- City: string (nullable = true)\n",
      " |-- Country: string (nullable = true)\n",
      " |-- IATA: string (nullable = true)\n",
      " |-- ICAO: string (nullable = true)\n",
      " |-- Location: string (nullable = false)\n",
      "\n"
     ]
    },
    {
     "name": "stderr",
     "output_type": "stream",
     "text": [
      "[Stage 7:>                                                          (0 + 1) / 1]\r"
     ]
    },
    {
     "name": "stdout",
     "output_type": "stream",
     "text": [
      "+----------+--------------------+--------------+----------------+----+----+--------------------+\n",
      "|Airport ID|                Name|          City|         Country|IATA|ICAO| geospacial_Location|\n",
      "+----------+--------------------+--------------+----------------+----+----+--------------------+\n",
      "|         1|      Goroka Airport|        Goroka|Papua New Guinea| GKA|AYGA|POINT (-6.0816898...|\n",
      "|         2|      Madang Airport|        Madang|Papua New Guinea| MAG|AYMD|POINT (-5.2070798...|\n",
      "|         3|Mount Hagen Kagam...|   Mount Hagen|Papua New Guinea| HGU|AYMH|POINT (-5.8267898...|\n",
      "|         4|      Nadzab Airport|        Nadzab|Papua New Guinea| LAE|AYNZ|POINT (-6.569803 ...|\n",
      "|         5|Port Moresby Jack...|  Port Moresby|Papua New Guinea| POM|AYPY|POINT (-9.4433803...|\n",
      "|         6|Wewak Internation...|         Wewak|Papua New Guinea| WWK|AYWK|POINT (-3.5838301...|\n",
      "|         7|  Narsarsuaq Airport|  Narssarssuaq|       Greenland| UAK|BGBW|POINT (61.1604995...|\n",
      "|         8|Godthaab / Nuuk A...|      Godthaab|       Greenland| GOH|BGGH|POINT (64.1909027...|\n",
      "|         9|Kangerlussuaq Air...|   Sondrestrom|       Greenland| SFJ|BGSF|POINT (67.0122218...|\n",
      "|        10|      Thule Air Base|         Thule|       Greenland| THU|BGTL|POINT (76.5311965...|\n",
      "|        11|    Akureyri Airport|      Akureyri|         Iceland| AEY|BIAR|POINT (65.6600036...|\n",
      "|        12| Egilsstaðir Airport|   Egilsstadir|         Iceland| EGS|BIEG|POINT (65.2833023...|\n",
      "|        13|Hornafjörður Airport|          Hofn|         Iceland| HFN|BIHN|POINT (64.295601 ...|\n",
      "|        14|     Húsavík Airport|       Husavik|         Iceland| HZK|BIHU|POINT (65.952301 ...|\n",
      "|        15|  Ísafjörður Airport|    Isafjordur|         Iceland| IFJ|BIIS|POINT (66.0580978...|\n",
      "|        16|Keflavik Internat...|      Keflavik|         Iceland| KEF|BIKF|POINT (63.9850006...|\n",
      "|        17|Patreksfjörður Ai...|Patreksfjordur|         Iceland| PFJ|BIPA|POINT (65.555801 ...|\n",
      "|        18|   Reykjavik Airport|     Reykjavik|         Iceland| RKV|BIRK|POINT (64.1299972...|\n",
      "|        19|Siglufjörður Airport|  Siglufjordur|         Iceland| SIJ|BISI|POINT (66.133301 ...|\n",
      "|        20|Vestmannaeyjar Ai...|Vestmannaeyjar|         Iceland| VEY|BIVM|POINT (63.4243011...|\n",
      "+----------+--------------------+--------------+----------------+----+----+--------------------+\n",
      "only showing top 20 rows\n",
      "\n",
      "root\n",
      " |-- Airport ID: string (nullable = true)\n",
      " |-- Name: string (nullable = true)\n",
      " |-- City: string (nullable = true)\n",
      " |-- Country: string (nullable = true)\n",
      " |-- IATA: string (nullable = true)\n",
      " |-- ICAO: string (nullable = true)\n",
      " |-- geospacial_Location: geometry (nullable = false)\n",
      "\n"
     ]
    },
    {
     "name": "stderr",
     "output_type": "stream",
     "text": [
      "\r",
      "                                                                                \r"
     ]
    }
   ],
   "source": [
    "airport_dat = spark.read.option(\"delimiter\", \",\").option(\"header\", \"false\").csv(\"airports.dat\").toDF(\"Airport ID\",\"Name\"\n",
    ",\"City\",\"Country\",\"IATA\",\"ICAO\",\"Latitude\",\"Longitude\",\"Altitude\",\"Timezone\",\"DST\",\"Database Time Zone\",\"Type\",\"Source\")\n",
    "airport_dat = airport_dat.drop(\"Source\")\n",
    "airport_dat = airport_dat.drop(\"Type\")\n",
    "airport_dat = airport_dat.drop(\"Database Time Zone\")\n",
    "airport_dat = airport_dat.drop(\"DST\")\n",
    "airport_dat = airport_dat.drop(\"Timezone\")\n",
    "airport_dat.createOrReplaceTempView(\"airport\")\n",
    "\n",
    "from pyspark.sql import functions\n",
    "airport_dat = airport_dat.select(\"Airport ID\", \"Name\", \"City\", \"Country\",\"IATA\",\"ICAO\",\n",
    "                                 functions.concat_ws(\"_\",airport_dat.Latitude,airport_dat.Longitude,airport_dat.Altitude\n",
    "                                                    ).alias(\"Location\"))\n",
    "airport_dat.show()\n",
    "airport_dat.printSchema()\n",
    "\n",
    "airport = airport_dat.selectExpr(\"*\", \"ST_PointFromText(Location, \\'_\\') as geospacial_Location\")\n",
    "airport = airport.drop(\"Location\")\n",
    "airport.show()\n",
    "airport.printSchema()"
   ]
  },
  {
   "cell_type": "markdown",
   "id": "f09b3ea2",
   "metadata": {},
   "source": [
    "# Importing airline.dat and perform data cleaning"
   ]
  },
  {
   "cell_type": "code",
   "execution_count": 4,
   "id": "2d4c0a2b",
   "metadata": {
    "scrolled": false
   },
   "outputs": [
    {
     "name": "stderr",
     "output_type": "stream",
     "text": [
      "[Stage 9:>                                                          (0 + 1) / 1]\r"
     ]
    },
    {
     "name": "stdout",
     "output_type": "stream",
     "text": [
      "+---------+--------------------+-----+----+----+---------------+--------------+------+\n",
      "|AirlineID|                Name|Alias|IATA|ICAO|       Callsign|       Country|Active|\n",
      "+---------+--------------------+-----+----+----+---------------+--------------+------+\n",
      "|        1|      Private flight|   \\N|   -| N/A|            N/A|           N/A|     Y|\n",
      "|        2|         135 Airways|   \\N| N/A| GNL|        GENERAL| United States|     N|\n",
      "|        3|       1Time Airline|   \\N|  1T| RNX|        NEXTIME|  South Africa|     Y|\n",
      "|        4|2 Sqn No 1 Elemen...|   \\N| N/A| WYT|            N/A|United Kingdom|     N|\n",
      "|        5|     213 Flight Unit|   \\N| N/A| TFU|            N/A|        Russia|     N|\n",
      "|        6|223 Flight Unit S...|   \\N| N/A| CHD| CHKALOVSK-AVIA|        Russia|     N|\n",
      "|        7|   224th Flight Unit|   \\N| N/A| TTF|     CARGO UNIT|        Russia|     N|\n",
      "|        8|         247 Jet Ltd|   \\N| N/A| TWF|   CLOUD RUNNER|United Kingdom|     N|\n",
      "|        9|         3D Aviation|   \\N| N/A| SEC|        SECUREX| United States|     N|\n",
      "|       10|         40-Mile Air|   \\N|  Q5| MLA|       MILE-AIR| United States|     Y|\n",
      "|       11|              4D Air|   \\N| N/A| QRT|        QUARTET|      Thailand|     N|\n",
      "|       12|611897 Alberta Li...|   \\N| N/A| THD|          DONUT|        Canada|     N|\n",
      "|       13|    Ansett Australia|   \\N|  AN| AAA|         ANSETT|     Australia|     Y|\n",
      "|       14|Abacus International|   \\N|  1B| N/A|            N/A|     Singapore|     Y|\n",
      "|       15|     Abelag Aviation|   \\N|  W9| AAB|            ABG|       Belgium|     N|\n",
      "|       16|      Army Air Corps|   \\N| N/A| AAC|        ARMYAIR|United Kingdom|     N|\n",
      "|       17|Aero Aviation Cen...|   \\N| N/A| AAD|        SUNRISE|        Canada|     N|\n",
      "|       18|Aero Servicios Ej...|   \\N| N/A| SII|         ASEISA|        Mexico|     N|\n",
      "|       19|         Aero Biniza|   \\N| N/A| BZS|         BINIZA|        Mexico|     N|\n",
      "|       20|       Aero Albatros|   \\N| N/A| ABM|ALBATROS ESPANA|         Spain|     N|\n",
      "+---------+--------------------+-----+----+----+---------------+--------------+------+\n",
      "only showing top 20 rows\n",
      "\n",
      "root\n",
      " |-- AirlineID: string (nullable = false)\n",
      " |-- Name: string (nullable = false)\n",
      " |-- Alias: string (nullable = false)\n",
      " |-- IATA: string (nullable = false)\n",
      " |-- ICAO: string (nullable = false)\n",
      " |-- Callsign: string (nullable = false)\n",
      " |-- Country: string (nullable = false)\n",
      " |-- Active: string (nullable = false)\n",
      "\n"
     ]
    },
    {
     "name": "stderr",
     "output_type": "stream",
     "text": [
      "\r",
      "                                                                                \r"
     ]
    }
   ],
   "source": [
    "airline_dat = spark.read.option(\"delimiter\", \",\").option(\"header\", \"false\").csv(\"airlines.dat\").toDF(\"AirlineID\",\"Name\"\n",
    ",\"Alias\",\"IATA\",\"ICAO\",\"Callsign\",\"Country\",\"Active\")\n",
    "airline_dat.createOrReplaceTempView(\"airline\")\n",
    "airline_dat = spark.sql(\"select * from airline where AirlineID > 0\")\n",
    "airline_dat = airline_dat.fillna('N/A')\n",
    "airline_dat.show()\n",
    "airline_dat.printSchema()"
   ]
  },
  {
   "cell_type": "markdown",
   "id": "0bab2a6e",
   "metadata": {},
   "source": [
    "# Importing routes.dat"
   ]
  },
  {
   "cell_type": "code",
   "execution_count": 12,
   "id": "d0129ca1",
   "metadata": {
    "scrolled": false
   },
   "outputs": [
    {
     "name": "stdout",
     "output_type": "stream",
     "text": [
      "+-------+---------+-------------+---------------+------------------+--------------------+---------+-----+\n",
      "|Airline|AirlineID|SourceAirport|SourceAirportID|DestinationAirport|DestinationAirportID|Codeshare|Stops|\n",
      "+-------+---------+-------------+---------------+------------------+--------------------+---------+-----+\n",
      "|     2B|      410|          AER|           2965|               KZN|                2990|     null|    0|\n",
      "|     2B|      410|          ASF|           2966|               KZN|                2990|     null|    0|\n",
      "|     2B|      410|          ASF|           2966|               MRV|                2962|     null|    0|\n",
      "|     2B|      410|          CEK|           2968|               KZN|                2990|     null|    0|\n",
      "|     2B|      410|          CEK|           2968|               OVB|                4078|     null|    0|\n",
      "|     2B|      410|          DME|           4029|               KZN|                2990|     null|    0|\n",
      "|     2B|      410|          DME|           4029|               NBC|                6969|     null|    0|\n",
      "|     2B|      410|          DME|           4029|               TGK|                  \\N|     null|    0|\n",
      "|     2B|      410|          DME|           4029|               UUA|                6160|     null|    0|\n",
      "|     2B|      410|          EGO|           6156|               KGD|                2952|     null|    0|\n",
      "|     2B|      410|          EGO|           6156|               KZN|                2990|     null|    0|\n",
      "|     2B|      410|          GYD|           2922|               NBC|                6969|     null|    0|\n",
      "|     2B|      410|          KGD|           2952|               EGO|                6156|     null|    0|\n",
      "|     2B|      410|          KZN|           2990|               AER|                2965|     null|    0|\n",
      "|     2B|      410|          KZN|           2990|               ASF|                2966|     null|    0|\n",
      "|     2B|      410|          KZN|           2990|               CEK|                2968|     null|    0|\n",
      "|     2B|      410|          KZN|           2990|               DME|                4029|     null|    0|\n",
      "|     2B|      410|          KZN|           2990|               EGO|                6156|     null|    0|\n",
      "|     2B|      410|          KZN|           2990|               LED|                2948|     null|    0|\n",
      "|     2B|      410|          KZN|           2990|               SVX|                2975|     null|    0|\n",
      "+-------+---------+-------------+---------------+------------------+--------------------+---------+-----+\n",
      "only showing top 20 rows\n",
      "\n",
      "+-------+---------+-------------+---------------+------------------+--------------------+---------+-----+---------+---------+----------+-----+----+----+----------+--------+------+\n",
      "|Airline|AirlineID|SourceAirport|SourceAirportID|DestinationAirport|DestinationAirportID|Codeshare|Stops|Equipment|AirlineID|      Name|Alias|IATA|ICAO|  Callsign| Country|Active|\n",
      "+-------+---------+-------------+---------------+------------------+--------------------+---------+-----+---------+---------+----------+-----+----+----+----------+--------+------+\n",
      "|     2B|      410|          AER|           2965|               KZN|                2990|     null|    0|      CR2|      410|Aerocondor|   \\N|  2B| ARD|AEROCONDOR|Portugal|     Y|\n",
      "|     2B|      410|          ASF|           2966|               KZN|                2990|     null|    0|      CR2|      410|Aerocondor|   \\N|  2B| ARD|AEROCONDOR|Portugal|     Y|\n",
      "|     2B|      410|          ASF|           2966|               MRV|                2962|     null|    0|      CR2|      410|Aerocondor|   \\N|  2B| ARD|AEROCONDOR|Portugal|     Y|\n",
      "|     2B|      410|          CEK|           2968|               KZN|                2990|     null|    0|      CR2|      410|Aerocondor|   \\N|  2B| ARD|AEROCONDOR|Portugal|     Y|\n",
      "|     2B|      410|          CEK|           2968|               OVB|                4078|     null|    0|      CR2|      410|Aerocondor|   \\N|  2B| ARD|AEROCONDOR|Portugal|     Y|\n",
      "|     2B|      410|          DME|           4029|               KZN|                2990|     null|    0|      CR2|      410|Aerocondor|   \\N|  2B| ARD|AEROCONDOR|Portugal|     Y|\n",
      "|     2B|      410|          DME|           4029|               NBC|                6969|     null|    0|      CR2|      410|Aerocondor|   \\N|  2B| ARD|AEROCONDOR|Portugal|     Y|\n",
      "|     2B|      410|          DME|           4029|               TGK|                  \\N|     null|    0|      CR2|      410|Aerocondor|   \\N|  2B| ARD|AEROCONDOR|Portugal|     Y|\n",
      "|     2B|      410|          DME|           4029|               UUA|                6160|     null|    0|      CR2|      410|Aerocondor|   \\N|  2B| ARD|AEROCONDOR|Portugal|     Y|\n",
      "|     2B|      410|          EGO|           6156|               KGD|                2952|     null|    0|      CR2|      410|Aerocondor|   \\N|  2B| ARD|AEROCONDOR|Portugal|     Y|\n",
      "|     2B|      410|          EGO|           6156|               KZN|                2990|     null|    0|      CR2|      410|Aerocondor|   \\N|  2B| ARD|AEROCONDOR|Portugal|     Y|\n",
      "|     2B|      410|          GYD|           2922|               NBC|                6969|     null|    0|      CR2|      410|Aerocondor|   \\N|  2B| ARD|AEROCONDOR|Portugal|     Y|\n",
      "|     2B|      410|          KGD|           2952|               EGO|                6156|     null|    0|      CR2|      410|Aerocondor|   \\N|  2B| ARD|AEROCONDOR|Portugal|     Y|\n",
      "|     2B|      410|          KZN|           2990|               AER|                2965|     null|    0|      CR2|      410|Aerocondor|   \\N|  2B| ARD|AEROCONDOR|Portugal|     Y|\n",
      "|     2B|      410|          KZN|           2990|               ASF|                2966|     null|    0|      CR2|      410|Aerocondor|   \\N|  2B| ARD|AEROCONDOR|Portugal|     Y|\n",
      "|     2B|      410|          KZN|           2990|               CEK|                2968|     null|    0|      CR2|      410|Aerocondor|   \\N|  2B| ARD|AEROCONDOR|Portugal|     Y|\n",
      "|     2B|      410|          KZN|           2990|               DME|                4029|     null|    0|      CR2|      410|Aerocondor|   \\N|  2B| ARD|AEROCONDOR|Portugal|     Y|\n",
      "|     2B|      410|          KZN|           2990|               EGO|                6156|     null|    0|      CR2|      410|Aerocondor|   \\N|  2B| ARD|AEROCONDOR|Portugal|     Y|\n",
      "|     2B|      410|          KZN|           2990|               LED|                2948|     null|    0|      CR2|      410|Aerocondor|   \\N|  2B| ARD|AEROCONDOR|Portugal|     Y|\n",
      "|     2B|      410|          KZN|           2990|               SVX|                2975|     null|    0|      CR2|      410|Aerocondor|   \\N|  2B| ARD|AEROCONDOR|Portugal|     Y|\n",
      "+-------+---------+-------------+---------------+------------------+--------------------+---------+-----+---------+---------+----------+-----+----+----+----------+--------+------+\n",
      "only showing top 20 rows\n",
      "\n"
     ]
    }
   ],
   "source": [
    "route_dat = spark.read.option(\"delimiter\", \",\").option(\"header\", \"false\").csv(\"routes.dat\").toDF(\"Airline\",\"AirlineID\"\n",
    ",\"SourceAirport\",\"SourceAirportID\",\"DestinationAirport\",\"DestinationAirportID\",\"Codeshare\",\"Stops\",\"Equipment\")\n",
    "route_dat.createOrReplaceTempView(\"route\")\n",
    "route_dat = route_dat.drop(\"Equipment\")\n",
    "\n",
    "#route_dat = route_dat.na.replace(\"\\\\N\",\"NULL\")\n",
    "route_dat.show()\n",
    "#route_dat.printSchema()\n",
    "\n",
    "route = spark.sql(\n",
    "'''\n",
    "    SELECT *\n",
    "    FROM route, airline\n",
    "    WHERE (route.Airline = airline.IATA) or (route.Airline = airline.ICAO)\n",
    "''')\n",
    "route.show()"
   ]
  },
  {
   "cell_type": "code",
   "execution_count": null,
   "id": "49e76688",
   "metadata": {},
   "outputs": [],
   "source": []
  }
 ],
 "metadata": {
  "kernelspec": {
   "display_name": "Python 3 (ipykernel)",
   "language": "python",
   "name": "python3"
  },
  "language_info": {
   "codemirror_mode": {
    "name": "ipython",
    "version": 3
   },
   "file_extension": ".py",
   "mimetype": "text/x-python",
   "name": "python",
   "nbconvert_exporter": "python",
   "pygments_lexer": "ipython3",
   "version": "3.8.10"
  }
 },
 "nbformat": 4,
 "nbformat_minor": 5
}
