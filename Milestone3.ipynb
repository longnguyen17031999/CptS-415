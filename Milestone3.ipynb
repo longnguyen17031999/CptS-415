{
 "cells": [
  {
   "cell_type": "code",
   "execution_count": 1,
   "id": "138c2841",
   "metadata": {},
   "outputs": [
    {
     "name": "stderr",
     "output_type": "stream",
     "text": [
      "21/11/11 11:56:35 WARN Utils: Your hostname, DESKTOP-RV59F4C resolves to a loopback address: 127.0.1.1; using 192.168.20.1 instead (on interface eth0)\n",
      "21/11/11 11:56:35 WARN Utils: Set SPARK_LOCAL_IP if you need to bind to another address\n",
      "WARNING: An illegal reflective access operation has occurred\n",
      "WARNING: Illegal reflective access by org.apache.spark.unsafe.Platform (file:/root/spark-3.0.3-bin-hadoop3.2/jars/spark-unsafe_2.12-3.0.3.jar) to constructor java.nio.DirectByteBuffer(long,int)\n",
      "WARNING: Please consider reporting this to the maintainers of org.apache.spark.unsafe.Platform\n",
      "WARNING: Use --illegal-access=warn to enable warnings of further illegal reflective access operations\n",
      "WARNING: All illegal access operations will be denied in a future release\n",
      "Ivy Default Cache set to: /root/.ivy2/cache\n",
      "The jars for the packages stored in: /root/.ivy2/jars\n",
      ":: loading settings :: url = jar:file:/root/spark-3.0.3-bin-hadoop3.2/jars/ivy-2.4.0.jar!/org/apache/ivy/core/settings/ivysettings.xml\n",
      "org.apache.sedona#sedona-python-adapter-3.0_2.12 added as a dependency\n",
      "org.datasyslab#geotools-wrapper added as a dependency\n",
      ":: resolving dependencies :: org.apache.spark#spark-submit-parent-72e4b39c-f84c-4820-8e02-230810a68daf;1.0\n",
      "\tconfs: [default]\n",
      "\tfound org.apache.sedona#sedona-python-adapter-3.0_2.12;1.0.1-incubating in central\n",
      "\tfound org.locationtech.jts#jts-core;1.18.0 in central\n",
      "\tfound org.wololo#jts2geojson;0.16.1 in central\n",
      "\tfound com.fasterxml.jackson.core#jackson-databind;2.12.2 in central\n",
      "\tfound com.fasterxml.jackson.core#jackson-annotations;2.12.2 in central\n",
      "\tfound com.fasterxml.jackson.core#jackson-core;2.12.2 in central\n",
      "\tfound org.apache.sedona#sedona-core-3.0_2.12;1.0.1-incubating in central\n",
      "\tfound org.apache.sedona#sedona-sql-3.0_2.12;1.0.1-incubating in central\n",
      "\tfound org.datasyslab#geotools-wrapper;geotools-24.1 in central\n",
      ":: resolution report :: resolve 1304ms :: artifacts dl 184ms\n",
      "\t:: modules in use:\n",
      "\tcom.fasterxml.jackson.core#jackson-annotations;2.12.2 from central in [default]\n",
      "\tcom.fasterxml.jackson.core#jackson-core;2.12.2 from central in [default]\n",
      "\tcom.fasterxml.jackson.core#jackson-databind;2.12.2 from central in [default]\n",
      "\torg.apache.sedona#sedona-core-3.0_2.12;1.0.1-incubating from central in [default]\n",
      "\torg.apache.sedona#sedona-python-adapter-3.0_2.12;1.0.1-incubating from central in [default]\n",
      "\torg.apache.sedona#sedona-sql-3.0_2.12;1.0.1-incubating from central in [default]\n",
      "\torg.datasyslab#geotools-wrapper;geotools-24.1 from central in [default]\n",
      "\torg.locationtech.jts#jts-core;1.18.0 from central in [default]\n",
      "\torg.wololo#jts2geojson;0.16.1 from central in [default]\n",
      "\t:: evicted modules:\n",
      "\torg.locationtech.jts#jts-core;1.18.1 by [org.locationtech.jts#jts-core;1.18.0] in [default]\n",
      "\t---------------------------------------------------------------------\n",
      "\t|                  |            modules            ||   artifacts   |\n",
      "\t|       conf       | number| search|dwnlded|evicted|| number|dwnlded|\n",
      "\t---------------------------------------------------------------------\n",
      "\t|      default     |   10  |   0   |   0   |   1   ||   9   |   0   |\n",
      "\t---------------------------------------------------------------------\n",
      ":: retrieving :: org.apache.spark#spark-submit-parent-72e4b39c-f84c-4820-8e02-230810a68daf\n",
      "\tconfs: [default]\n",
      "\t0 artifacts copied, 9 already retrieved (0kB/58ms)\n",
      "21/11/11 11:56:39 WARN NativeCodeLoader: Unable to load native-hadoop library for your platform... using builtin-java classes where applicable\n",
      "Using Spark's default log4j profile: org/apache/spark/log4j-defaults.properties\n",
      "Setting default log level to \"WARN\".\n",
      "To adjust logging level use sc.setLogLevel(newLevel). For SparkR, use setLogLevel(newLevel).\n",
      "21/11/11 11:56:44 WARN SparkContext: Please ensure that the number of slots available on your executors is limited by the number of cores to task cpus and not another custom resource. If cores is not the limiting resource then dynamic allocation will not work properly!\n",
      "                                                                                \r"
     ]
    },
    {
     "data": {
      "text/plain": [
       "True"
      ]
     },
     "execution_count": 1,
     "metadata": {},
     "output_type": "execute_result"
    }
   ],
   "source": [
    "from pyspark.sql import SparkSession\n",
    "from sedona.register import SedonaRegistrator\n",
    "from sedona.utils import SedonaKryoRegistrator, KryoSerializer\n",
    "import geopandas as gpd\n",
    "\n",
    "spark = SparkSession. \\\n",
    "    builder. \\\n",
    "    appName('Milestone3 - Airline Search'). \\\n",
    "    master('spark://DESKTOP-RV59F4C.localdomain:7077'). \\\n",
    "    config(\"spark.serializer\", KryoSerializer.getName). \\\n",
    "    config(\"spark.kryo.registrator\", SedonaKryoRegistrator.getName). \\\n",
    "    config('spark.jars.packages',\n",
    "           'org.apache.sedona:sedona-python-adapter-3.0_2.12:1.0.1-incubating,'\n",
    "           'org.datasyslab:geotools-wrapper:geotools-24.1'). \\\n",
    "    getOrCreate()\n",
    "\n",
    "SedonaRegistrator.registerAll(spark)"
   ]
  },
  {
   "cell_type": "markdown",
   "id": "5fb71059",
   "metadata": {},
   "source": [
    "## Load state boundries in WKT TSV and convert WKT string column to a geometry column"
   ]
  },
  {
   "cell_type": "code",
   "execution_count": 2,
   "id": "5d7afb1b",
   "metadata": {},
   "outputs": [
    {
     "name": "stderr",
     "output_type": "stream",
     "text": [
      "                                                                                \r"
     ]
    },
    {
     "name": "stdout",
     "output_type": "stream",
     "text": [
      "+-------------+--------------------+\n",
      "|       s_name|             s_bound|\n",
      "+-------------+--------------------+\n",
      "|       Alaska|POLYGON((-141.020...|\n",
      "|      Alabama|POLYGON((-88.1955...|\n",
      "|     Arkansas|POLYGON((-94.0416...|\n",
      "|      Arizona|POLYGON((-112.598...|\n",
      "|   California|POLYGON((-124.400...|\n",
      "|     Colorado|POLYGON((-109.044...|\n",
      "|  Connecticut|POLYGON((-73.4875...|\n",
      "|     Delaware|POLYGON((-75.7919...|\n",
      "|      Florida|POLYGON((-87.6050...|\n",
      "|      Georgia|POLYGON((-85.6082...|\n",
      "|       Hawaii|POLYGON((-154.628...|\n",
      "|         Iowa|POLYGON((-95.7623...|\n",
      "|        Idaho|POLYGON((-117.031...|\n",
      "|     Illinois|POLYGON((-90.6290...|\n",
      "|      Indiana|POLYGON((-87.5253...|\n",
      "|       Kansas|POLYGON((-102.050...|\n",
      "|     Kentucky|POLYGON((-89.5372...|\n",
      "|    Louisiana|POLYGON((-94.0430...|\n",
      "|Massachusetts|POLYGON((-72.7789...|\n",
      "|     Maryland|POLYGON((-79.4778...|\n",
      "+-------------+--------------------+\n",
      "only showing top 20 rows\n",
      "\n",
      "root\n",
      " |-- s_name: string (nullable = true)\n",
      " |-- s_bound: string (nullable = true)\n",
      "\n"
     ]
    },
    {
     "name": "stderr",
     "output_type": "stream",
     "text": [
      "                                                                                \r"
     ]
    },
    {
     "name": "stdout",
     "output_type": "stream",
     "text": [
      "+-------------+--------------------+\n",
      "|       s_name|             s_bound|\n",
      "+-------------+--------------------+\n",
      "|       Alaska|POLYGON ((-141.02...|\n",
      "|      Alabama|POLYGON ((-88.195...|\n",
      "|     Arkansas|POLYGON ((-94.041...|\n",
      "|      Arizona|POLYGON ((-112.59...|\n",
      "|   California|POLYGON ((-124.40...|\n",
      "|     Colorado|POLYGON ((-109.04...|\n",
      "|  Connecticut|POLYGON ((-73.487...|\n",
      "|     Delaware|POLYGON ((-75.791...|\n",
      "|      Florida|POLYGON ((-87.605...|\n",
      "|      Georgia|POLYGON ((-85.608...|\n",
      "|       Hawaii|POLYGON ((-154.62...|\n",
      "|         Iowa|POLYGON ((-95.762...|\n",
      "|        Idaho|POLYGON ((-117.03...|\n",
      "|     Illinois|POLYGON ((-90.629...|\n",
      "|      Indiana|POLYGON ((-87.525...|\n",
      "|       Kansas|POLYGON ((-102.05...|\n",
      "|     Kentucky|POLYGON ((-89.537...|\n",
      "|    Louisiana|POLYGON ((-94.043...|\n",
      "|Massachusetts|POLYGON ((-72.778...|\n",
      "|     Maryland|POLYGON ((-79.477...|\n",
      "+-------------+--------------------+\n",
      "only showing top 20 rows\n",
      "\n",
      "root\n",
      " |-- s_name: string (nullable = true)\n",
      " |-- s_bound: geometry (nullable = false)\n",
      "\n"
     ]
    }
   ],
   "source": [
    "states_wkt = spark.read.option(\"delimiter\", \"\\t\").option(\"header\", \"false\").csv(\"boundary-each-state.tsv\").toDF(\"s_name\",\"s_bound\")\n",
    "states_wkt.show()\n",
    "states_wkt.printSchema()\n",
    "\n",
    "states = states_wkt.selectExpr(\"s_name\", \"ST_GeomFromWKT(s_bound) as s_bound\")\n",
    "states.show()\n",
    "states.printSchema()\n",
    "states.createOrReplaceTempView(\"states\")"
   ]
  },
  {
   "cell_type": "markdown",
   "id": "89afd8bd",
   "metadata": {},
   "source": [
    "## Importing airports.dat and perform data cleaning"
   ]
  },
  {
   "cell_type": "code",
   "execution_count": 224,
   "id": "d1d4013e",
   "metadata": {},
   "outputs": [
    {
     "name": "stdout",
     "output_type": "stream",
     "text": [
      "+---------+--------------------+--------------+----------------+----+----+--------------------+\n",
      "|AirportID|                Name|          City|         Country|IATA|ICAO| geospacial_Location|\n",
      "+---------+--------------------+--------------+----------------+----+----+--------------------+\n",
      "|        1|      Goroka Airport|        Goroka|Papua New Guinea| GKA|AYGA|POINT (145.391998...|\n",
      "|        2|      Madang Airport|        Madang|Papua New Guinea| MAG|AYMD|POINT (145.789001...|\n",
      "|        3|Mount Hagen Kagam...|   Mount Hagen|Papua New Guinea| HGU|AYMH|POINT (144.296005...|\n",
      "|        4|      Nadzab Airport|        Nadzab|Papua New Guinea| LAE|AYNZ|POINT (146.725977...|\n",
      "|        5|Port Moresby Jack...|  Port Moresby|Papua New Guinea| POM|AYPY|POINT (147.220001...|\n",
      "|        6|Wewak Internation...|         Wewak|Papua New Guinea| WWK|AYWK|POINT (143.669006...|\n",
      "|        7|  Narsarsuaq Airport|  Narssarssuaq|       Greenland| UAK|BGBW|POINT (-45.425998...|\n",
      "|        8|Godthaab / Nuuk A...|      Godthaab|       Greenland| GOH|BGGH|POINT (-51.678100...|\n",
      "|        9|Kangerlussuaq Air...|   Sondrestrom|       Greenland| SFJ|BGSF|POINT (-50.711603...|\n",
      "|       10|      Thule Air Base|         Thule|       Greenland| THU|BGTL|POINT (-68.703201...|\n",
      "|       11|    Akureyri Airport|      Akureyri|         Iceland| AEY|BIAR|POINT (-18.072700...|\n",
      "|       12| Egilsstaðir Airport|   Egilsstadir|         Iceland| EGS|BIEG|POINT (-14.401399...|\n",
      "|       13|Hornafjörður Airport|          Hofn|         Iceland| HFN|BIHN|POINT (-15.2272 6...|\n",
      "|       14|     Húsavík Airport|       Husavik|         Iceland| HZK|BIHU|POINT (-17.426001...|\n",
      "|       15|  Ísafjörður Airport|    Isafjordur|         Iceland| IFJ|BIIS|POINT (-23.135299...|\n",
      "|       16|Keflavik Internat...|      Keflavik|         Iceland| KEF|BIKF|POINT (-22.605600...|\n",
      "|       17|Patreksfjörður Ai...|Patreksfjordur|         Iceland| PFJ|BIPA|POINT (-23.965 65...|\n",
      "|       18|   Reykjavik Airport|     Reykjavik|         Iceland| RKV|BIRK|POINT (-21.940599...|\n",
      "|       19|Siglufjörður Airport|  Siglufjordur|         Iceland| SIJ|BISI|POINT (-18.9167 6...|\n",
      "|       20|Vestmannaeyjar Ai...|Vestmannaeyjar|         Iceland| VEY|BIVM|POINT (-20.278900...|\n",
      "+---------+--------------------+--------------+----------------+----+----+--------------------+\n",
      "only showing top 20 rows\n",
      "\n",
      "root\n",
      " |-- AirportID: string (nullable = false)\n",
      " |-- Name: string (nullable = false)\n",
      " |-- City: string (nullable = false)\n",
      " |-- Country: string (nullable = false)\n",
      " |-- IATA: string (nullable = false)\n",
      " |-- ICAO: string (nullable = false)\n",
      " |-- geospacial_Location: geometry (nullable = false)\n",
      "\n"
     ]
    }
   ],
   "source": [
    "airport_dat = spark.read.option(\"delimiter\", \",\").option(\"header\", \"false\").csv(\"airports.dat\").toDF(\"AirportID\",\"Name\"\n",
    ",\"City\",\"Country\",\"IATA\",\"ICAO\",\"Latitude\",\"Longitude\",\"Altitude\",\"Timezone\",\"DST\",\"Database Time Zone\",\"Type\",\"Source\")\n",
    "airport_dat = airport_dat.drop(\"Source\")\n",
    "airport_dat = airport_dat.drop(\"Type\")\n",
    "airport_dat = airport_dat.drop(\"Database Time Zone\")\n",
    "airport_dat = airport_dat.drop(\"DST\")\n",
    "airport_dat = airport_dat.drop(\"Timezone\")\n",
    "airport_dat = airport_dat.drop(\"Altitude\")\n",
    "airport_dat = airport_dat.fillna('N/A')\n",
    "airport_dat = airport_dat.na.replace(\"\\\\N\",\"N/A\")\n",
    "airport_dat = airport_dat.na.replace(\"-\",\"N/A\")\n",
    "\n",
    "from pyspark.sql import functions\n",
    "airport = airport_dat.select(\"AirportID\", \"Name\", \"City\", \"Country\",\"IATA\",\"ICAO\",\n",
    "                                 functions.concat_ws(\"_\",airport_dat.Longitude,airport_dat.Latitude).alias(\"Location\"))\n",
    "\n",
    "airport = airport.selectExpr(\"*\", \"ST_PointFromText(Location, \\'_\\') as geospacial_Location\")\n",
    "airport = airport.drop(\"Location\")\n",
    "airport.createOrReplaceTempView(\"airport\")\n",
    "airport.show()\n",
    "airport.printSchema()"
   ]
  },
  {
   "cell_type": "markdown",
   "id": "43256399",
   "metadata": {},
   "source": [
    "## Importing airline.dat and perform data cleaning"
   ]
  },
  {
   "cell_type": "code",
   "execution_count": 4,
   "id": "a29ca1be",
   "metadata": {
    "scrolled": false
   },
   "outputs": [
    {
     "name": "stderr",
     "output_type": "stream",
     "text": [
      "\r",
      "[Stage 8:>                                                          (0 + 1) / 1]\r"
     ]
    },
    {
     "name": "stdout",
     "output_type": "stream",
     "text": [
      "+---------+--------------------+-----+----+----+--------------+------+\n",
      "|AirlineID|                Name|Alias|IATA|ICAO|       Country|Active|\n",
      "+---------+--------------------+-----+----+----+--------------+------+\n",
      "|        1|      Private flight|  N/A| N/A| N/A|           N/A|     Y|\n",
      "|        2|         135 Airways|  N/A| N/A| GNL| United States|     N|\n",
      "|        3|       1Time Airline|  N/A|  1T| RNX|  South Africa|     Y|\n",
      "|        4|2 Sqn No 1 Elemen...|  N/A| N/A| WYT|United Kingdom|     N|\n",
      "|        5|     213 Flight Unit|  N/A| N/A| TFU|        Russia|     N|\n",
      "|        6|223 Flight Unit S...|  N/A| N/A| CHD|        Russia|     N|\n",
      "|        7|   224th Flight Unit|  N/A| N/A| TTF|        Russia|     N|\n",
      "|        8|         247 Jet Ltd|  N/A| N/A| TWF|United Kingdom|     N|\n",
      "|        9|         3D Aviation|  N/A| N/A| SEC| United States|     N|\n",
      "|       10|         40-Mile Air|  N/A|  Q5| MLA| United States|     Y|\n",
      "|       11|              4D Air|  N/A| N/A| QRT|      Thailand|     N|\n",
      "|       12|611897 Alberta Li...|  N/A| N/A| THD|        Canada|     N|\n",
      "|       13|    Ansett Australia|  N/A|  AN| AAA|     Australia|     Y|\n",
      "|       14|Abacus International|  N/A|  1B| N/A|     Singapore|     Y|\n",
      "|       15|     Abelag Aviation|  N/A|  W9| AAB|       Belgium|     N|\n",
      "|       16|      Army Air Corps|  N/A| N/A| AAC|United Kingdom|     N|\n",
      "|       17|Aero Aviation Cen...|  N/A| N/A| AAD|        Canada|     N|\n",
      "|       18|Aero Servicios Ej...|  N/A| N/A| SII|        Mexico|     N|\n",
      "|       19|         Aero Biniza|  N/A| N/A| BZS|        Mexico|     N|\n",
      "|       20|       Aero Albatros|  N/A| N/A| ABM|         Spain|     N|\n",
      "+---------+--------------------+-----+----+----+--------------+------+\n",
      "only showing top 20 rows\n",
      "\n",
      "root\n",
      " |-- AirlineID: string (nullable = false)\n",
      " |-- Name: string (nullable = false)\n",
      " |-- Alias: string (nullable = false)\n",
      " |-- IATA: string (nullable = false)\n",
      " |-- ICAO: string (nullable = false)\n",
      " |-- Country: string (nullable = false)\n",
      " |-- Active: string (nullable = false)\n",
      "\n"
     ]
    },
    {
     "name": "stderr",
     "output_type": "stream",
     "text": [
      "\r",
      "                                                                                \r"
     ]
    }
   ],
   "source": [
    "airline_dat = spark.read.option(\"delimiter\", \",\").option(\"header\", \"false\").csv(\"airlines.dat\").toDF(\"AirlineID\",\"Name\"\n",
    ",\"Alias\",\"IATA\",\"ICAO\",\"Callsign\",\"Country\",\"Active\")\n",
    "airline_dat = airline_dat.fillna('N/A')\n",
    "airline_dat = airline_dat.na.replace(\"\\\\N\",\"N/A\")\n",
    "airline_dat = airline_dat.na.replace(\"-\",\"N/A\")\n",
    "airline_dat = airline_dat.drop(\"Callsign\")\n",
    "airline_dat.createOrReplaceTempView(\"airline\")\n",
    "airline_dat = spark.sql(\"select * from airline where AirlineID > 0\")\n",
    "airline_dat.show()\n",
    "airline_dat.printSchema()\n",
    "airline = airline_dat"
   ]
  },
  {
   "cell_type": "markdown",
   "id": "00d9caf4",
   "metadata": {},
   "source": [
    "## Importing routes.dat"
   ]
  },
  {
   "cell_type": "code",
   "execution_count": 5,
   "id": "146e6817",
   "metadata": {},
   "outputs": [
    {
     "name": "stdout",
     "output_type": "stream",
     "text": [
      "+-------+---------+-------------+---------------+------------------+--------------------+---------+-----+\n",
      "|Airline|AirlineID|SourceAirport|SourceAirportID|DestinationAirport|DestinationAirportID|Codeshare|Stops|\n",
      "+-------+---------+-------------+---------------+------------------+--------------------+---------+-----+\n",
      "|     2B|      410|          AER|           2965|               KZN|                2990|      N/A|    0|\n",
      "|     2B|      410|          ASF|           2966|               KZN|                2990|      N/A|    0|\n",
      "|     2B|      410|          ASF|           2966|               MRV|                2962|      N/A|    0|\n",
      "|     2B|      410|          CEK|           2968|               KZN|                2990|      N/A|    0|\n",
      "|     2B|      410|          CEK|           2968|               OVB|                4078|      N/A|    0|\n",
      "|     2B|      410|          DME|           4029|               KZN|                2990|      N/A|    0|\n",
      "|     2B|      410|          DME|           4029|               NBC|                6969|      N/A|    0|\n",
      "|     2B|      410|          DME|           4029|               TGK|                 N/A|      N/A|    0|\n",
      "|     2B|      410|          DME|           4029|               UUA|                6160|      N/A|    0|\n",
      "|     2B|      410|          EGO|           6156|               KGD|                2952|      N/A|    0|\n",
      "|     2B|      410|          EGO|           6156|               KZN|                2990|      N/A|    0|\n",
      "|     2B|      410|          GYD|           2922|               NBC|                6969|      N/A|    0|\n",
      "|     2B|      410|          KGD|           2952|               EGO|                6156|      N/A|    0|\n",
      "|     2B|      410|          KZN|           2990|               AER|                2965|      N/A|    0|\n",
      "|     2B|      410|          KZN|           2990|               ASF|                2966|      N/A|    0|\n",
      "|     2B|      410|          KZN|           2990|               CEK|                2968|      N/A|    0|\n",
      "|     2B|      410|          KZN|           2990|               DME|                4029|      N/A|    0|\n",
      "|     2B|      410|          KZN|           2990|               EGO|                6156|      N/A|    0|\n",
      "|     2B|      410|          KZN|           2990|               LED|                2948|      N/A|    0|\n",
      "|     2B|      410|          KZN|           2990|               SVX|                2975|      N/A|    0|\n",
      "+-------+---------+-------------+---------------+------------------+--------------------+---------+-----+\n",
      "only showing top 20 rows\n",
      "\n"
     ]
    }
   ],
   "source": [
    "route_dat = spark.read.option(\"delimiter\", \",\").option(\"header\", \"false\").csv(\"routes.dat\").toDF(\"Airline\",\"AirlineID\"\n",
    ",\"SourceAirport\",\"SourceAirportID\",\"DestinationAirport\",\"DestinationAirportID\",\"Codeshare\",\"Stops\",\"Equipment\")\n",
    "route_dat = route_dat.drop(\"Equipment\")\n",
    "route_dat = route_dat.fillna('N/A')\n",
    "route_dat = route_dat.na.replace(\"\\\\N\",\"N/A\")\n",
    "route_dat = route_dat.na.replace(\"-\",\"N/A\")\n",
    "route_dat.createOrReplaceTempView(\"route\")\n",
    "#route_dat.show()\n",
    "#route_dat.printSchema()\n",
    "\n",
    "route = route_dat\n",
    "route.show()"
   ]
  },
  {
   "cell_type": "markdown",
   "id": "d90ba37f",
   "metadata": {},
   "source": [
    "## Updating routes table"
   ]
  },
  {
   "cell_type": "code",
   "execution_count": 6,
   "id": "fd2ad269",
   "metadata": {},
   "outputs": [
    {
     "name": "stderr",
     "output_type": "stream",
     "text": [
      "\r",
      "[Stage 11:>                                                         (0 + 1) / 1]\r",
      "\r",
      "                                                                                \r"
     ]
    },
    {
     "data": {
      "text/plain": [
       "7698"
      ]
     },
     "execution_count": 6,
     "metadata": {},
     "output_type": "execute_result"
    }
   ],
   "source": [
    "airport.count()"
   ]
  },
  {
   "cell_type": "code",
   "execution_count": 7,
   "id": "6f8dddf9",
   "metadata": {},
   "outputs": [
    {
     "name": "stderr",
     "output_type": "stream",
     "text": [
      "                                                                                \r"
     ]
    },
    {
     "data": {
      "text/plain": [
       "6161"
      ]
     },
     "execution_count": 7,
     "metadata": {},
     "output_type": "execute_result"
    }
   ],
   "source": [
    "airline.count()"
   ]
  },
  {
   "cell_type": "code",
   "execution_count": 8,
   "id": "0675b200",
   "metadata": {},
   "outputs": [
    {
     "name": "stderr",
     "output_type": "stream",
     "text": [
      "                                                                                \r"
     ]
    },
    {
     "data": {
      "text/plain": [
       "67663"
      ]
     },
     "execution_count": 8,
     "metadata": {},
     "output_type": "execute_result"
    }
   ],
   "source": [
    "route.count()"
   ]
  },
  {
   "cell_type": "code",
   "execution_count": 9,
   "id": "af625f86",
   "metadata": {},
   "outputs": [],
   "source": [
    "airline_cp = spark.sql(\"Select * from airline where airline.IATA != 'N/A'\")\n",
    "airline_cp = airline_cp.withColumnRenamed(\"IATA\",\"Airline\")"
   ]
  },
  {
   "cell_type": "code",
   "execution_count": 10,
   "id": "8e8f0584",
   "metadata": {},
   "outputs": [],
   "source": [
    "route_cp = route.alias('r').join(airline_cp.alias('a'), on = 'Airline', how = 'left')\\\n",
    "    .select('r.Airline', functions.when(~functions.isnull(functions.col('a.AirlineID')),\n",
    "                                       functions.col('a.AirlineID')\n",
    "                                       ).otherwise(functions.col('r.AirlineID')).alias('AirlineID'),\n",
    "            #'r.AirlineID', 'a.AirlineID',\n",
    "           'r.SourceAirport', 'r.SourceAirportID', 'r.DestinationAirport', 'r.DestinationAirportID',\n",
    "           'r.Codeshare', 'r.Stops').dropDuplicates()"
   ]
  },
  {
   "cell_type": "code",
   "execution_count": 11,
   "id": "9f023034",
   "metadata": {},
   "outputs": [
    {
     "name": "stderr",
     "output_type": "stream",
     "text": [
      "                                                                                \r"
     ]
    },
    {
     "data": {
      "text/plain": [
       "78221"
      ]
     },
     "execution_count": 11,
     "metadata": {},
     "output_type": "execute_result"
    }
   ],
   "source": [
    "route_cp.count()"
   ]
  },
  {
   "cell_type": "code",
   "execution_count": 12,
   "id": "a798aac7",
   "metadata": {},
   "outputs": [],
   "source": [
    "airline_cp = spark.sql(\"Select * from airline where airline.ICAO != 'N/A'\")\n",
    "airline_cp = airline_cp.withColumnRenamed(\"ICAO\",\"Airline\")"
   ]
  },
  {
   "cell_type": "code",
   "execution_count": 13,
   "id": "d628171d",
   "metadata": {},
   "outputs": [],
   "source": [
    "route_cp = route_cp.alias('r').join(airline_cp.alias('a'), on = 'Airline', how = 'left')\\\n",
    "    .select('r.Airline', functions.when(~functions.isnull(functions.col('a.AirlineID')),\n",
    "                                       functions.col('a.AirlineID')\n",
    "                                       ).otherwise(functions.col('r.AirlineID')).alias('AirlineID'),\n",
    "           'r.SourceAirport', 'r.SourceAirportID', 'r.DestinationAirport', 'r.DestinationAirportID',\n",
    "           'r.Codeshare', 'r.Stops').dropDuplicates()"
   ]
  },
  {
   "cell_type": "code",
   "execution_count": 14,
   "id": "026b3d02",
   "metadata": {},
   "outputs": [],
   "source": [
    "airport_cp = spark.sql(\"Select * from airport where airport.IATA != 'N/A'\")\n",
    "airport_cp = airport_cp.withColumnRenamed(\"IATA\",\"SourceAirport\")"
   ]
  },
  {
   "cell_type": "code",
   "execution_count": 15,
   "id": "880c324e",
   "metadata": {},
   "outputs": [],
   "source": [
    "route_cp = route_cp.alias('r').join(airport_cp.alias('a'), on = 'SourceAirport', how = 'left')\\\n",
    "    .select('r.Airline', 'r.AirlineID','r.SourceAirport', functions.when(~functions.isnull(functions.col('a.AirportID')),\n",
    "                                       functions.col('a.AirportID')\n",
    "                                       ).otherwise(functions.col('r.SourceAirportID')).alias('SourceAirportID'), \n",
    "            'r.DestinationAirport', 'r.DestinationAirportID',\n",
    "           'r.Codeshare', 'r.Stops').dropDuplicates()"
   ]
  },
  {
   "cell_type": "code",
   "execution_count": 16,
   "id": "3ae7c4c2",
   "metadata": {},
   "outputs": [],
   "source": [
    "airport_cp = spark.sql(\"Select * from airport where airport.ICAO != 'N/A'\")\n",
    "airport_cp = airport_cp.withColumnRenamed(\"ICAO\",\"SourceAirport\")"
   ]
  },
  {
   "cell_type": "code",
   "execution_count": 17,
   "id": "f698a5df",
   "metadata": {},
   "outputs": [],
   "source": [
    "route_cp = route_cp.alias('r').join(airport_cp.alias('a'), on = 'SourceAirport', how = 'left')\\\n",
    "    .select('r.Airline', 'r.AirlineID','r.SourceAirport', functions.when(~functions.isnull(functions.col('a.AirportID')),\n",
    "                                       functions.col('a.AirportID')\n",
    "                                       ).otherwise(functions.col('r.SourceAirportID')).alias('SourceAirportID'), \n",
    "            'r.DestinationAirport', 'r.DestinationAirportID',\n",
    "           'r.Codeshare', 'r.Stops').dropDuplicates()"
   ]
  },
  {
   "cell_type": "code",
   "execution_count": 18,
   "id": "74b1c059",
   "metadata": {},
   "outputs": [],
   "source": [
    "airport_cp = spark.sql(\"Select * from airport where airport.IATA != 'N/A'\")\n",
    "airport_cp = airport_cp.withColumnRenamed(\"IATA\",\"DestinationAirport\")"
   ]
  },
  {
   "cell_type": "code",
   "execution_count": 19,
   "id": "96e67d26",
   "metadata": {},
   "outputs": [],
   "source": [
    "route_cp = route_cp.alias('r').join(airport_cp.alias('a'), on = 'DestinationAirport', how = 'left')\\\n",
    "    .select('r.Airline', 'r.AirlineID','r.SourceAirport', 'r.SourceAirportID',\n",
    "            'r.DestinationAirport', functions.when(~functions.isnull(functions.col('a.AirportID')),\n",
    "                                       functions.col('a.AirportID')\n",
    "                                       ).otherwise(functions.col('r.DestinationAirportID')).alias('DestinationAirportID'),\n",
    "           'r.Codeshare', 'r.Stops').dropDuplicates()"
   ]
  },
  {
   "cell_type": "code",
   "execution_count": 20,
   "id": "e0cd48ac",
   "metadata": {},
   "outputs": [
    {
     "name": "stderr",
     "output_type": "stream",
     "text": [
      "                                                                                \r"
     ]
    },
    {
     "data": {
      "text/plain": [
       "78221"
      ]
     },
     "execution_count": 20,
     "metadata": {},
     "output_type": "execute_result"
    }
   ],
   "source": [
    "route_cp.count()"
   ]
  },
  {
   "cell_type": "code",
   "execution_count": 21,
   "id": "1b9c1c18",
   "metadata": {},
   "outputs": [],
   "source": [
    "airport_cp = spark.sql(\"Select * from airport where airport.ICAO != 'N/A'\")\n",
    "airport_cp = airport_cp.withColumnRenamed(\"ICAO\",\"DestinationAirport\")"
   ]
  },
  {
   "cell_type": "code",
   "execution_count": 22,
   "id": "4c1aeb35",
   "metadata": {},
   "outputs": [],
   "source": [
    "route_cp = route_cp.alias('r').join(airport_cp.alias('a'), on = 'DestinationAirport', how = 'left')\\\n",
    "    .select('r.Airline', 'r.AirlineID','r.SourceAirport', 'r.SourceAirportID',\n",
    "            'r.DestinationAirport', functions.when(~functions.isnull(functions.col('a.AirportID')),\n",
    "                                       functions.col('a.AirportID')\n",
    "                                       ).otherwise(functions.col('r.DestinationAirportID')).alias('DestinationAirportID'),\n",
    "           'r.Codeshare', 'r.Stops').dropDuplicates().sort(\"Airline\")"
   ]
  },
  {
   "cell_type": "code",
   "execution_count": 23,
   "id": "3042014c",
   "metadata": {},
   "outputs": [
    {
     "name": "stderr",
     "output_type": "stream",
     "text": [
      "[Stage 44:====================================================> (196 + 4) / 200]\r"
     ]
    },
    {
     "name": "stdout",
     "output_type": "stream",
     "text": [
      "+-------+---------+-------------+---------------+------------------+--------------------+---------+-----+\n",
      "|Airline|AirlineID|SourceAirport|SourceAirportID|DestinationAirport|DestinationAirportID|Codeshare|Stops|\n",
      "+-------+---------+-------------+---------------+------------------+--------------------+---------+-----+\n",
      "|     3K|     3021|          SIN|           3316|               HKG|                3077|      N/A|    0|\n",
      "|     3O|     9818|          CMN|           1074|               LYS|                1335|      N/A|    0|\n",
      "|     3U|     4608|          CTU|           3395|               HKT|                3179|      N/A|    0|\n",
      "|     3U|     4608|          CTU|           3395|               MEL|                3339|      N/A|    0|\n",
      "|     3U|     4608|          CTU|           3395|               XNN|                6366|      N/A|    0|\n",
      "|     3U|     4608|          KWE|           3394|               LHW|                3378|      N/A|    0|\n",
      "|     3U|     4608|          SYD|           3361|               CKG|                3393|      N/A|    0|\n",
      "|     4G|       66|          SVX|           2975|               OVS|                6140|      N/A|    0|\n",
      "|     4O|    17885|          MEX|           1824|               HMO|                1807|      N/A|    0|\n",
      "|     4O|    17885|          ZIH|           1856|               MEX|                1824|      N/A|    0|\n",
      "|     4U|     2548|          BIA|           1321|               DUS|                 345|      N/A|    0|\n",
      "|     4U|     2548|          DUS|            345|               BIO|                1216|      N/A|    0|\n",
      "|     4U|     2548|          DUS|            345|               SPU|                1206|      N/A|    0|\n",
      "|     4U|     2548|          STR|            350|               KVA|                1462|      N/A|    0|\n",
      "|     4Y|     1173|          EEK|           7093|               BET|                3599|      N/A|    0|\n",
      "|     5T|     1623|          YCS|           5487|               YBK|                  29|        Y|    0|\n",
      "|     6E|     2850|          CCU|           3043|               PAT|                3061|      N/A|    0|\n",
      "|     7H|    16726|          BTI|           3411|               SCC|                3620|        Y|    0|\n",
      "|     7R|    21317|          GRV|           6122|               DME|                4029|      N/A|    0|\n",
      "|     8R|     5188|          NQN|           2509|               MDZ|                2452|      N/A|    0|\n",
      "+-------+---------+-------------+---------------+------------------+--------------------+---------+-----+\n",
      "only showing top 20 rows\n",
      "\n"
     ]
    },
    {
     "name": "stderr",
     "output_type": "stream",
     "text": [
      "\r",
      "                                                                                \r"
     ]
    }
   ],
   "source": [
    "route_cp.show()"
   ]
  },
  {
   "cell_type": "markdown",
   "id": "c6376acd",
   "metadata": {},
   "source": [
    "## Find the list of airports operating in country X"
   ]
  },
  {
   "cell_type": "code",
   "execution_count": 100,
   "id": "7fb95475",
   "metadata": {},
   "outputs": [
    {
     "name": "stdout",
     "output_type": "stream",
     "text": [
      "Enter country's name: VIetnam\n",
      "+---------+--------------------+----------------+-------+\n",
      "|AirportID|                Name|            City|Country|\n",
      "+---------+--------------------+----------------+-------+\n",
      "|     3196|Da Nang Internati...|          Danang|Vietnam|\n",
      "|     3197|    Gia Lam Air Base|           Hanoi|Vietnam|\n",
      "|     3198|        Kep Air Base|             Kep|Vietnam|\n",
      "|     3199|Noi Bai Internati...|           Hanoi|Vietnam|\n",
      "|     3200|  Nha Trang Air Base|        Nhatrang|Vietnam|\n",
      "|     3201|     Phu Bai Airport|             Hue|Vietnam|\n",
      "|     3204|Phu Quoc Internat...|         Phuquoc|Vietnam|\n",
      "|     3205|Tan Son Nhat Inte...|Ho Chi Minh City|Vietnam|\n",
      "|     4153| Lien Khuong Airport|           Dalat|Vietnam|\n",
      "|     4154|    Dong Hoi Airport|        Dong Hoi|Vietnam|\n",
      "|     4155|    Rach Gia Airport|        Rach Gia|Vietnam|\n",
      "|     4156|      Cà Mau Airport|          Ca Mau|Vietnam|\n",
      "|     4157|Chu Lai Internati...|         Chu Lai|Vietnam|\n",
      "|     4158|    Dong Tac Airport|         Tuy Hoa|Vietnam|\n",
      "|     6187|Buon Ma Thuot Air...|     Buonmethuot|Vietnam|\n",
      "|     6188|Cat Bi Internatio...|        Haiphong|Vietnam|\n",
      "|     6189|    Cam Ranh Airport|       Nha Trang|Vietnam|\n",
      "|     6190|      Co Ong Airport|          Conson|Vietnam|\n",
      "|     6191|Can Tho Internati...|         Can Tho|Vietnam|\n",
      "|     6192|Dien Bien Phu Air...|     Dienbienphu|Vietnam|\n",
      "+---------+--------------------+----------------+-------+\n",
      "only showing top 20 rows\n",
      "\n"
     ]
    }
   ],
   "source": [
    "airport_cp = spark.sql(\"Select AirportID, Name, City, Country from airport where airport.Country != 'N/A'\")\n",
    "X = input(\"Enter country's name: \")\n",
    "airport_cp.filter(airport_cp.Country.rlike(f\"(?i)^*{X}$\")).show()"
   ]
  },
  {
   "cell_type": "markdown",
   "id": "2cc6ade2",
   "metadata": {},
   "source": [
    "## Find the list of airlines having X stops"
   ]
  },
  {
   "cell_type": "code",
   "execution_count": 62,
   "id": "b43bc0fb",
   "metadata": {},
   "outputs": [
    {
     "name": "stdout",
     "output_type": "stream",
     "text": [
      "Enter # stops: 1\n"
     ]
    },
    {
     "name": "stderr",
     "output_type": "stream",
     "text": [
      "                                                                                \r"
     ]
    },
    {
     "name": "stdout",
     "output_type": "stream",
     "text": [
      "+---------+--------------------+-----+\n",
      "|AirlineID|        Airline_Name|Stops|\n",
      "+---------+--------------------+-----+\n",
      "|     1316|     AirTran Airways|    1|\n",
      "|     1936|  Cubana de Aviación|    1|\n",
      "|     4319|Scandinavian Airl...|    1|\n",
      "|     1623|      Canadian North|    1|\n",
      "|      330|          Air Canada|    1|\n",
      "|     4547|  Southwest Airlines|    1|\n",
      "+---------+--------------------+-----+\n",
      "\n"
     ]
    }
   ],
   "source": [
    "from pyspark.sql.functions import when\n",
    "route_cp.createOrReplaceTempView(\"route_cp\")\n",
    "X = input(\"Enter # stops: \")\n",
    "newRoute = spark.sql(f\"Select AirlineID, Stops from route_cp where route_cp.Stops == {X}\")\n",
    "airline_cp = spark.sql(f\"Select AirlineID, Name, Alias from airline\")\n",
    "newRoute = newRoute.alias('r').join(airline_cp.alias('a'), on = 'AirlineID', how = 'inner')\\\n",
    "    .select('r.AirlineID', when(airline_cp.Name != 'N/A', airline_cp.Name)\n",
    "            .otherwise(\"a.Alias\").alias('Airline_Name'),\n",
    "'r.Stops').dropDuplicates()\n",
    "newRoute.filter(newRoute.Airline_Name != 'N/A').show()"
   ]
  },
  {
   "cell_type": "markdown",
   "id": "00f68990",
   "metadata": {},
   "source": [
    "## List of airlines operating with codeshares"
   ]
  },
  {
   "cell_type": "code",
   "execution_count": 70,
   "id": "3ab2e1fd",
   "metadata": {},
   "outputs": [
    {
     "name": "stderr",
     "output_type": "stream",
     "text": [
      "[Stage 315:==============>                                         (5 + 4) / 20]\r"
     ]
    },
    {
     "name": "stdout",
     "output_type": "stream",
     "text": [
      "+---------+--------------------+---------+\n",
      "|AirlineID|        Airline_Name|Codeshare|\n",
      "+---------+--------------------+---------+\n",
      "|     5179|               Tarom|        Y|\n",
      "|      502|Abu Dhabi Amiri F...|        Y|\n",
      "|      324|  All Nippon Airways|        Y|\n",
      "|     2855|              Indigo|        Y|\n",
      "|     5416|             WestJet|        Y|\n",
      "|     5347|Virgin Atlantic A...|        Y|\n",
      "|     1889|       Copa Airlines|        Y|\n",
      "|     2421|               Flybe|        Y|\n",
      "|     4559|Swiss Internation...|        Y|\n",
      "|       28|     Asiana Airlines|        Y|\n",
      "|     5309|    Vietnam Airlines|        Y|\n",
      "|     1942|      Cyprus Airways|        Y|\n",
      "|      137|          Air France|        Y|\n",
      "|      241|          Air Sahara|        Y|\n",
      "|     3378|   Malaysia Airlines|        Y|\n",
      "|     1908|          Corsairfly|        Y|\n",
      "|     1317|         Air Transat|        Y|\n",
      "|     4292|    Rwandair Express|        Y|\n",
      "|      197| Azerbaijan Airlines|        Y|\n",
      "|     2056|           Dragonair|        Y|\n",
      "+---------+--------------------+---------+\n",
      "only showing top 20 rows\n",
      "\n"
     ]
    },
    {
     "name": "stderr",
     "output_type": "stream",
     "text": [
      "\r",
      "[Stage 315:=================================================>     (18 + 2) / 20]\r",
      "\r",
      "                                                                                \r"
     ]
    }
   ],
   "source": [
    "newRoute = spark.sql(f\"Select AirlineID, Codeshare from route_cp where route_cp.Codeshare == 'Y' \\\n",
    "                     or route_cp.Codeshare == 'y'\")\n",
    "airline_cp = spark.sql(f\"Select AirlineID, Name, Alias from airline\")\n",
    "airline_cp = newRoute.alias('r').join(airline_cp.alias('a'), on = 'AirlineID', how = 'inner')\\\n",
    "    .select('r.AirlineID', when(airline_cp.Name != 'N/A', airline_cp.Name)\n",
    "            .otherwise(\"a.Alias\").alias('Airline_Name'),\n",
    "'r.Codeshare').dropDuplicates()\n",
    "airline_cp.filter(airline_cp.Airline_Name != 'N/A').show()"
   ]
  },
  {
   "cell_type": "markdown",
   "id": "3753cf8e",
   "metadata": {},
   "source": [
    "## Find the list of active airlines in the United States - Airline aggregation "
   ]
  },
  {
   "cell_type": "code",
   "execution_count": 74,
   "id": "03ccea1b",
   "metadata": {},
   "outputs": [
    {
     "name": "stdout",
     "output_type": "stream",
     "text": [
      "+---------+--------------------+-------------+------+\n",
      "|AirlineID|        Airline_Name|      Country|Active|\n",
      "+---------+--------------------+-------------+------+\n",
      "|       10|         40-Mile Air|United States|     Y|\n",
      "|       22|      Aloha Airlines|United States|     Y|\n",
      "|       24|   American Airlines|United States|     Y|\n",
      "|       35|       Allegiant Air|United States|     Y|\n",
      "|      109|Alaska Central Ex...|United States|     Y|\n",
      "|      149|  Air Cargo Carriers|United States|     Y|\n",
      "|      210|Airlift Internati...|United States|     Y|\n",
      "|      281|America West Airl...|United States|     Y|\n",
      "|      282|       Air Wisconsin|United States|     Y|\n",
      "|      287|Allegheny Commute...|United States|     Y|\n",
      "|      295|        Air Sunshine|United States|     Y|\n",
      "|      315|        ATA Airlines|United States|     Y|\n",
      "|      397|           Arrow Air|United States|     Y|\n",
      "|      452|Atlantic Southeas...|United States|     Y|\n",
      "|      659|American Eagle Ai...|United States|     Y|\n",
      "|      792|          Access Air|United States|     Y|\n",
      "|      882|         Air Florida|United States|     Y|\n",
      "|      928|           Atlas Air|United States|     Y|\n",
      "|     1316|     AirTran Airways|United States|     Y|\n",
      "|     1442|    Bemidji Airlines|United States|     Y|\n",
      "+---------+--------------------+-------------+------+\n",
      "only showing top 20 rows\n",
      "\n"
     ]
    }
   ],
   "source": [
    "airline_cp = spark.sql(\"\"\"\n",
    "                       Select AirlineID, Name, Alias, Country, Active \n",
    "                       from airline \n",
    "                       where Country == 'United States' and (Active == 'Y' or Active == 'y')\n",
    "                       \"\"\")\n",
    "airline_cp = airline_cp.select(airline_cp.AirlineID, when(airline_cp.Name != 'N/A', airline_cp.Name)\n",
    "            .otherwise(airline_cp.Alias).alias('Airline_Name'), airline_cp.Country, airline_cp.Active)\n",
    "airline_cp.filter(airline_cp.Airline_Name != 'N/A').show()"
   ]
  },
  {
   "cell_type": "markdown",
   "id": "93f96ae9",
   "metadata": {},
   "source": [
    "## Find the country (or) territory has the highest number of Airports "
   ]
  },
  {
   "cell_type": "code",
   "execution_count": 87,
   "id": "040f2102",
   "metadata": {},
   "outputs": [
    {
     "name": "stderr",
     "output_type": "stream",
     "text": [
      "                                                                                \r"
     ]
    },
    {
     "data": {
      "text/plain": [
       "Row(Country='United States', Num_Airports=1512)"
      ]
     },
     "execution_count": 87,
     "metadata": {},
     "output_type": "execute_result"
    }
   ],
   "source": [
    "airport_cp = spark.sql(\"\"\"\n",
    "                select Country, count(Country) as Num_Airports\n",
    "                from airport\n",
    "                where country != 'N/A'\n",
    "                group by Country\n",
    "                order by Num_Airports desc\n",
    "            \"\"\")\n",
    "airport_cp.first()"
   ]
  },
  {
   "cell_type": "markdown",
   "id": "35c6037c",
   "metadata": {},
   "source": [
    "## Top K cities with most incoming airlines "
   ]
  },
  {
   "cell_type": "code",
   "execution_count": 91,
   "id": "c7f8a713",
   "metadata": {},
   "outputs": [
    {
     "name": "stderr",
     "output_type": "stream",
     "text": [
      "[Stage 355:====================================================>(197 + 3) / 200]\r"
     ]
    },
    {
     "name": "stdout",
     "output_type": "stream",
     "text": [
      "+---------+------------+\n",
      "|     City|Num_Airlines|\n",
      "+---------+------------+\n",
      "|    Paris|         147|\n",
      "|   London|         139|\n",
      "|   Moscow|         132|\n",
      "|  Bangkok|         126|\n",
      "|Frankfurt|         111|\n",
      "|     Rome|         103|\n",
      "| Istanbul|          99|\n",
      "|    Dubai|          97|\n",
      "|Hong Kong|          97|\n",
      "|Singapore|          94|\n",
      "|Amsterdam|          93|\n",
      "|   Munich|          93|\n",
      "|  Beijing|          91|\n",
      "| New York|          86|\n",
      "|Barcelona|          85|\n",
      "|   Milano|          85|\n",
      "|   Zurich|          83|\n",
      "|   Vienna|          83|\n",
      "| Shanghai|          82|\n",
      "|    Tokyo|          82|\n",
      "+---------+------------+\n",
      "only showing top 20 rows\n",
      "\n"
     ]
    },
    {
     "name": "stderr",
     "output_type": "stream",
     "text": [
      "\r",
      "                                                                                \r"
     ]
    }
   ],
   "source": [
    "airline_cp = spark.sql(\"\"\"\n",
    "                       Select AirlineID, DestinationAirportID \n",
    "                       from route_cp \n",
    "                       where AirlineID != 'N/A' and DestinationAirportID != 'N/A'\n",
    "                       \"\"\")\n",
    "airline_cp.createOrReplaceTempView(\"airline_cp\")\n",
    "airport_cp = spark.sql(\"\"\"\n",
    "                       Select AirportID, City\n",
    "                       from airport \n",
    "                       where City != 'N/A'\n",
    "                       \"\"\")\n",
    "airport_cp.createOrReplaceTempView(\"airport_cp\")\n",
    "result = spark.sql(\"\"\"\n",
    "            Select airport_cp.City, count(distinct airline_cp.AirlineID) as Num_Airlines\n",
    "            from airline_cp\n",
    "            inner join airport_cp\n",
    "            on airline_cp.DestinationAirportID == airport_cp.AirportID\n",
    "            group by airport_cp.City\n",
    "            order by Num_Airlines desc\n",
    "    \"\"\")\n",
    "result.show()"
   ]
  },
  {
   "cell_type": "markdown",
   "id": "00d79be9",
   "metadata": {},
   "source": [
    "## Find the closest airport to a city X’s geospatial coordinate "
   ]
  },
  {
   "cell_type": "code",
   "execution_count": 227,
   "id": "1e975180",
   "metadata": {},
   "outputs": [
    {
     "name": "stdout",
     "output_type": "stream",
     "text": [
      "Enter city's longitude: -122.313323\n",
      "Enter country's latitude: 47.622715\n",
      "+---------+--------------------+--------------+-------------+-------------------+\n",
      "|AirportID|                Name|          City|      Country|           Distance|\n",
      "+---------+--------------------+--------------+-------------+-------------------+\n",
      "|     3726|Boeing Field King...|       Seattle|United States|0.09340483758251691|\n",
      "|     8796|Renton Municipal ...|        Renton|United States|0.16208440203787616|\n",
      "|     3577|Seattle Tacoma In...|       Seattle|United States|0.17376783195113774|\n",
      "|     6455|Berkley Structure...|    Pagerungan|    Indonesia|0.17521683501593222|\n",
      "|     3822|Snohomish County ...|       Everett|United States| 0.2853094707603653|\n",
      "|     8446|Tacoma Narrows Ai...|        Tacoma|United States| 0.4426625752853818|\n",
      "|     6445|Bremerton Nationa...|     Bremerton|United States| 0.4707141116100695|\n",
      "|     3672|McChord Air Force...|        Tacoma|United States| 0.5115696708090709|\n",
      "|     9348|    Enumclaw Airport|      Enumclaw|United States| 0.5169213534484512|\n",
      "|    11141|Arlington Municip...|     Arlington|United States| 0.5596841796160805|\n",
      "|     3530| Gray Army Air Field|    Fort Lewis|United States| 0.6058542919830145|\n",
      "|     3573|Whidbey Island Na...|Whidbey Island|United States| 0.8055989291707135|\n",
      "|    12528|Skagit Regional A...|        Skagit|United States| 0.8549936516859054|\n",
      "|     7650|Olympia Regional ...|       Olympia|United States| 0.8800802779098416|\n",
      "|     9547|     Sanderson Field|       Shelton|United States| 0.9209234925083426|\n",
      "|     6136|Lopez Island Airport|         Lopez|United States| 1.0638901339262905|\n",
      "|     7082|Friday Harbor Air...| Friday Harbor|United States|  1.146201163044584|\n",
      "|     9408|Chehalis Centrali...|      Chehalis|United States| 1.1588140297746152|\n",
      "|     3777|Bellingham Intern...|    Bellingham|United States| 1.1914619929116053|\n",
      "|     3455|Port Angeles Cgas...|  Port Angeles|United States|  1.216811189537659|\n",
      "+---------+--------------------+--------------+-------------+-------------------+\n",
      "only showing top 20 rows\n",
      "\n"
     ]
    }
   ],
   "source": [
    "X = input(\"Enter city's longitude: \")\n",
    "Y = input(\"Enter country's latitude: \")\n",
    "\n",
    "airport_cp = spark.sql(\"\"\"\n",
    "    select AirportID,Name,City,Country,geospacial_Location\n",
    "    from airport\n",
    "    where City != 'N/A'\n",
    "\"\"\")\n",
    "airport_cp.createOrReplaceTempView(\"airport_cp\")\n",
    "result = spark.sql(f\" \\\n",
    "    select a.AirportID, a.Name, a.City, a.Country, ST_Distance(a.geospacial_Location, ST_Point({X}, {Y})) as Distance \\\n",
    "    from airport as a \\\n",
    "    order by Distance\")\n",
    "result.show()"
   ]
  },
  {
   "cell_type": "markdown",
   "id": "2a7f5ff7",
   "metadata": {},
   "source": [
    "## Find the airport in each US state’s geospatial boundary "
   ]
  },
  {
   "cell_type": "code",
   "execution_count": 225,
   "id": "f47f5df4",
   "metadata": {},
   "outputs": [
    {
     "name": "stderr",
     "output_type": "stream",
     "text": [
      "21/11/11 16:43:37 WARN JoinQuery: UseIndex is true, but no index exists. Will build index on the fly.\n"
     ]
    },
    {
     "name": "stdout",
     "output_type": "stream",
     "text": [
      "+-------------+---------+--------------------+----------------+\n",
      "|       States|AirportID|                Name|            City|\n",
      "+-------------+---------+--------------------+----------------+\n",
      "|       Alaska|     3411|Barter Island LRR...|   Barter Island|\n",
      "|       Alaska|     3412|Wainwright Air St...| Fort Wainwright|\n",
      "|       Alaska|     3413|Cape Lisburne LRR...|   Cape Lisburne|\n",
      "|       Alaska|     3414|Point Lay LRRS Ai...|       Point Lay|\n",
      "|       Hawaii|     3415|Hilo Internationa...|            Hilo|\n",
      "|      Florida|     3416|Orlando Executive...|         Orlando|\n",
      "|       Alaska|     3417|     Bettles Airport|         Bettles|\n",
      "|       Alaska|     3418|       Clear Airport|      Clear Mews|\n",
      "|       Alaska|     3419|Indian Mountain L...|Indian Mountains|\n",
      "|       Alaska|     3420|  Fort Yukon Airport|      Fort Yukon|\n",
      "|       Alaska|     3421|Sparrevohn LRRS A...|      Sparrevohn|\n",
      "|       Alaska|     3422|Bryant Army Heliport| Fort Richardson|\n",
      "|       Alaska|     3423|Tatalina LRRS Air...|        Tatalina|\n",
      "|       Alaska|     3424|Cape Romanzof LRR...|   Cape Romanzof|\n",
      "|Massachusetts|     3425|Laurence G Hansco...|         Bedford|\n",
      "|       Alaska|     3427|Cape Newenham LRR...|   Cape Newenham|\n",
      "|       Alaska|     3429|     Iliamna Airport|         Iliamna|\n",
      "|       Alaska|     3430|    Platinum Airport|     Port Moller|\n",
      "|       Alaska|     3431|Big Mountain Airport|    Big Mountain|\n",
      "|     Michigan|     3432|Oscoda Wurtsmith ...|          Oscoda|\n",
      "+-------------+---------+--------------------+----------------+\n",
      "only showing top 20 rows\n",
      "\n"
     ]
    }
   ],
   "source": [
    "result = spark.sql(\"\"\"\n",
    "    select s.s_name as States, a.AirportID, a.Name, a.City\n",
    "    from states as s, airport as a\n",
    "    where ST_Contains(s.s_bound, a.geospacial_Location)\n",
    "\"\"\")\n",
    "result.show()"
   ]
  },
  {
   "cell_type": "code",
   "execution_count": null,
   "id": "05dcab4e",
   "metadata": {},
   "outputs": [],
   "source": []
  }
 ],
 "metadata": {
  "kernelspec": {
   "display_name": "Python 3 (ipykernel)",
   "language": "python",
   "name": "python3"
  },
  "language_info": {
   "codemirror_mode": {
    "name": "ipython",
    "version": 3
   },
   "file_extension": ".py",
   "mimetype": "text/x-python",
   "name": "python",
   "nbconvert_exporter": "python",
   "pygments_lexer": "ipython3",
   "version": "3.8.10"
  }
 },
 "nbformat": 4,
 "nbformat_minor": 5
}
