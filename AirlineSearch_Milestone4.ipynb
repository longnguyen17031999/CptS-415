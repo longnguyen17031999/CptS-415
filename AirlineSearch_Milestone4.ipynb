{
 "cells": [
  {
   "cell_type": "code",
   "execution_count": 1,
   "id": "037beee0",
   "metadata": {},
   "outputs": [
    {
     "name": "stderr",
     "output_type": "stream",
     "text": [
      "21/11/22 22:58:52 WARN Utils: Your hostname, DESKTOP-DBR5VTD resolves to a loopback address: 127.0.1.1; using 10.189.49.10 instead (on interface wifi0)\n",
      "21/11/22 22:58:52 WARN Utils: Set SPARK_LOCAL_IP if you need to bind to another address\n",
      "WARNING: An illegal reflective access operation has occurred\n",
      "WARNING: Illegal reflective access by org.apache.spark.unsafe.Platform (file:/root/spark-3.0.3-bin-hadoop3.2/jars/spark-unsafe_2.12-3.0.3.jar) to constructor java.nio.DirectByteBuffer(long,int)\n",
      "WARNING: Please consider reporting this to the maintainers of org.apache.spark.unsafe.Platform\n",
      "WARNING: Use --illegal-access=warn to enable warnings of further illegal reflective access operations\n",
      "WARNING: All illegal access operations will be denied in a future release\n",
      "Ivy Default Cache set to: /root/.ivy2/cache\n",
      "The jars for the packages stored in: /root/.ivy2/jars\n",
      ":: loading settings :: url = jar:file:/root/spark-3.0.3-bin-hadoop3.2/jars/ivy-2.4.0.jar!/org/apache/ivy/core/settings/ivysettings.xml\n",
      "org.apache.sedona#sedona-python-adapter-3.0_2.12 added as a dependency\n",
      "org.datasyslab#geotools-wrapper added as a dependency\n",
      ":: resolving dependencies :: org.apache.spark#spark-submit-parent-dd4b7970-a2f9-4acd-8345-be93da94643e;1.0\n",
      "\tconfs: [default]\n",
      "\tfound org.apache.sedona#sedona-python-adapter-3.0_2.12;1.0.1-incubating in central\n",
      "\tfound org.locationtech.jts#jts-core;1.18.0 in central\n",
      "\tfound org.wololo#jts2geojson;0.16.1 in central\n",
      "\tfound com.fasterxml.jackson.core#jackson-databind;2.12.2 in central\n",
      "\tfound com.fasterxml.jackson.core#jackson-annotations;2.12.2 in central\n",
      "\tfound com.fasterxml.jackson.core#jackson-core;2.12.2 in central\n",
      "\tfound org.apache.sedona#sedona-core-3.0_2.12;1.0.1-incubating in central\n",
      "\tfound org.apache.sedona#sedona-sql-3.0_2.12;1.0.1-incubating in central\n",
      "\tfound org.datasyslab#geotools-wrapper;geotools-24.1 in central\n",
      ":: resolution report :: resolve 475ms :: artifacts dl 25ms\n",
      "\t:: modules in use:\n",
      "\tcom.fasterxml.jackson.core#jackson-annotations;2.12.2 from central in [default]\n",
      "\tcom.fasterxml.jackson.core#jackson-core;2.12.2 from central in [default]\n",
      "\tcom.fasterxml.jackson.core#jackson-databind;2.12.2 from central in [default]\n",
      "\torg.apache.sedona#sedona-core-3.0_2.12;1.0.1-incubating from central in [default]\n",
      "\torg.apache.sedona#sedona-python-adapter-3.0_2.12;1.0.1-incubating from central in [default]\n",
      "\torg.apache.sedona#sedona-sql-3.0_2.12;1.0.1-incubating from central in [default]\n",
      "\torg.datasyslab#geotools-wrapper;geotools-24.1 from central in [default]\n",
      "\torg.locationtech.jts#jts-core;1.18.0 from central in [default]\n",
      "\torg.wololo#jts2geojson;0.16.1 from central in [default]\n",
      "\t:: evicted modules:\n",
      "\torg.locationtech.jts#jts-core;1.18.1 by [org.locationtech.jts#jts-core;1.18.0] in [default]\n",
      "\t---------------------------------------------------------------------\n",
      "\t|                  |            modules            ||   artifacts   |\n",
      "\t|       conf       | number| search|dwnlded|evicted|| number|dwnlded|\n",
      "\t---------------------------------------------------------------------\n",
      "\t|      default     |   10  |   0   |   0   |   1   ||   9   |   0   |\n",
      "\t---------------------------------------------------------------------\n",
      ":: retrieving :: org.apache.spark#spark-submit-parent-dd4b7970-a2f9-4acd-8345-be93da94643e\n",
      "\tconfs: [default]\n",
      "\t0 artifacts copied, 9 already retrieved (0kB/12ms)\n",
      "21/11/22 22:58:53 WARN NativeCodeLoader: Unable to load native-hadoop library for your platform... using builtin-java classes where applicable\n",
      "Using Spark's default log4j profile: org/apache/spark/log4j-defaults.properties\n",
      "Setting default log level to \"WARN\".\n",
      "To adjust logging level use sc.setLogLevel(newLevel). For SparkR, use setLogLevel(newLevel).\n",
      "21/11/22 22:58:56 WARN SparkContext: Please ensure that the number of slots available on your executors is limited by the number of cores to task cpus and not another custom resource. If cores is not the limiting resource then dynamic allocation will not work properly!\n",
      "                                                                                \r"
     ]
    },
    {
     "data": {
      "text/plain": [
       "True"
      ]
     },
     "execution_count": 1,
     "metadata": {},
     "output_type": "execute_result"
    }
   ],
   "source": [
    "from pyspark.sql import SparkSession\n",
    "from sedona.register import SedonaRegistrator\n",
    "from sedona.utils import SedonaKryoRegistrator, KryoSerializer\n",
    "import geopandas as gpd\n",
    "\n",
    "spark = SparkSession. \\\n",
    "    builder. \\\n",
    "    appName('Milestone4 - Airline Search'). \\\n",
    "    master('spark://DESKTOP-DBR5VTD.localdomain:7077'). \\\n",
    "    config(\"spark.serializer\", KryoSerializer.getName). \\\n",
    "    config(\"spark.kryo.registrator\", SedonaKryoRegistrator.getName). \\\n",
    "    config('spark.jars.packages',\n",
    "           'org.apache.sedona:sedona-python-adapter-3.0_2.12:1.0.1-incubating,'\n",
    "           'org.datasyslab:geotools-wrapper:geotools-24.1'). \\\n",
    "    getOrCreate()\n",
    "\n",
    "SedonaRegistrator.registerAll(spark)"
   ]
  },
  {
   "cell_type": "code",
   "execution_count": 2,
   "id": "1f8470ba",
   "metadata": {
    "scrolled": false
   },
   "outputs": [
    {
     "name": "stdout",
     "output_type": "stream",
     "text": [
      "--2021-11-22 22:59:05--  https://raw.githubusercontent.com/DataOceanLab/CPTS-415-Project-Examples/main/boundary-each-state.tsv\n",
      "Resolving raw.githubusercontent.com (raw.githubusercontent.com)... 185.199.109.133, 185.199.111.133, 185.199.108.133, ...\n",
      "Connecting to raw.githubusercontent.com (raw.githubusercontent.com)|185.199.109.133|:443... connected.\n",
      "HTTP request sent, awaiting response... 200 OK\n",
      "Length: 60085 (59K) [text/plain]\n",
      "Saving to: ‘boundary-each-state.tsv’\n",
      "\n",
      "boundary-each-state 100%[===================>]  58.68K  --.-KB/s    in 0.01s   \n",
      "\n",
      "2021-11-22 22:59:05 (5.04 MB/s) - ‘boundary-each-state.tsv’ saved [60085/60085]\n",
      "\n"
     ]
    }
   ],
   "source": [
    "!wget https://raw.githubusercontent.com/DataOceanLab/CPTS-415-Project-Examples/main/boundary-each-state.tsv"
   ]
  },
  {
   "cell_type": "code",
   "execution_count": 3,
   "id": "7e35ebb8",
   "metadata": {
    "scrolled": false
   },
   "outputs": [
    {
     "name": "stdout",
     "output_type": "stream",
     "text": [
      "--2021-11-22 22:59:06--  https://raw.githubusercontent.com/DataOceanLab/CPTS-415-Project-Examples/main/cities.csv\n",
      "Resolving raw.githubusercontent.com (raw.githubusercontent.com)... 185.199.110.133, 185.199.111.133, 185.199.108.133, ...\n",
      "Connecting to raw.githubusercontent.com (raw.githubusercontent.com)|185.199.110.133|:443... connected.\n",
      "HTTP request sent, awaiting response... 200 OK\n",
      "Length: 60 [text/plain]\n",
      "Saving to: ‘cities.csv’\n",
      "\n",
      "cities.csv          100%[===================>]      60  --.-KB/s    in 0s      \n",
      "\n",
      "2021-11-22 22:59:06 (623 KB/s) - ‘cities.csv’ saved [60/60]\n",
      "\n"
     ]
    }
   ],
   "source": [
    "!wget https://raw.githubusercontent.com/DataOceanLab/CPTS-415-Project-Examples/main/cities.csv"
   ]
  },
  {
   "cell_type": "code",
   "execution_count": 4,
   "id": "fde01871",
   "metadata": {},
   "outputs": [
    {
     "name": "stdout",
     "output_type": "stream",
     "text": [
      "+-------------+--------------------+\n",
      "|       s_name|             s_bound|\n",
      "+-------------+--------------------+\n",
      "|       Alaska|POLYGON((-141.020...|\n",
      "|      Alabama|POLYGON((-88.1955...|\n",
      "|     Arkansas|POLYGON((-94.0416...|\n",
      "|      Arizona|POLYGON((-112.598...|\n",
      "|   California|POLYGON((-124.400...|\n",
      "|     Colorado|POLYGON((-109.044...|\n",
      "|  Connecticut|POLYGON((-73.4875...|\n",
      "|     Delaware|POLYGON((-75.7919...|\n",
      "|      Florida|POLYGON((-87.6050...|\n",
      "|      Georgia|POLYGON((-85.6082...|\n",
      "|       Hawaii|POLYGON((-154.628...|\n",
      "|         Iowa|POLYGON((-95.7623...|\n",
      "|        Idaho|POLYGON((-117.031...|\n",
      "|     Illinois|POLYGON((-90.6290...|\n",
      "|      Indiana|POLYGON((-87.5253...|\n",
      "|       Kansas|POLYGON((-102.050...|\n",
      "|     Kentucky|POLYGON((-89.5372...|\n",
      "|    Louisiana|POLYGON((-94.0430...|\n",
      "|Massachusetts|POLYGON((-72.7789...|\n",
      "|     Maryland|POLYGON((-79.4778...|\n",
      "+-------------+--------------------+\n",
      "only showing top 20 rows\n",
      "\n",
      "root\n",
      " |-- s_name: string (nullable = true)\n",
      " |-- s_bound: string (nullable = true)\n",
      "\n",
      "+-------------+--------------------+\n",
      "|       s_name|             s_bound|\n",
      "+-------------+--------------------+\n",
      "|       Alaska|POLYGON ((-141.02...|\n",
      "|      Alabama|POLYGON ((-88.195...|\n",
      "|     Arkansas|POLYGON ((-94.041...|\n",
      "|      Arizona|POLYGON ((-112.59...|\n",
      "|   California|POLYGON ((-124.40...|\n",
      "|     Colorado|POLYGON ((-109.04...|\n",
      "|  Connecticut|POLYGON ((-73.487...|\n",
      "|     Delaware|POLYGON ((-75.791...|\n",
      "|      Florida|POLYGON ((-87.605...|\n",
      "|      Georgia|POLYGON ((-85.608...|\n",
      "|       Hawaii|POLYGON ((-154.62...|\n",
      "|         Iowa|POLYGON ((-95.762...|\n",
      "|        Idaho|POLYGON ((-117.03...|\n",
      "|     Illinois|POLYGON ((-90.629...|\n",
      "|      Indiana|POLYGON ((-87.525...|\n",
      "|       Kansas|POLYGON ((-102.05...|\n",
      "|     Kentucky|POLYGON ((-89.537...|\n",
      "|    Louisiana|POLYGON ((-94.043...|\n",
      "|Massachusetts|POLYGON ((-72.778...|\n",
      "|     Maryland|POLYGON ((-79.477...|\n",
      "+-------------+--------------------+\n",
      "only showing top 20 rows\n",
      "\n",
      "root\n",
      " |-- s_name: string (nullable = true)\n",
      " |-- s_bound: geometry (nullable = false)\n",
      "\n"
     ]
    }
   ],
   "source": [
    "states_wkt = spark.read.option(\"delimiter\", \"\\t\").option(\"header\", \"false\").csv(\"boundary-each-state.tsv\").toDF(\"s_name\",\"s_bound\")\n",
    "states_wkt.show()\n",
    "states_wkt.printSchema()\n",
    "\n",
    "states = states_wkt.selectExpr(\"s_name\", \"ST_GeomFromWKT(s_bound) as s_bound\")\n",
    "states.show()\n",
    "states.printSchema()\n",
    "states.createOrReplaceTempView(\"states\")"
   ]
  },
  {
   "cell_type": "code",
   "execution_count": 5,
   "id": "47bf4a7c",
   "metadata": {},
   "outputs": [
    {
     "name": "stdout",
     "output_type": "stream",
     "text": [
      "--2021-11-22 22:59:08--  https://raw.githubusercontent.com/jpatokal/openflights/master/data/airports.dat\n",
      "Resolving raw.githubusercontent.com (raw.githubusercontent.com)... 185.199.108.133, 185.199.109.133, 185.199.110.133, ...\n",
      "Connecting to raw.githubusercontent.com (raw.githubusercontent.com)|185.199.108.133|:443... connected.\n",
      "HTTP request sent, awaiting response... 200 OK\n",
      "Length: 1127225 (1.1M) [text/plain]\n",
      "Saving to: ‘airports.dat’\n",
      "\n",
      "airports.dat        100%[===================>]   1.07M  --.-KB/s    in 0.07s   \n",
      "\n",
      "2021-11-22 22:59:09 (15.3 MB/s) - ‘airports.dat’ saved [1127225/1127225]\n",
      "\n"
     ]
    }
   ],
   "source": [
    "!wget https://raw.githubusercontent.com/jpatokal/openflights/master/data/airports.dat"
   ]
  },
  {
   "cell_type": "code",
   "execution_count": 6,
   "id": "13c4077b",
   "metadata": {},
   "outputs": [
    {
     "name": "stdout",
     "output_type": "stream",
     "text": [
      "--2021-11-22 22:59:09--  https://raw.githubusercontent.com/jpatokal/openflights/master/data/airlines.dat\n",
      "Resolving raw.githubusercontent.com (raw.githubusercontent.com)... 185.199.111.133, 185.199.110.133, 185.199.108.133, ...\n",
      "Connecting to raw.githubusercontent.com (raw.githubusercontent.com)|185.199.111.133|:443... connected.\n",
      "HTTP request sent, awaiting response... 200 OK\n",
      "Length: 396896 (388K) [text/plain]\n",
      "Saving to: ‘airlines.dat’\n",
      "\n",
      "airlines.dat        100%[===================>] 387.59K  --.-KB/s    in 0.04s   \n",
      "\n",
      "2021-11-22 22:59:09 (8.59 MB/s) - ‘airlines.dat’ saved [396896/396896]\n",
      "\n"
     ]
    }
   ],
   "source": [
    "!wget https://raw.githubusercontent.com/jpatokal/openflights/master/data/airlines.dat"
   ]
  },
  {
   "cell_type": "code",
   "execution_count": 7,
   "id": "84197ec9",
   "metadata": {},
   "outputs": [
    {
     "name": "stdout",
     "output_type": "stream",
     "text": [
      "--2021-11-22 22:59:09--  https://raw.githubusercontent.com/jpatokal/openflights/master/data/routes.dat\n",
      "Resolving raw.githubusercontent.com (raw.githubusercontent.com)... 185.199.108.133, 185.199.110.133, 185.199.109.133, ...\n",
      "Connecting to raw.githubusercontent.com (raw.githubusercontent.com)|185.199.108.133|:443... connected.\n",
      "HTTP request sent, awaiting response... 200 OK\n",
      "Length: 2377148 (2.3M) [text/plain]\n",
      "Saving to: ‘routes.dat’\n",
      "\n",
      "routes.dat          100%[===================>]   2.27M  --.-KB/s    in 0.1s    \n",
      "\n",
      "2021-11-22 22:59:09 (19.9 MB/s) - ‘routes.dat’ saved [2377148/2377148]\n",
      "\n"
     ]
    }
   ],
   "source": [
    "!wget https://raw.githubusercontent.com/jpatokal/openflights/master/data/routes.dat"
   ]
  },
  {
   "cell_type": "code",
   "execution_count": 8,
   "id": "2eaee316",
   "metadata": {},
   "outputs": [
    {
     "name": "stdout",
     "output_type": "stream",
     "text": [
      "+---------+--------------------+--------------+----------------+----+----+--------------------+\n",
      "|AirportID|                Name|          City|         Country|IATA|ICAO| geospacial_Location|\n",
      "+---------+--------------------+--------------+----------------+----+----+--------------------+\n",
      "|        1|      Goroka Airport|        Goroka|Papua New Guinea| GKA|AYGA|POINT (145.391998...|\n",
      "|        2|      Madang Airport|        Madang|Papua New Guinea| MAG|AYMD|POINT (145.789001...|\n",
      "|        3|Mount Hagen Kagam...|   Mount Hagen|Papua New Guinea| HGU|AYMH|POINT (144.296005...|\n",
      "|        4|      Nadzab Airport|        Nadzab|Papua New Guinea| LAE|AYNZ|POINT (146.725977...|\n",
      "|        5|Port Moresby Jack...|  Port Moresby|Papua New Guinea| POM|AYPY|POINT (147.220001...|\n",
      "|        6|Wewak Internation...|         Wewak|Papua New Guinea| WWK|AYWK|POINT (143.669006...|\n",
      "|        7|  Narsarsuaq Airport|  Narssarssuaq|       Greenland| UAK|BGBW|POINT (-45.425998...|\n",
      "|        8|Godthaab / Nuuk A...|      Godthaab|       Greenland| GOH|BGGH|POINT (-51.678100...|\n",
      "|        9|Kangerlussuaq Air...|   Sondrestrom|       Greenland| SFJ|BGSF|POINT (-50.711603...|\n",
      "|       10|      Thule Air Base|         Thule|       Greenland| THU|BGTL|POINT (-68.703201...|\n",
      "|       11|    Akureyri Airport|      Akureyri|         Iceland| AEY|BIAR|POINT (-18.072700...|\n",
      "|       12| Egilsstaðir Airport|   Egilsstadir|         Iceland| EGS|BIEG|POINT (-14.401399...|\n",
      "|       13|Hornafjörður Airport|          Hofn|         Iceland| HFN|BIHN|POINT (-15.2272 6...|\n",
      "|       14|     Húsavík Airport|       Husavik|         Iceland| HZK|BIHU|POINT (-17.426001...|\n",
      "|       15|  Ísafjörður Airport|    Isafjordur|         Iceland| IFJ|BIIS|POINT (-23.135299...|\n",
      "|       16|Keflavik Internat...|      Keflavik|         Iceland| KEF|BIKF|POINT (-22.605600...|\n",
      "|       17|Patreksfjörður Ai...|Patreksfjordur|         Iceland| PFJ|BIPA|POINT (-23.965 65...|\n",
      "|       18|   Reykjavik Airport|     Reykjavik|         Iceland| RKV|BIRK|POINT (-21.940599...|\n",
      "|       19|Siglufjörður Airport|  Siglufjordur|         Iceland| SIJ|BISI|POINT (-18.9167 6...|\n",
      "|       20|Vestmannaeyjar Ai...|Vestmannaeyjar|         Iceland| VEY|BIVM|POINT (-20.278900...|\n",
      "+---------+--------------------+--------------+----------------+----+----+--------------------+\n",
      "only showing top 20 rows\n",
      "\n",
      "root\n",
      " |-- AirportID: string (nullable = false)\n",
      " |-- Name: string (nullable = false)\n",
      " |-- City: string (nullable = false)\n",
      " |-- Country: string (nullable = false)\n",
      " |-- IATA: string (nullable = false)\n",
      " |-- ICAO: string (nullable = false)\n",
      " |-- geospacial_Location: geometry (nullable = false)\n",
      "\n"
     ]
    }
   ],
   "source": [
    "airport_dat = spark.read.option(\"delimiter\", \",\").option(\"header\", \"false\").csv(\"airports.dat\").toDF(\"AirportID\",\"Name\"\n",
    ",\"City\",\"Country\",\"IATA\",\"ICAO\",\"Latitude\",\"Longitude\",\"Altitude\",\"Timezone\",\"DST\",\"Database Time Zone\",\"Type\",\"Source\")\n",
    "airport_dat = airport_dat.drop(\"Source\")\n",
    "airport_dat = airport_dat.drop(\"Type\")\n",
    "airport_dat = airport_dat.drop(\"Database Time Zone\")\n",
    "airport_dat = airport_dat.drop(\"DST\")\n",
    "airport_dat = airport_dat.drop(\"Timezone\")\n",
    "airport_dat = airport_dat.drop(\"Altitude\")\n",
    "airport_dat = airport_dat.fillna('N/A')\n",
    "airport_dat = airport_dat.na.replace(\"\\\\N\",\"N/A\")\n",
    "airport_dat = airport_dat.na.replace(\"-\",\"N/A\")\n",
    "\n",
    "from pyspark.sql import functions\n",
    "airport = airport_dat.select(\"AirportID\", \"Name\", \"City\", \"Country\",\"IATA\",\"ICAO\",\n",
    "                                 functions.concat_ws(\"_\",airport_dat.Longitude,airport_dat.Latitude).alias(\"Location\"))\n",
    "\n",
    "airport = airport.selectExpr(\"*\", \"ST_PointFromText(Location, \\'_\\') as geospacial_Location\")\n",
    "airport = airport.drop(\"Location\")\n",
    "airport.createOrReplaceTempView(\"airport\")\n",
    "airport.show()\n",
    "airport.printSchema()"
   ]
  },
  {
   "cell_type": "code",
   "execution_count": 9,
   "id": "853024fd",
   "metadata": {},
   "outputs": [
    {
     "name": "stdout",
     "output_type": "stream",
     "text": [
      "+---------+--------------------+-----+----+----+--------------+------+\n",
      "|AirlineID|                Name|Alias|IATA|ICAO|       Country|Active|\n",
      "+---------+--------------------+-----+----+----+--------------+------+\n",
      "|        1|      Private flight|  N/A| N/A| N/A|           N/A|     Y|\n",
      "|        2|         135 Airways|  N/A| N/A| GNL| United States|     N|\n",
      "|        3|       1Time Airline|  N/A|  1T| RNX|  South Africa|     Y|\n",
      "|        4|2 Sqn No 1 Elemen...|  N/A| N/A| WYT|United Kingdom|     N|\n",
      "|        5|     213 Flight Unit|  N/A| N/A| TFU|        Russia|     N|\n",
      "|        6|223 Flight Unit S...|  N/A| N/A| CHD|        Russia|     N|\n",
      "|        7|   224th Flight Unit|  N/A| N/A| TTF|        Russia|     N|\n",
      "|        8|         247 Jet Ltd|  N/A| N/A| TWF|United Kingdom|     N|\n",
      "|        9|         3D Aviation|  N/A| N/A| SEC| United States|     N|\n",
      "|       10|         40-Mile Air|  N/A|  Q5| MLA| United States|     Y|\n",
      "|       11|              4D Air|  N/A| N/A| QRT|      Thailand|     N|\n",
      "|       12|611897 Alberta Li...|  N/A| N/A| THD|        Canada|     N|\n",
      "|       13|    Ansett Australia|  N/A|  AN| AAA|     Australia|     Y|\n",
      "|       14|Abacus International|  N/A|  1B| N/A|     Singapore|     Y|\n",
      "|       15|     Abelag Aviation|  N/A|  W9| AAB|       Belgium|     N|\n",
      "|       16|      Army Air Corps|  N/A| N/A| AAC|United Kingdom|     N|\n",
      "|       17|Aero Aviation Cen...|  N/A| N/A| AAD|        Canada|     N|\n",
      "|       18|Aero Servicios Ej...|  N/A| N/A| SII|        Mexico|     N|\n",
      "|       19|         Aero Biniza|  N/A| N/A| BZS|        Mexico|     N|\n",
      "|       20|       Aero Albatros|  N/A| N/A| ABM|         Spain|     N|\n",
      "+---------+--------------------+-----+----+----+--------------+------+\n",
      "only showing top 20 rows\n",
      "\n",
      "root\n",
      " |-- AirlineID: string (nullable = false)\n",
      " |-- Name: string (nullable = false)\n",
      " |-- Alias: string (nullable = false)\n",
      " |-- IATA: string (nullable = false)\n",
      " |-- ICAO: string (nullable = false)\n",
      " |-- Country: string (nullable = false)\n",
      " |-- Active: string (nullable = false)\n",
      "\n"
     ]
    }
   ],
   "source": [
    "airline_dat = spark.read.option(\"delimiter\", \",\").option(\"header\", \"false\").csv(\"airlines.dat\").toDF(\"AirlineID\",\"Name\"\n",
    ",\"Alias\",\"IATA\",\"ICAO\",\"Callsign\",\"Country\",\"Active\")\n",
    "airline_dat = airline_dat.fillna('N/A')\n",
    "airline_dat = airline_dat.na.replace(\"\\\\N\",\"N/A\")\n",
    "airline_dat = airline_dat.na.replace(\"-\",\"N/A\")\n",
    "airline_dat = airline_dat.drop(\"Callsign\")\n",
    "airline_dat.createOrReplaceTempView(\"airline\")\n",
    "airline_dat = spark.sql(\"select * from airline where AirlineID > 0\")\n",
    "airline_dat.show()\n",
    "airline_dat.printSchema()\n",
    "airline = airline_dat"
   ]
  },
  {
   "cell_type": "code",
   "execution_count": 10,
   "id": "5c751aac",
   "metadata": {},
   "outputs": [
    {
     "name": "stdout",
     "output_type": "stream",
     "text": [
      "+-------+---------+-------------+---------------+------------------+--------------------+---------+-----+\n",
      "|Airline|AirlineID|SourceAirport|SourceAirportID|DestinationAirport|DestinationAirportID|Codeshare|Stops|\n",
      "+-------+---------+-------------+---------------+------------------+--------------------+---------+-----+\n",
      "|     2B|      410|          AER|           2965|               KZN|                2990|      N/A|    0|\n",
      "|     2B|      410|          ASF|           2966|               KZN|                2990|      N/A|    0|\n",
      "|     2B|      410|          ASF|           2966|               MRV|                2962|      N/A|    0|\n",
      "|     2B|      410|          CEK|           2968|               KZN|                2990|      N/A|    0|\n",
      "|     2B|      410|          CEK|           2968|               OVB|                4078|      N/A|    0|\n",
      "|     2B|      410|          DME|           4029|               KZN|                2990|      N/A|    0|\n",
      "|     2B|      410|          DME|           4029|               NBC|                6969|      N/A|    0|\n",
      "|     2B|      410|          DME|           4029|               TGK|                 N/A|      N/A|    0|\n",
      "|     2B|      410|          DME|           4029|               UUA|                6160|      N/A|    0|\n",
      "|     2B|      410|          EGO|           6156|               KGD|                2952|      N/A|    0|\n",
      "|     2B|      410|          EGO|           6156|               KZN|                2990|      N/A|    0|\n",
      "|     2B|      410|          GYD|           2922|               NBC|                6969|      N/A|    0|\n",
      "|     2B|      410|          KGD|           2952|               EGO|                6156|      N/A|    0|\n",
      "|     2B|      410|          KZN|           2990|               AER|                2965|      N/A|    0|\n",
      "|     2B|      410|          KZN|           2990|               ASF|                2966|      N/A|    0|\n",
      "|     2B|      410|          KZN|           2990|               CEK|                2968|      N/A|    0|\n",
      "|     2B|      410|          KZN|           2990|               DME|                4029|      N/A|    0|\n",
      "|     2B|      410|          KZN|           2990|               EGO|                6156|      N/A|    0|\n",
      "|     2B|      410|          KZN|           2990|               LED|                2948|      N/A|    0|\n",
      "|     2B|      410|          KZN|           2990|               SVX|                2975|      N/A|    0|\n",
      "+-------+---------+-------------+---------------+------------------+--------------------+---------+-----+\n",
      "only showing top 20 rows\n",
      "\n"
     ]
    }
   ],
   "source": [
    "route_dat = spark.read.option(\"delimiter\", \",\").option(\"header\", \"false\").csv(\"routes.dat\").toDF(\"Airline\",\"AirlineID\"\n",
    ",\"SourceAirport\",\"SourceAirportID\",\"DestinationAirport\",\"DestinationAirportID\",\"Codeshare\",\"Stops\",\"Equipment\")\n",
    "route_dat = route_dat.drop(\"Equipment\")\n",
    "route_dat = route_dat.fillna('N/A')\n",
    "route_dat = route_dat.na.replace(\"\\\\N\",\"N/A\")\n",
    "route_dat = route_dat.na.replace(\"-\",\"N/A\")\n",
    "route_dat.createOrReplaceTempView(\"route\")\n",
    "#route_dat.show()\n",
    "#route_dat.printSchema()\n",
    "\n",
    "route = route_dat\n",
    "route.show()"
   ]
  },
  {
   "cell_type": "code",
   "execution_count": 11,
   "id": "145b2dd6",
   "metadata": {},
   "outputs": [
    {
     "data": {
      "text/plain": [
       "7698"
      ]
     },
     "execution_count": 11,
     "metadata": {},
     "output_type": "execute_result"
    }
   ],
   "source": [
    "airport.count()"
   ]
  },
  {
   "cell_type": "code",
   "execution_count": 12,
   "id": "c17734d8",
   "metadata": {},
   "outputs": [
    {
     "data": {
      "text/plain": [
       "6161"
      ]
     },
     "execution_count": 12,
     "metadata": {},
     "output_type": "execute_result"
    }
   ],
   "source": [
    "airline.count()"
   ]
  },
  {
   "cell_type": "code",
   "execution_count": 13,
   "id": "71a03a64",
   "metadata": {},
   "outputs": [
    {
     "data": {
      "text/plain": [
       "67663"
      ]
     },
     "execution_count": 13,
     "metadata": {},
     "output_type": "execute_result"
    }
   ],
   "source": [
    "route.count()"
   ]
  },
  {
   "cell_type": "code",
   "execution_count": 14,
   "id": "94b77faf",
   "metadata": {},
   "outputs": [],
   "source": [
    "airline_cp = spark.sql(\"Select * from airline where airline.IATA != 'N/A'\")\n",
    "airline_cp = airline_cp.withColumnRenamed(\"IATA\",\"Airline\")"
   ]
  },
  {
   "cell_type": "code",
   "execution_count": 15,
   "id": "f9baec04",
   "metadata": {},
   "outputs": [],
   "source": [
    "route_cp = route.alias('r').join(airline_cp.alias('a'), on = 'Airline', how = 'left')\\\n",
    "    .select('r.Airline', functions.when(~functions.isnull(functions.col('a.AirlineID')),\n",
    "                                       functions.col('a.AirlineID')\n",
    "                                       ).otherwise(functions.col('r.AirlineID')).alias('AirlineID'),\n",
    "            #'r.AirlineID', 'a.AirlineID',\n",
    "           'r.SourceAirport', 'r.SourceAirportID', 'r.DestinationAirport', 'r.DestinationAirportID',\n",
    "           'r.Codeshare', 'r.Stops').dropDuplicates()"
   ]
  },
  {
   "cell_type": "code",
   "execution_count": 16,
   "id": "7bdc2814",
   "metadata": {},
   "outputs": [
    {
     "name": "stderr",
     "output_type": "stream",
     "text": [
      "                                                                                \r"
     ]
    },
    {
     "data": {
      "text/plain": [
       "78221"
      ]
     },
     "execution_count": 16,
     "metadata": {},
     "output_type": "execute_result"
    }
   ],
   "source": [
    "route_cp.count()"
   ]
  },
  {
   "cell_type": "code",
   "execution_count": 17,
   "id": "946aa6ca",
   "metadata": {},
   "outputs": [],
   "source": [
    "airline_cp = spark.sql(\"Select * from airline where airline.ICAO != 'N/A'\")\n",
    "airline_cp = airline_cp.withColumnRenamed(\"ICAO\",\"Airline\")"
   ]
  },
  {
   "cell_type": "code",
   "execution_count": 18,
   "id": "c5997ee7",
   "metadata": {},
   "outputs": [],
   "source": [
    "route_cp = route_cp.alias('r').join(airline_cp.alias('a'), on = 'Airline', how = 'left')\\\n",
    "    .select('r.Airline', functions.when(~functions.isnull(functions.col('a.AirlineID')),\n",
    "                                       functions.col('a.AirlineID')\n",
    "                                       ).otherwise(functions.col('r.AirlineID')).alias('AirlineID'),\n",
    "           'r.SourceAirport', 'r.SourceAirportID', 'r.DestinationAirport', 'r.DestinationAirportID',\n",
    "           'r.Codeshare', 'r.Stops').dropDuplicates()\n"
   ]
  },
  {
   "cell_type": "code",
   "execution_count": 19,
   "id": "247c9886",
   "metadata": {},
   "outputs": [],
   "source": [
    "airport_cp = spark.sql(\"Select * from airport where airport.IATA != 'N/A'\")\n",
    "airport_cp = airport_cp.withColumnRenamed(\"IATA\",\"SourceAirport\")"
   ]
  },
  {
   "cell_type": "code",
   "execution_count": 20,
   "id": "539814f3",
   "metadata": {},
   "outputs": [],
   "source": [
    "route_cp = route_cp.alias('r').join(airport_cp.alias('a'), \n",
    "                                    \n",
    "                                    on = 'SourceAirport', how = 'left')\\\n",
    "    .select('r.Airline', 'r.AirlineID','r.SourceAirport', functions.when(~functions.isnull(functions.col('a.AirportID')),\n",
    "                                       functions.col('a.AirportID')\n",
    "                                       ).otherwise(functions.col('r.SourceAirportID')).alias('SourceAirportID'), \n",
    "            'r.DestinationAirport', 'r.DestinationAirportID',\n",
    "           'r.Codeshare', 'r.Stops').dropDuplicates()"
   ]
  },
  {
   "cell_type": "code",
   "execution_count": 21,
   "id": "b41a861d",
   "metadata": {},
   "outputs": [],
   "source": [
    "airport_cp = spark.sql(\"Select * from airport where airport.ICAO != 'N/A'\")\n",
    "airport_cp = airport_cp.withColumnRenamed(\"ICAO\",\"SourceAirport\")"
   ]
  },
  {
   "cell_type": "code",
   "execution_count": 22,
   "id": "89207291",
   "metadata": {},
   "outputs": [],
   "source": [
    "route_cp = route_cp.alias('r').join(airport_cp.alias('a'), on = 'SourceAirport', how = 'left')\\\n",
    "    .select('r.Airline', 'r.AirlineID','r.SourceAirport', functions.when(~functions.isnull(functions.col('a.AirportID')),\n",
    "                                       functions.col('a.AirportID')\n",
    "                                       ).otherwise(functions.col('r.SourceAirportID')).alias('SourceAirportID'), \n",
    "            'r.DestinationAirport', 'r.DestinationAirportID',\n",
    "           'r.Codeshare', 'r.Stops').dropDuplicates()"
   ]
  },
  {
   "cell_type": "code",
   "execution_count": 23,
   "id": "5063ccd3",
   "metadata": {},
   "outputs": [],
   "source": [
    "airport_cp = spark.sql(\"Select * from airport where airport.IATA != 'N/A'\")\n",
    "airport_cp = airport_cp.withColumnRenamed(\"IATA\",\"DestinationAirport\")"
   ]
  },
  {
   "cell_type": "code",
   "execution_count": 24,
   "id": "aa1528d1",
   "metadata": {},
   "outputs": [],
   "source": [
    "route_cp = route_cp.alias('r').join(airport_cp.alias('a'), on = 'DestinationAirport', how = 'left')\\\n",
    "    .select('r.Airline', 'r.AirlineID','r.SourceAirport', 'r.SourceAirportID',\n",
    "            'r.DestinationAirport', functions.when(~functions.isnull(functions.col('a.AirportID')),\n",
    "                                       functions.col('a.AirportID')\n",
    "                                       ).otherwise(functions.col('r.DestinationAirportID')).alias('DestinationAirportID'),\n",
    "           'r.Codeshare', 'r.Stops').dropDuplicates()"
   ]
  },
  {
   "cell_type": "code",
   "execution_count": 25,
   "id": "76df0601",
   "metadata": {},
   "outputs": [
    {
     "name": "stderr",
     "output_type": "stream",
     "text": [
      "                                                                                \r"
     ]
    },
    {
     "data": {
      "text/plain": [
       "78221"
      ]
     },
     "execution_count": 25,
     "metadata": {},
     "output_type": "execute_result"
    }
   ],
   "source": [
    "route_cp.count()"
   ]
  },
  {
   "cell_type": "code",
   "execution_count": 26,
   "id": "ac3669c1",
   "metadata": {},
   "outputs": [],
   "source": [
    "airport_cp = spark.sql(\"Select * from airport where airport.ICAO != 'N/A'\")\n",
    "airport_cp = airport_cp.withColumnRenamed(\"ICAO\",\"DestinationAirport\")"
   ]
  },
  {
   "cell_type": "code",
   "execution_count": 27,
   "id": "10cd3091",
   "metadata": {},
   "outputs": [],
   "source": [
    "route_cp = route_cp.alias('r').join(airport_cp.alias('a'), on = 'DestinationAirport', how = 'left')\\\n",
    "    .select('r.Airline', 'r.AirlineID','r.SourceAirport', 'r.SourceAirportID',\n",
    "            'r.DestinationAirport', functions.when(~functions.isnull(functions.col('a.AirportID')),\n",
    "                                       functions.col('a.AirportID')\n",
    "                                       ).otherwise(functions.col('r.DestinationAirportID')).alias('DestinationAirportID'),\n",
    "           'r.Codeshare', 'r.Stops').dropDuplicates().sort(\"Airline\")"
   ]
  },
  {
   "cell_type": "code",
   "execution_count": 28,
   "id": "d9abd117",
   "metadata": {},
   "outputs": [
    {
     "name": "stderr",
     "output_type": "stream",
     "text": [
      "[Stage 45:=========================================>            (152 + 8) / 200]\r"
     ]
    },
    {
     "name": "stdout",
     "output_type": "stream",
     "text": [
      "+-------+---------+-------------+---------------+------------------+--------------------+---------+-----+\n",
      "|Airline|AirlineID|SourceAirport|SourceAirportID|DestinationAirport|DestinationAirportID|Codeshare|Stops|\n",
      "+-------+---------+-------------+---------------+------------------+--------------------+---------+-----+\n",
      "|     2B|      410|          LED|           2948|               NBC|                6969|      N/A|    0|\n",
      "|     2B|      410|          LED|           2948|               KZN|                2990|      N/A|    0|\n",
      "|     2B|      410|          NUX|           4364|               SVX|                2975|      N/A|    0|\n",
      "|     2B|      410|          KZN|           2990|               AER|                2965|      N/A|    0|\n",
      "|     2B|      410|          UUA|           6160|               LED|                2948|      N/A|    0|\n",
      "|     2B|      410|          KZN|           2990|               LED|                2948|      N/A|    0|\n",
      "|     2B|      410|          KZN|           2990|               CEK|                2968|      N/A|    0|\n",
      "|     2B|      410|          LED|           2948|               UUA|                6160|      N/A|    0|\n",
      "|     2B|      410|          NBC|           6969|               DME|                4029|      N/A|    0|\n",
      "|     2B|      410|          KZN|           2990|               ASF|                2966|      N/A|    0|\n",
      "|     2B|      410|          ASF|           2966|               MRV|                2962|      N/A|    0|\n",
      "|     2B|      410|          KZN|           2990|               DME|                4029|      N/A|    0|\n",
      "|     2B|      410|          CEK|           2968|               OVB|                4078|      N/A|    0|\n",
      "|     2B|      410|          GYD|           2922|               NBC|                6969|      N/A|    0|\n",
      "|     2B|      410|          SVX|           2975|               NJC|                2972|      N/A|    0|\n",
      "|     2B|      410|          KZN|           2990|               EGO|                6156|      N/A|    0|\n",
      "|     2B|      410|          DME|           4029|               KZN|                2990|      N/A|    0|\n",
      "|     2B|      410|          EGO|           6156|               KGD|                2952|      N/A|    0|\n",
      "|     2B|      410|          AER|           2965|               KZN|                2990|      N/A|    0|\n",
      "|     2B|      410|          TGK|           6932|               DME|                4029|      N/A|    0|\n",
      "+-------+---------+-------------+---------------+------------------+--------------------+---------+-----+\n",
      "only showing top 20 rows\n",
      "\n"
     ]
    },
    {
     "name": "stderr",
     "output_type": "stream",
     "text": [
      "                                                                                \r"
     ]
    }
   ],
   "source": [
    "route_cp.show()"
   ]
  },
  {
   "cell_type": "code",
   "execution_count": 29,
   "id": "fecf0da0",
   "metadata": {},
   "outputs": [
    {
     "name": "stdout",
     "output_type": "stream",
     "text": [
      "Enter country's name: United States\n",
      "+---------+--------------------+----------------+-------------+\n",
      "|AirportID|                Name|            City|      Country|\n",
      "+---------+--------------------+----------------+-------------+\n",
      "|     3411|Barter Island LRR...|   Barter Island|United States|\n",
      "|     3412|Wainwright Air St...| Fort Wainwright|United States|\n",
      "|     3413|Cape Lisburne LRR...|   Cape Lisburne|United States|\n",
      "|     3414|Point Lay LRRS Ai...|       Point Lay|United States|\n",
      "|     3415|Hilo Internationa...|            Hilo|United States|\n",
      "|     3416|Orlando Executive...|         Orlando|United States|\n",
      "|     3417|     Bettles Airport|         Bettles|United States|\n",
      "|     3418|       Clear Airport|      Clear Mews|United States|\n",
      "|     3419|Indian Mountain L...|Indian Mountains|United States|\n",
      "|     3420|  Fort Yukon Airport|      Fort Yukon|United States|\n",
      "|     3421|Sparrevohn LRRS A...|      Sparrevohn|United States|\n",
      "|     3422|Bryant Army Heliport| Fort Richardson|United States|\n",
      "|     3423|Tatalina LRRS Air...|        Tatalina|United States|\n",
      "|     3424|Cape Romanzof LRR...|   Cape Romanzof|United States|\n",
      "|     3425|Laurence G Hansco...|         Bedford|United States|\n",
      "|     3426|St Paul Island Ai...| St. Paul Island|United States|\n",
      "|     3427|Cape Newenham LRR...|   Cape Newenham|United States|\n",
      "|     3428|   St George Airport|    Point Barrow|United States|\n",
      "|     3429|     Iliamna Airport|         Iliamna|United States|\n",
      "|     3430|    Platinum Airport|     Port Moller|United States|\n",
      "+---------+--------------------+----------------+-------------+\n",
      "only showing top 20 rows\n",
      "\n"
     ]
    }
   ],
   "source": [
    "airport_cp = spark.sql(\"Select AirportID, Name, City, Country from airport where airport.Country != 'N/A'\")\n",
    "X = input(\"Enter country's name: \")\n",
    "airport_cp.filter(airport_cp.Country.rlike(f\"(?i)^*{X}$\")).show()"
   ]
  },
  {
   "cell_type": "code",
   "execution_count": 30,
   "id": "d3c41a7b",
   "metadata": {},
   "outputs": [
    {
     "name": "stdout",
     "output_type": "stream",
     "text": [
      "Enter # stops: 1\n"
     ]
    },
    {
     "name": "stderr",
     "output_type": "stream",
     "text": [
      "                                                                                \r"
     ]
    },
    {
     "name": "stdout",
     "output_type": "stream",
     "text": [
      "+---------+--------------------+-----+\n",
      "|AirlineID|        Airline_Name|Stops|\n",
      "+---------+--------------------+-----+\n",
      "|     1316|     AirTran Airways|    1|\n",
      "|     1936|  Cubana de Aviación|    1|\n",
      "|     4319|Scandinavian Airl...|    1|\n",
      "|     1623|      Canadian North|    1|\n",
      "|      330|          Air Canada|    1|\n",
      "|     4547|  Southwest Airlines|    1|\n",
      "+---------+--------------------+-----+\n",
      "\n"
     ]
    }
   ],
   "source": [
    "from pyspark.sql.functions import when\n",
    "route_cp.createOrReplaceTempView(\"route_cp\")\n",
    "X = input(\"Enter # stops: \")\n",
    "newRoute = spark.sql(f\"Select AirlineID, Stops from route_cp where route_cp.Stops == {X}\")\n",
    "airline_cp = spark.sql(f\"Select AirlineID, Name, Alias from airline\")\n",
    "newRoute = newRoute.alias('r').join(airline_cp.alias('a'), on = 'AirlineID', how = 'inner')\\\n",
    "    .select('r.AirlineID', when(airline_cp.Name != 'N/A', airline_cp.Name)\n",
    "            .otherwise(\"a.Alias\").alias('Airline_Name'),\n",
    "'r.Stops').dropDuplicates()\n",
    "newRoute.filter(newRoute.Airline_Name != 'N/A').show()"
   ]
  },
  {
   "cell_type": "code",
   "execution_count": 31,
   "id": "373b4dc9",
   "metadata": {},
   "outputs": [
    {
     "name": "stderr",
     "output_type": "stream",
     "text": [
      "                                                                                \r"
     ]
    },
    {
     "name": "stdout",
     "output_type": "stream",
     "text": [
      "+---------+--------------------+---------+\n",
      "|AirlineID|        Airline_Name|Codeshare|\n",
      "+---------+--------------------+---------+\n",
      "|     5179|               Tarom|        Y|\n",
      "|      502|Abu Dhabi Amiri F...|        Y|\n",
      "|      324|  All Nippon Airways|        Y|\n",
      "|     2855|              Indigo|        Y|\n",
      "|     5416|             WestJet|        Y|\n",
      "|     5347|Virgin Atlantic A...|        Y|\n",
      "|     1889|       Copa Airlines|        Y|\n",
      "|     2421|               Flybe|        Y|\n",
      "|     4559|Swiss Internation...|        Y|\n",
      "|       28|     Asiana Airlines|        Y|\n",
      "|     5309|    Vietnam Airlines|        Y|\n",
      "|     1942|      Cyprus Airways|        Y|\n",
      "|      137|          Air France|        Y|\n",
      "|      241|          Air Sahara|        Y|\n",
      "|     3378|   Malaysia Airlines|        Y|\n",
      "|     1908|          Corsairfly|        Y|\n",
      "|     1317|         Air Transat|        Y|\n",
      "|     4292|    Rwandair Express|        Y|\n",
      "|      197| Azerbaijan Airlines|        Y|\n",
      "|     2056|           Dragonair|        Y|\n",
      "+---------+--------------------+---------+\n",
      "only showing top 20 rows\n",
      "\n"
     ]
    }
   ],
   "source": [
    "newRoute = spark.sql(f\"Select AirlineID, Codeshare from route_cp where route_cp.Codeshare == 'Y' \\\n",
    "                     or route_cp.Codeshare == 'y'\")\n",
    "airline_cp = spark.sql(f\"Select AirlineID, Name, Alias from airline\")\n",
    "airline_cp = newRoute.alias('r').join(airline_cp.alias('a'), on = 'AirlineID', how = 'inner')\\\n",
    "    .select('r.AirlineID', when(airline_cp.Name != 'N/A', airline_cp.Name)\n",
    "            .otherwise(\"a.Alias\").alias('Airline_Name'),\n",
    "'r.Codeshare').dropDuplicates()\n",
    "airline_cp.filter(airline_cp.Airline_Name != 'N/A').show()"
   ]
  },
  {
   "cell_type": "code",
   "execution_count": 32,
   "id": "559cdffb",
   "metadata": {},
   "outputs": [
    {
     "name": "stdout",
     "output_type": "stream",
     "text": [
      "+---------+--------------------+-------------+------+\n",
      "|AirlineID|        Airline_Name|      Country|Active|\n",
      "+---------+--------------------+-------------+------+\n",
      "|       10|         40-Mile Air|United States|     Y|\n",
      "|       22|      Aloha Airlines|United States|     Y|\n",
      "|       24|   American Airlines|United States|     Y|\n",
      "|       35|       Allegiant Air|United States|     Y|\n",
      "|      109|Alaska Central Ex...|United States|     Y|\n",
      "|      149|  Air Cargo Carriers|United States|     Y|\n",
      "|      210|Airlift Internati...|United States|     Y|\n",
      "|      281|America West Airl...|United States|     Y|\n",
      "|      282|       Air Wisconsin|United States|     Y|\n",
      "|      287|Allegheny Commute...|United States|     Y|\n",
      "|      295|        Air Sunshine|United States|     Y|\n",
      "|      315|        ATA Airlines|United States|     Y|\n",
      "|      397|           Arrow Air|United States|     Y|\n",
      "|      452|Atlantic Southeas...|United States|     Y|\n",
      "|      659|American Eagle Ai...|United States|     Y|\n",
      "|      792|          Access Air|United States|     Y|\n",
      "|      882|         Air Florida|United States|     Y|\n",
      "|      928|           Atlas Air|United States|     Y|\n",
      "|     1316|     AirTran Airways|United States|     Y|\n",
      "|     1442|    Bemidji Airlines|United States|     Y|\n",
      "+---------+--------------------+-------------+------+\n",
      "only showing top 20 rows\n",
      "\n"
     ]
    }
   ],
   "source": [
    "airline_cp = spark.sql(\"\"\"\n",
    "                       Select AirlineID, Name, Alias, Country, Active \n",
    "                       from airline \n",
    "                       where Country == 'United States' and (Active == 'Y' or Active == 'y')\n",
    "                       \"\"\")\n",
    "airline_cp = airline_cp.select(airline_cp.AirlineID, when(airline_cp.Name != 'N/A', airline_cp.Name)\n",
    "            .otherwise(airline_cp.Alias).alias('Airline_Name'), airline_cp.Country, airline_cp.Active)\n",
    "airline_cp.filter(airline_cp.Airline_Name != 'N/A').show()"
   ]
  },
  {
   "cell_type": "code",
   "execution_count": 33,
   "id": "8ab04cea",
   "metadata": {},
   "outputs": [
    {
     "name": "stderr",
     "output_type": "stream",
     "text": [
      "                                                                                \r"
     ]
    },
    {
     "data": {
      "text/plain": [
       "Row(Country='United States', Num_Airports=1512)"
      ]
     },
     "execution_count": 33,
     "metadata": {},
     "output_type": "execute_result"
    }
   ],
   "source": [
    "airport_cp = spark.sql(\"\"\"\n",
    "                select Country, count(Country) as Num_Airports\n",
    "                from airport\n",
    "                where country != 'N/A'\n",
    "                group by Country\n",
    "                order by Num_Airports desc\n",
    "            \"\"\")\n",
    "airport_cp.first()"
   ]
  },
  {
   "cell_type": "code",
   "execution_count": 34,
   "id": "f1fb8170",
   "metadata": {},
   "outputs": [
    {
     "name": "stderr",
     "output_type": "stream",
     "text": [
      "[Stage 143:=========================================>           (156 + 8) / 200]\r"
     ]
    },
    {
     "name": "stdout",
     "output_type": "stream",
     "text": [
      "+---------+------------+\n",
      "|     City|Num_Airlines|\n",
      "+---------+------------+\n",
      "|    Paris|         147|\n",
      "|   London|         139|\n",
      "|   Moscow|         132|\n",
      "|  Bangkok|         126|\n",
      "|Frankfurt|         111|\n",
      "|     Rome|         103|\n",
      "| Istanbul|          99|\n",
      "|    Dubai|          97|\n",
      "|Hong Kong|          97|\n",
      "|Singapore|          94|\n",
      "|Amsterdam|          93|\n",
      "|   Munich|          93|\n",
      "|  Beijing|          91|\n",
      "| New York|          86|\n",
      "|Barcelona|          85|\n",
      "|   Milano|          85|\n",
      "|   Zurich|          83|\n",
      "|   Vienna|          83|\n",
      "| Shanghai|          82|\n",
      "|    Tokyo|          82|\n",
      "+---------+------------+\n",
      "only showing top 20 rows\n",
      "\n"
     ]
    },
    {
     "name": "stderr",
     "output_type": "stream",
     "text": [
      "                                                                                \r"
     ]
    }
   ],
   "source": [
    "airline_cp = spark.sql(\"\"\"\n",
    "                       Select AirlineID, DestinationAirportID \n",
    "                       from route_cp \n",
    "                       where AirlineID != 'N/A' and DestinationAirportID != 'N/A'\n",
    "                       \"\"\")\n",
    "airline_cp.createOrReplaceTempView(\"airline_cp\")\n",
    "airport_cp = spark.sql(\"\"\"\n",
    "                       Select AirportID, City\n",
    "                       from airport \n",
    "                       where City != 'N/A'\n",
    "                       \"\"\")\n",
    "airport_cp.createOrReplaceTempView(\"airport_cp\")\n",
    "result = spark.sql(\"\"\"\n",
    "            Select airport_cp.City, count(distinct airline_cp.AirlineID) as Num_Airlines\n",
    "            from airline_cp\n",
    "            inner join airport_cp\n",
    "            on airline_cp.DestinationAirportID == airport_cp.AirportID\n",
    "            group by airport_cp.City\n",
    "            order by Num_Airlines desc\n",
    "    \"\"\")\n",
    "topIncomingAirport=result.limit(10)\n",
    "result.show()"
   ]
  },
  {
   "cell_type": "code",
   "execution_count": 35,
   "id": "6b691e57",
   "metadata": {},
   "outputs": [
    {
     "name": "stdout",
     "output_type": "stream",
     "text": [
      "Enter city's longitude: 105.65\n",
      "Enter country's latitude: 35.689\n",
      "+---------+--------------------+----------------+-------+--------------------+------------------+\n",
      "|AirportID|                Name|            City|Country| geospacial_Location|          Distance|\n",
      "+---------+--------------------+----------------+-------+--------------------+------------------+\n",
      "|     8971|Guyuan Liupanshan...|          Guyuan|  China|POINT (106.216944...|0.6880692903117746|\n",
      "|     8889|Tianshui Maijisha...|        Tianshui|  China|POINT (105.860000...| 1.148955814484211|\n",
      "|     6431|Lanzhou City Airport|         Lanzhou|  China|POINT (103.86667 ...| 1.816268455870173|\n",
      "|    13471|Longnan Chengzhou...|         Longnan|  China|POINT (105.797 33...|1.9066751165313955|\n",
      "|     8043|Zhongwei Shapotou...|        Zhongwei|  China|POINT (105.154454...|1.9482024673377751|\n",
      "|     6365|    Qingyang Airport|        Qingyang|  China|POINT (107.602997...|1.9561319523010166|\n",
      "|     3378|Lanzhou Zhongchua...|         Lanzhou|  China|POINT (103.620002...| 2.191688362688606|\n",
      "|     4085|    Yinchuan Airport|        Yinchuan|  China|POINT (106.009003...| 2.815877834390191|\n",
      "|     6364|Hanzhong Chenggu ...|        Hanzhong|  China|POINT (107.206014...|2.9914059615324664|\n",
      "|    12921|Alxa Left Banner ...|Alxa Left Banner|  China|POINT (105.58858 ...| 3.059926484819526|\n",
      "|     9311|Gannan Xiahe Airport|      Xiahe city|  China|POINT (102.6447 3...| 3.131068562008829|\n",
      "|     6398|   Guangyuan Airport|       Guangyuan|  China|POINT (105.702003...|  3.29830815029521|\n",
      "|     3379|Xi'an Xianyang In...|           Xi'an|  China|POINT (108.751999...| 3.341363260467941|\n",
      "|     4301|Jiuzhai Huanglong...|      Jiuzhaigou|  China|POINT (103.682222...|3.4515438325804517|\n",
      "|     6366|Xining Caojiabu A...|          Xining|  China|POINT (102.042999...|3.7031795073964595|\n",
      "|     7052|Xi'an Xiguan Airport|          Xi\\'AN|  China|POINT (109.120003...|3.7098584185127534|\n",
      "|     6367|Yan'an Ershilipu ...|          Yan'an|  China|POINT (109.554001...| 4.017429776561745|\n",
      "|     6955|       Wuhai Airport|           Wuhai|  China|POINT (106.7993 3...| 4.262275196417986|\n",
      "|     6400|    Mianyang Airport|        Mianyang|  China|POINT (104.740997...|4.3567820348382815|\n",
      "|    11473|    Jinchuan Airport|        Jinchuan|  China|POINT (102.348333...| 4.363700245117075|\n",
      "+---------+--------------------+----------------+-------+--------------------+------------------+\n",
      "only showing top 20 rows\n",
      "\n"
     ]
    }
   ],
   "source": [
    "X = input(\"Enter city's longitude: \")\n",
    "Y = input(\"Enter country's latitude: \")\n",
    "\n",
    "airport_cp = spark.sql(\"\"\"\n",
    "    select AirportID,Name,City,Country,geospacial_Location\n",
    "    from airport\n",
    "    where City != 'N/A'\n",
    "\"\"\")\n",
    "airport_cp.createOrReplaceTempView(\"airport_cp\")\n",
    "result = spark.sql(f\" \\\n",
    "    select a.AirportID, a.Name, a.City, a.Country,a.geospacial_Location, ST_Distance(a.geospacial_Location, ST_Point({X}, {Y})) as Distance \\\n",
    "    from airport as a \\\n",
    "    order by Distance\")\n",
    "closestAirport=result.limit(10)\n",
    "closestAirport2 = gpd.GeoDataFrame(result.limit(100).toPandas(), geometry=\"geospacial_Location\")\n",
    "result.show()"
   ]
  },
  {
   "cell_type": "code",
   "execution_count": 36,
   "id": "afeb227c",
   "metadata": {},
   "outputs": [
    {
     "name": "stderr",
     "output_type": "stream",
     "text": [
      "21/11/22 23:02:27 WARN JoinQuery: UseIndex is true, but no index exists. Will build index on the fly.\n"
     ]
    },
    {
     "name": "stdout",
     "output_type": "stream",
     "text": [
      "+-------------+---------+--------------------+----------------+\n",
      "|       States|AirportID|                Name|            City|\n",
      "+-------------+---------+--------------------+----------------+\n",
      "|       Alaska|     3411|Barter Island LRR...|   Barter Island|\n",
      "|       Alaska|     3412|Wainwright Air St...| Fort Wainwright|\n",
      "|       Alaska|     3413|Cape Lisburne LRR...|   Cape Lisburne|\n",
      "|       Alaska|     3414|Point Lay LRRS Ai...|       Point Lay|\n",
      "|       Hawaii|     3415|Hilo Internationa...|            Hilo|\n",
      "|      Florida|     3416|Orlando Executive...|         Orlando|\n",
      "|       Alaska|     3417|     Bettles Airport|         Bettles|\n",
      "|       Alaska|     3418|       Clear Airport|      Clear Mews|\n",
      "|       Alaska|     3419|Indian Mountain L...|Indian Mountains|\n",
      "|       Alaska|     3420|  Fort Yukon Airport|      Fort Yukon|\n",
      "|       Alaska|     3421|Sparrevohn LRRS A...|      Sparrevohn|\n",
      "|       Alaska|     3422|Bryant Army Heliport| Fort Richardson|\n",
      "|       Alaska|     3423|Tatalina LRRS Air...|        Tatalina|\n",
      "|       Alaska|     3424|Cape Romanzof LRR...|   Cape Romanzof|\n",
      "|Massachusetts|     3425|Laurence G Hansco...|         Bedford|\n",
      "|       Alaska|     3427|Cape Newenham LRR...|   Cape Newenham|\n",
      "|       Alaska|     3429|     Iliamna Airport|         Iliamna|\n",
      "|       Alaska|     3430|    Platinum Airport|     Port Moller|\n",
      "|       Alaska|     3431|Big Mountain Airport|    Big Mountain|\n",
      "|     Michigan|     3432|Oscoda Wurtsmith ...|          Oscoda|\n",
      "+-------------+---------+--------------------+----------------+\n",
      "only showing top 20 rows\n",
      "\n"
     ]
    }
   ],
   "source": [
    "airportInState = spark.sql(\"\"\"\n",
    "    select s.s_name as States, a.AirportID, a.Name, a.City\n",
    "    from states as s, airport as a\n",
    "    where ST_Contains(s.s_bound, a.geospacial_Location)\n",
    "\"\"\")\n",
    "airportInState.show()"
   ]
  },
  {
   "cell_type": "code",
   "execution_count": 37,
   "id": "88b77ae2",
   "metadata": {
    "scrolled": true
   },
   "outputs": [
    {
     "name": "stderr",
     "output_type": "stream",
     "text": [
      "21/11/22 23:02:28 WARN JoinQuery: UseIndex is true, but no index exists. Will build index on the fly.\n",
      "                                                                                \r"
     ]
    },
    {
     "data": {
      "text/html": [
       "<div>\n",
       "<style scoped>\n",
       "    .dataframe tbody tr th:only-of-type {\n",
       "        vertical-align: middle;\n",
       "    }\n",
       "\n",
       "    .dataframe tbody tr th {\n",
       "        vertical-align: top;\n",
       "    }\n",
       "\n",
       "    .dataframe thead th {\n",
       "        text-align: right;\n",
       "    }\n",
       "</style>\n",
       "<table border=\"1\" class=\"dataframe\">\n",
       "  <thead>\n",
       "    <tr style=\"text-align: right;\">\n",
       "      <th></th>\n",
       "      <th>States</th>\n",
       "      <th>AirportID</th>\n",
       "      <th>Name</th>\n",
       "      <th>City</th>\n",
       "      <th>s_bound</th>\n",
       "    </tr>\n",
       "  </thead>\n",
       "  <tbody>\n",
       "    <tr>\n",
       "      <th>0</th>\n",
       "      <td>Alaska</td>\n",
       "      <td>3411</td>\n",
       "      <td>Barter Island LRRS Airport</td>\n",
       "      <td>Barter Island</td>\n",
       "      <td>POLYGON ((-141.02050 70.01870, -141.72910 70.1...</td>\n",
       "    </tr>\n",
       "    <tr>\n",
       "      <th>1</th>\n",
       "      <td>Alaska</td>\n",
       "      <td>3412</td>\n",
       "      <td>Wainwright Air Station</td>\n",
       "      <td>Fort Wainwright</td>\n",
       "      <td>POLYGON ((-141.02050 70.01870, -141.72910 70.1...</td>\n",
       "    </tr>\n",
       "    <tr>\n",
       "      <th>2</th>\n",
       "      <td>Alaska</td>\n",
       "      <td>3413</td>\n",
       "      <td>Cape Lisburne LRRS Airport</td>\n",
       "      <td>Cape Lisburne</td>\n",
       "      <td>POLYGON ((-141.02050 70.01870, -141.72910 70.1...</td>\n",
       "    </tr>\n",
       "    <tr>\n",
       "      <th>3</th>\n",
       "      <td>Alaska</td>\n",
       "      <td>3414</td>\n",
       "      <td>Point Lay LRRS Airport</td>\n",
       "      <td>Point Lay</td>\n",
       "      <td>POLYGON ((-141.02050 70.01870, -141.72910 70.1...</td>\n",
       "    </tr>\n",
       "    <tr>\n",
       "      <th>4</th>\n",
       "      <td>Hawaii</td>\n",
       "      <td>3415</td>\n",
       "      <td>Hilo International Airport</td>\n",
       "      <td>Hilo</td>\n",
       "      <td>POLYGON ((-154.62840 19.51580, -154.82350 19.8...</td>\n",
       "    </tr>\n",
       "    <tr>\n",
       "      <th>...</th>\n",
       "      <td>...</td>\n",
       "      <td>...</td>\n",
       "      <td>...</td>\n",
       "      <td>...</td>\n",
       "      <td>...</td>\n",
       "    </tr>\n",
       "    <tr>\n",
       "      <th>1504</th>\n",
       "      <td>California</td>\n",
       "      <td>13717</td>\n",
       "      <td>Camp Pendleton MCAS (Munn Field) Airport</td>\n",
       "      <td>Oceanside</td>\n",
       "      <td>POLYGON ((-124.40090 41.99830, -123.62370 42.0...</td>\n",
       "    </tr>\n",
       "    <tr>\n",
       "      <th>1505</th>\n",
       "      <td>Georgia</td>\n",
       "      <td>13757</td>\n",
       "      <td>Vidalia Regional Airport</td>\n",
       "      <td>Vidalia</td>\n",
       "      <td>POLYGON ((-85.60820 34.99740, -84.72660 34.990...</td>\n",
       "    </tr>\n",
       "    <tr>\n",
       "      <th>1506</th>\n",
       "      <td>Texas</td>\n",
       "      <td>13758</td>\n",
       "      <td>Granbury Regional Airport</td>\n",
       "      <td>Granbury</td>\n",
       "      <td>POLYGON ((-106.57150 31.86590, -106.50420 31.7...</td>\n",
       "    </tr>\n",
       "    <tr>\n",
       "      <th>1507</th>\n",
       "      <td>New York</td>\n",
       "      <td>13759</td>\n",
       "      <td>Oswego County Airport</td>\n",
       "      <td>Fulton</td>\n",
       "      <td>POLYGON ((-79.76240 42.51420, -79.06720 42.778...</td>\n",
       "    </tr>\n",
       "    <tr>\n",
       "      <th>1508</th>\n",
       "      <td>South Dakota</td>\n",
       "      <td>13803</td>\n",
       "      <td>Mitchell Municipal Airport</td>\n",
       "      <td>Mitchell</td>\n",
       "      <td>POLYGON ((-104.05010 45.94350, -104.05290 43.0...</td>\n",
       "    </tr>\n",
       "  </tbody>\n",
       "</table>\n",
       "<p>1509 rows × 5 columns</p>\n",
       "</div>"
      ],
      "text/plain": [
       "            States AirportID                                      Name  \\\n",
       "0           Alaska      3411                Barter Island LRRS Airport   \n",
       "1           Alaska      3412                    Wainwright Air Station   \n",
       "2           Alaska      3413                Cape Lisburne LRRS Airport   \n",
       "3           Alaska      3414                    Point Lay LRRS Airport   \n",
       "4           Hawaii      3415                Hilo International Airport   \n",
       "...            ...       ...                                       ...   \n",
       "1504    California     13717  Camp Pendleton MCAS (Munn Field) Airport   \n",
       "1505       Georgia     13757                  Vidalia Regional Airport   \n",
       "1506         Texas     13758                 Granbury Regional Airport   \n",
       "1507      New York     13759                     Oswego County Airport   \n",
       "1508  South Dakota     13803                Mitchell Municipal Airport   \n",
       "\n",
       "                 City                                            s_bound  \n",
       "0       Barter Island  POLYGON ((-141.02050 70.01870, -141.72910 70.1...  \n",
       "1     Fort Wainwright  POLYGON ((-141.02050 70.01870, -141.72910 70.1...  \n",
       "2       Cape Lisburne  POLYGON ((-141.02050 70.01870, -141.72910 70.1...  \n",
       "3           Point Lay  POLYGON ((-141.02050 70.01870, -141.72910 70.1...  \n",
       "4                Hilo  POLYGON ((-154.62840 19.51580, -154.82350 19.8...  \n",
       "...               ...                                                ...  \n",
       "1504        Oceanside  POLYGON ((-124.40090 41.99830, -123.62370 42.0...  \n",
       "1505          Vidalia  POLYGON ((-85.60820 34.99740, -84.72660 34.990...  \n",
       "1506         Granbury  POLYGON ((-106.57150 31.86590, -106.50420 31.7...  \n",
       "1507           Fulton  POLYGON ((-79.76240 42.51420, -79.06720 42.778...  \n",
       "1508         Mitchell  POLYGON ((-104.05010 45.94350, -104.05290 43.0...  \n",
       "\n",
       "[1509 rows x 5 columns]"
      ]
     },
     "execution_count": 37,
     "metadata": {},
     "output_type": "execute_result"
    }
   ],
   "source": [
    "airportInState = spark.sql(\"\"\"\n",
    "    select s.s_name as States, a.AirportID, a.Name, a.City, s.s_bound\n",
    "    from states as s, airport as a\n",
    "    where ST_Contains(s.s_bound, a.geospacial_Location)\n",
    "\"\"\")\n",
    "geopandas_df = gpd.GeoDataFrame(airportInState.toPandas(), geometry=\"s_bound\")\n",
    "geopandas_df"
   ]
  },
  {
   "cell_type": "code",
   "execution_count": 38,
   "id": "72197371",
   "metadata": {},
   "outputs": [
    {
     "name": "stderr",
     "output_type": "stream",
     "text": [
      "                                                                                \r"
     ]
    },
    {
     "data": {
      "image/png": "[encoded data removed]",
      "text/plain": [
       "<Figure size 576x288 with 1 Axes>"
      ]
     },
     "metadata": {},
     "output_type": "display_data"
    }
   ],
   "source": [
    "import matplotlib.pyplot as plt\n",
    "import numpy as np\n",
    "\n",
    "plt.style.use('_mpl-gallery-nogrid')\n",
    "\n",
    "keyList = [x['City'] for x in topIncomingAirport.collect()]\n",
    "valueList = [x['Num_Airlines'] for x in topIncomingAirport.collect()]\n",
    "labels = keyList\n",
    "sizes = valueList\n",
    "\n",
    "explode = (0.15, 0, 0, 0, 0, 0, 0, 0, 0 ,0) \n",
    "plt.rcParams['figure.figsize']=[8,4]\n",
    "\n",
    "fig1, ax1 = plt.subplots()\n",
    "ax1.pie(sizes, explode=explode, labels=labels, autopct='%0.2f%%',\n",
    "        shadow=True, startangle=90)\n",
    "ax1.axis('equal') \n",
    "plt.title('Top 10 cities with most incoming airlines')\n",
    "\n",
    "plt.show()"
   ]
  },
  {
   "cell_type": "code",
   "execution_count": 39,
   "id": "1286eb46",
   "metadata": {},
   "outputs": [
    {
     "name": "stderr",
     "output_type": "stream",
     "text": [
      "                                                                                \r"
     ]
    },
    {
     "data": {
      "image/png": "[encoded data removed]",
      "text/plain": [
       "<Figure size 576x288 with 1 Axes>"
      ]
     },
     "metadata": {
      "needs_background": "light"
     },
     "output_type": "display_data"
    }
   ],
   "source": [
    "keyList = [x['City'] for x in topIncomingAirport.collect()]\n",
    "valueList = [x['Num_Airlines'] for x in topIncomingAirport.collect()]\n",
    "x = keyList\n",
    "y = valueList\n",
    "plt.bar(x,y)\n",
    "plt.title('Top 10 cities with most incoming airlines')\n",
    "plt.show()"
   ]
  },
  {
   "cell_type": "code",
   "execution_count": 40,
   "id": "7296330b",
   "metadata": {},
   "outputs": [
    {
     "data": {
      "image/png": "[encoded data removed]",
      "text/plain": [
       "<Figure size 576x288 with 1 Axes>"
      ]
     },
     "metadata": {
      "needs_background": "light"
     },
     "output_type": "display_data"
    }
   ],
   "source": [
    "import matplotlib.pyplot as plt\n",
    "import matplotlib\n",
    "keyList = [x['Name'] for x in closestAirport.collect()]\n",
    "valueList = [x['Distance'] for x in closestAirport.collect()]\n",
    "x = keyList\n",
    "y = valueList\n",
    "plt.xticks(rotation=90, fontsize=14)\n",
    "plt.bar(x,y,color='red')\n",
    "plt.ylabel('mile')\n",
    "plt.title('Find the closest airport to a city X’s geospatial coordinate')\n",
    "plt.show()"
   ]
  },
  {
   "cell_type": "code",
   "execution_count": 41,
   "id": "ba59b6b4",
   "metadata": {},
   "outputs": [
    {
     "data": {
      "text/plain": [
       "<function matplotlib.pyplot.show(close=None, block=None)>"
      ]
     },
     "execution_count": 41,
     "metadata": {},
     "output_type": "execute_result"
    },
    {
     "data": {
      "image/png": "[encoded data removed]",
      "text/plain": [
       "<Figure size 576x288 with 1 Axes>"
      ]
     },
     "metadata": {
      "needs_background": "light"
     },
     "output_type": "display_data"
    }
   ],
   "source": [
    "import matplotlib.pyplot as plt\n",
    "keyList = [x['Name'] for x in closestAirport.collect()]\n",
    "valueList = [x['Distance'] for x in closestAirport.collect()]\n",
    "x = keyList\n",
    "y = valueList\n",
    "plt.xticks(rotation=90, fontsize=14)\n",
    "plt.plot(x,y)\n",
    "plt.ylabel('mile')\n",
    "plt.title('Find the closest airport to a city X’s geospatial coordinate')\n",
    "plt.show"
   ]
  },
  {
   "cell_type": "code",
   "execution_count": 48,
   "id": "680be985",
   "metadata": {},
   "outputs": [
    {
     "data": {
      "text/plain": [
       "<AxesSubplot:>"
      ]
     },
     "execution_count": 48,
     "metadata": {},
     "output_type": "execute_result"
    },
    {
     "data": {
      "image/png": "[encoded data removed]",
      "text/plain": [
       "<Figure size 576x288 with 1 Axes>"
      ]
     },
     "metadata": {
      "needs_background": "light"
     },
     "output_type": "display_data"
    }
   ],
   "source": [
    "world = gpd.read_file(gpd.datasets.get_path('naturalearth_lowres'))\n",
    "base = world.plot(edgecolor='#808080')\n",
    "closestAirport2.plot(ax=base, marker='o', color='red', markersize=5)"
   ]
  },
  {
   "cell_type": "code",
   "execution_count": 44,
   "id": "90fd51f8",
   "metadata": {},
   "outputs": [
    {
     "data": {
      "image/png": "[encoded data removed]",
      "text/plain": [
       "<Figure size 576x288 with 1 Axes>"
      ]
     },
     "metadata": {
      "needs_background": "light"
     },
     "output_type": "display_data"
    }
   ],
   "source": [
    "geopandas_df['airport_per_state'] = geopandas_df.States\n",
    "geopandas_df.plot(column='airport_per_state', cmap='OrRd');"
   ]
  },
  {
   "cell_type": "code",
   "execution_count": null,
   "id": "5ff7c42f",
   "metadata": {},
   "outputs": [],
   "source": []
  },
  {
   "cell_type": "code",
   "execution_count": null,
   "id": "aec960d5",
   "metadata": {},
   "outputs": [],
   "source": []
  }
 ],
 "metadata": {
  "kernelspec": {
   "display_name": "Python 3 (ipykernel)",
   "language": "python",
   "name": "python3"
  },
  "language_info": {
   "codemirror_mode": {
    "name": "ipython",
    "version": 3
   },
   "file_extension": ".py",
   "mimetype": "text/x-python",
   "name": "python",
   "nbconvert_exporter": "python",
   "pygments_lexer": "ipython3",
   "version": "3.8.10"
  }
 },
 "nbformat": 4,
 "nbformat_minor": 5
}
