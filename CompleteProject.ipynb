{
 "cells": [
  {
   "cell_type": "code",
   "execution_count": 1,
   "id": "138c2841",
   "metadata": {},
   "outputs": [
    {
     "name": "stderr",
     "output_type": "stream",
     "text": [
      "21/12/08 15:22:10 WARN Utils: Your hostname, DESKTOP-RV59F4C resolves to a loopback address: 127.0.1.1; using 192.168.20.1 instead (on interface eth0)\n",
      "21/12/08 15:22:10 WARN Utils: Set SPARK_LOCAL_IP if you need to bind to another address\n",
      "WARNING: An illegal reflective access operation has occurred\n",
      "WARNING: Illegal reflective access by org.apache.spark.unsafe.Platform (file:/root/spark-3.0.3-bin-hadoop3.2/jars/spark-unsafe_2.12-3.0.3.jar) to constructor java.nio.DirectByteBuffer(long,int)\n",
      "WARNING: Please consider reporting this to the maintainers of org.apache.spark.unsafe.Platform\n",
      "WARNING: Use --illegal-access=warn to enable warnings of further illegal reflective access operations\n",
      "WARNING: All illegal access operations will be denied in a future release\n",
      "Ivy Default Cache set to: /root/.ivy2/cache\n",
      "The jars for the packages stored in: /root/.ivy2/jars\n",
      ":: loading settings :: url = jar:file:/root/spark-3.0.3-bin-hadoop3.2/jars/ivy-2.4.0.jar!/org/apache/ivy/core/settings/ivysettings.xml\n",
      "org.apache.sedona#sedona-python-adapter-3.0_2.12 added as a dependency\n",
      "org.datasyslab#geotools-wrapper added as a dependency\n",
      ":: resolving dependencies :: org.apache.spark#spark-submit-parent-5c5d7c55-033e-4b9a-8bf5-5b3fa6e6a63f;1.0\n",
      "\tconfs: [default]\n",
      "\tfound org.apache.sedona#sedona-python-adapter-3.0_2.12;1.0.1-incubating in central\n",
      "\tfound org.locationtech.jts#jts-core;1.18.0 in central\n",
      "\tfound org.wololo#jts2geojson;0.16.1 in central\n",
      "\tfound com.fasterxml.jackson.core#jackson-databind;2.12.2 in central\n",
      "\tfound com.fasterxml.jackson.core#jackson-annotations;2.12.2 in central\n",
      "\tfound com.fasterxml.jackson.core#jackson-core;2.12.2 in central\n",
      "\tfound org.apache.sedona#sedona-core-3.0_2.12;1.0.1-incubating in central\n",
      "\tfound org.apache.sedona#sedona-sql-3.0_2.12;1.0.1-incubating in central\n",
      "\tfound org.datasyslab#geotools-wrapper;geotools-24.1 in central\n",
      ":: resolution report :: resolve 2659ms :: artifacts dl 168ms\n",
      "\t:: modules in use:\n",
      "\tcom.fasterxml.jackson.core#jackson-annotations;2.12.2 from central in [default]\n",
      "\tcom.fasterxml.jackson.core#jackson-core;2.12.2 from central in [default]\n",
      "\tcom.fasterxml.jackson.core#jackson-databind;2.12.2 from central in [default]\n",
      "\torg.apache.sedona#sedona-core-3.0_2.12;1.0.1-incubating from central in [default]\n",
      "\torg.apache.sedona#sedona-python-adapter-3.0_2.12;1.0.1-incubating from central in [default]\n",
      "\torg.apache.sedona#sedona-sql-3.0_2.12;1.0.1-incubating from central in [default]\n",
      "\torg.datasyslab#geotools-wrapper;geotools-24.1 from central in [default]\n",
      "\torg.locationtech.jts#jts-core;1.18.0 from central in [default]\n",
      "\torg.wololo#jts2geojson;0.16.1 from central in [default]\n",
      "\t:: evicted modules:\n",
      "\torg.locationtech.jts#jts-core;1.18.1 by [org.locationtech.jts#jts-core;1.18.0] in [default]\n",
      "\t---------------------------------------------------------------------\n",
      "\t|                  |            modules            ||   artifacts   |\n",
      "\t|       conf       | number| search|dwnlded|evicted|| number|dwnlded|\n",
      "\t---------------------------------------------------------------------\n",
      "\t|      default     |   10  |   0   |   0   |   1   ||   9   |   0   |\n",
      "\t---------------------------------------------------------------------\n",
      ":: retrieving :: org.apache.spark#spark-submit-parent-5c5d7c55-033e-4b9a-8bf5-5b3fa6e6a63f\n",
      "\tconfs: [default]\n",
      "\t0 artifacts copied, 9 already retrieved (0kB/62ms)\n",
      "21/12/08 15:22:16 WARN NativeCodeLoader: Unable to load native-hadoop library for your platform... using builtin-java classes where applicable\n",
      "Using Spark's default log4j profile: org/apache/spark/log4j-defaults.properties\n",
      "Setting default log level to \"WARN\".\n",
      "To adjust logging level use sc.setLogLevel(newLevel). For SparkR, use setLogLevel(newLevel).\n",
      "21/12/08 15:22:23 WARN SparkContext: Please ensure that the number of slots available on your executors is limited by the number of cores to task cpus and not another custom resource. If cores is not the limiting resource then dynamic allocation will not work properly!\n",
      "                                                                                \r"
     ]
    },
    {
     "data": {
      "text/plain": [
       "True"
      ]
     },
     "execution_count": 1,
     "metadata": {},
     "output_type": "execute_result"
    }
   ],
   "source": [
    "from pyspark.sql import SparkSession\n",
    "from sedona.register import SedonaRegistrator\n",
    "from sedona.utils import SedonaKryoRegistrator, KryoSerializer\n",
    "import geopandas as gpd\n",
    "\n",
    "spark = SparkSession. \\\n",
    "    builder. \\\n",
    "    appName('Airline Search'). \\\n",
    "    master('spark://DESKTOP-RV59F4C.localdomain:7077'). \\\n",
    "    config(\"spark.serializer\", KryoSerializer.getName). \\\n",
    "    config(\"spark.kryo.registrator\", SedonaKryoRegistrator.getName). \\\n",
    "    config('spark.jars.packages',\n",
    "           'org.apache.sedona:sedona-python-adapter-3.0_2.12:1.0.1-incubating,'\n",
    "           'org.datasyslab:geotools-wrapper:geotools-24.1'). \\\n",
    "    getOrCreate()\n",
    "\n",
    "SedonaRegistrator.registerAll(spark)"
   ]
  },
  {
   "cell_type": "markdown",
   "id": "5fb71059",
   "metadata": {},
   "source": [
    "## Load state boundries in WKT TSV"
   ]
  },
  {
   "cell_type": "code",
   "execution_count": 3,
   "id": "0cf3686a",
   "metadata": {},
   "outputs": [
    {
     "name": "stdout",
     "output_type": "stream",
     "text": [
      "boundary-each-state.tsv exists\n"
     ]
    }
   ],
   "source": [
    "import os.path\n",
    "if os.path.isfile(\"./boundary-each-state.tsv\"):\n",
    "    print(\"boundary-each-state.tsv exists\")\n",
    "else:\n",
    "    !wget https://raw.githubusercontent.com/DataOceanLab/CPTS-415-Project-Examples/main/boundary-each-state.tsv"
   ]
  },
  {
   "cell_type": "markdown",
   "id": "2fa8e407",
   "metadata": {},
   "source": [
    "## Convert WKT string column to a geometry column"
   ]
  },
  {
   "cell_type": "code",
   "execution_count": 62,
   "id": "5d7afb1b",
   "metadata": {},
   "outputs": [
    {
     "name": "stderr",
     "output_type": "stream",
     "text": [
      "\r",
      "[Stage 223:>                                                        (0 + 1) / 1]\r",
      "\r",
      "                                                                                \r"
     ]
    },
    {
     "name": "stdout",
     "output_type": "stream",
     "text": [
      "+-------------+--------------------+\n",
      "|       s_name|             s_bound|\n",
      "+-------------+--------------------+\n",
      "|       Alaska|POLYGON((-141.020...|\n",
      "|      Alabama|POLYGON((-88.1955...|\n",
      "|     Arkansas|POLYGON((-94.0416...|\n",
      "|      Arizona|POLYGON((-112.598...|\n",
      "|   California|POLYGON((-124.400...|\n",
      "|     Colorado|POLYGON((-109.044...|\n",
      "|  Connecticut|POLYGON((-73.4875...|\n",
      "|     Delaware|POLYGON((-75.7919...|\n",
      "|      Florida|POLYGON((-87.6050...|\n",
      "|      Georgia|POLYGON((-85.6082...|\n",
      "|       Hawaii|POLYGON((-154.628...|\n",
      "|         Iowa|POLYGON((-95.7623...|\n",
      "|        Idaho|POLYGON((-117.031...|\n",
      "|     Illinois|POLYGON((-90.6290...|\n",
      "|      Indiana|POLYGON((-87.5253...|\n",
      "|       Kansas|POLYGON((-102.050...|\n",
      "|     Kentucky|POLYGON((-89.5372...|\n",
      "|    Louisiana|POLYGON((-94.0430...|\n",
      "|Massachusetts|POLYGON((-72.7789...|\n",
      "|     Maryland|POLYGON((-79.4778...|\n",
      "+-------------+--------------------+\n",
      "only showing top 20 rows\n",
      "\n",
      "root\n",
      " |-- s_name: string (nullable = true)\n",
      " |-- s_bound: string (nullable = true)\n",
      "\n"
     ]
    },
    {
     "name": "stderr",
     "output_type": "stream",
     "text": [
      "                                                                                \r"
     ]
    },
    {
     "name": "stdout",
     "output_type": "stream",
     "text": [
      "+-------------+--------------------+\n",
      "|       s_name|             s_bound|\n",
      "+-------------+--------------------+\n",
      "|       Alaska|POLYGON ((-141.02...|\n",
      "|      Alabama|POLYGON ((-88.195...|\n",
      "|     Arkansas|POLYGON ((-94.041...|\n",
      "|      Arizona|POLYGON ((-112.59...|\n",
      "|   California|POLYGON ((-124.40...|\n",
      "|     Colorado|POLYGON ((-109.04...|\n",
      "|  Connecticut|POLYGON ((-73.487...|\n",
      "|     Delaware|POLYGON ((-75.791...|\n",
      "|      Florida|POLYGON ((-87.605...|\n",
      "|      Georgia|POLYGON ((-85.608...|\n",
      "|       Hawaii|POLYGON ((-154.62...|\n",
      "|         Iowa|POLYGON ((-95.762...|\n",
      "|        Idaho|POLYGON ((-117.03...|\n",
      "|     Illinois|POLYGON ((-90.629...|\n",
      "|      Indiana|POLYGON ((-87.525...|\n",
      "|       Kansas|POLYGON ((-102.05...|\n",
      "|     Kentucky|POLYGON ((-89.537...|\n",
      "|    Louisiana|POLYGON ((-94.043...|\n",
      "|Massachusetts|POLYGON ((-72.778...|\n",
      "|     Maryland|POLYGON ((-79.477...|\n",
      "+-------------+--------------------+\n",
      "only showing top 20 rows\n",
      "\n",
      "root\n",
      " |-- s_name: string (nullable = true)\n",
      " |-- s_bound: geometry (nullable = false)\n",
      "\n"
     ]
    }
   ],
   "source": [
    "states_wkt = spark.read.option(\"delimiter\", \"\\t\").option(\"header\", \"false\").csv(\"boundary-each-state.tsv\").toDF(\"s_name\",\"s_bound\")\n",
    "states_wkt.show()\n",
    "states_wkt.printSchema()\n",
    "\n",
    "states = states_wkt.selectExpr(\"s_name\", \"ST_GeomFromWKT(s_bound) as s_bound\")\n",
    "states.show()\n",
    "states.printSchema()\n",
    "states.createOrReplaceTempView(\"states\")"
   ]
  },
  {
   "cell_type": "markdown",
   "id": "89afd8bd",
   "metadata": {},
   "source": [
    "## Importing airports.dat and perform data cleaning"
   ]
  },
  {
   "cell_type": "code",
   "execution_count": 4,
   "id": "d359bc43",
   "metadata": {},
   "outputs": [
    {
     "name": "stdout",
     "output_type": "stream",
     "text": [
      "airports.dat exits\n"
     ]
    }
   ],
   "source": [
    "if os.path.isfile(\"./airports.dat\"):\n",
    "    print(\"airports.dat exits\")\n",
    "else:\n",
    "    !wget https://raw.githubusercontent.com/jpatokal/openflights/master/data/airports.dat"
   ]
  },
  {
   "cell_type": "code",
   "execution_count": 5,
   "id": "d1d4013e",
   "metadata": {},
   "outputs": [
    {
     "name": "stderr",
     "output_type": "stream",
     "text": [
      "[Stage 3:>                                                          (0 + 1) / 1]\r"
     ]
    },
    {
     "name": "stdout",
     "output_type": "stream",
     "text": [
      "+---------+--------------------+--------------+----------------+----+----+--------------------+\n",
      "|AirportID|                Name|          City|         Country|IATA|ICAO| geospacial_Location|\n",
      "+---------+--------------------+--------------+----------------+----+----+--------------------+\n",
      "|        1|      Goroka Airport|        Goroka|Papua New Guinea| GKA|AYGA|POINT (145.391998...|\n",
      "|        2|      Madang Airport|        Madang|Papua New Guinea| MAG|AYMD|POINT (145.789001...|\n",
      "|        3|Mount Hagen Kagam...|   Mount Hagen|Papua New Guinea| HGU|AYMH|POINT (144.296005...|\n",
      "|        4|      Nadzab Airport|        Nadzab|Papua New Guinea| LAE|AYNZ|POINT (146.725977...|\n",
      "|        5|Port Moresby Jack...|  Port Moresby|Papua New Guinea| POM|AYPY|POINT (147.220001...|\n",
      "|        6|Wewak Internation...|         Wewak|Papua New Guinea| WWK|AYWK|POINT (143.669006...|\n",
      "|        7|  Narsarsuaq Airport|  Narssarssuaq|       Greenland| UAK|BGBW|POINT (-45.425998...|\n",
      "|        8|Godthaab / Nuuk A...|      Godthaab|       Greenland| GOH|BGGH|POINT (-51.678100...|\n",
      "|        9|Kangerlussuaq Air...|   Sondrestrom|       Greenland| SFJ|BGSF|POINT (-50.711603...|\n",
      "|       10|      Thule Air Base|         Thule|       Greenland| THU|BGTL|POINT (-68.703201...|\n",
      "|       11|    Akureyri Airport|      Akureyri|         Iceland| AEY|BIAR|POINT (-18.072700...|\n",
      "|       12| Egilsstaðir Airport|   Egilsstadir|         Iceland| EGS|BIEG|POINT (-14.401399...|\n",
      "|       13|Hornafjörður Airport|          Hofn|         Iceland| HFN|BIHN|POINT (-15.2272 6...|\n",
      "|       14|     Húsavík Airport|       Husavik|         Iceland| HZK|BIHU|POINT (-17.426001...|\n",
      "|       15|  Ísafjörður Airport|    Isafjordur|         Iceland| IFJ|BIIS|POINT (-23.135299...|\n",
      "|       16|Keflavik Internat...|      Keflavik|         Iceland| KEF|BIKF|POINT (-22.605600...|\n",
      "|       17|Patreksfjörður Ai...|Patreksfjordur|         Iceland| PFJ|BIPA|POINT (-23.965 65...|\n",
      "|       18|   Reykjavik Airport|     Reykjavik|         Iceland| RKV|BIRK|POINT (-21.940599...|\n",
      "|       19|Siglufjörður Airport|  Siglufjordur|         Iceland| SIJ|BISI|POINT (-18.9167 6...|\n",
      "|       20|Vestmannaeyjar Ai...|Vestmannaeyjar|         Iceland| VEY|BIVM|POINT (-20.278900...|\n",
      "+---------+--------------------+--------------+----------------+----+----+--------------------+\n",
      "only showing top 20 rows\n",
      "\n",
      "root\n",
      " |-- AirportID: string (nullable = false)\n",
      " |-- Name: string (nullable = false)\n",
      " |-- City: string (nullable = false)\n",
      " |-- Country: string (nullable = false)\n",
      " |-- IATA: string (nullable = false)\n",
      " |-- ICAO: string (nullable = false)\n",
      " |-- geospacial_Location: geometry (nullable = false)\n",
      "\n"
     ]
    },
    {
     "name": "stderr",
     "output_type": "stream",
     "text": [
      "\r",
      "                                                                                \r"
     ]
    }
   ],
   "source": [
    "# Import data to Spark data frame\n",
    "airport_dat = spark.read.option(\"delimiter\", \",\").option(\"header\", \"false\").csv(\"airports.dat\").toDF(\"AirportID\",\"Name\"\n",
    ",\"City\",\"Country\",\"IATA\",\"ICAO\",\"Latitude\",\"Longitude\",\"Altitude\",\"Timezone\",\"DST\",\"Database Time Zone\",\"Type\",\"Source\")\n",
    "\n",
    "# Make all Null values have the same representation\n",
    "airport_dat = airport_dat.fillna('N/A')\n",
    "airport_dat = airport_dat.na.replace(\"\\\\N\",\"N/A\")\n",
    "airport_dat = airport_dat.na.replace(\"-\",\"N/A\")\n",
    "\n",
    "# Choose only necessary attributes\n",
    "\n",
    "# Combine Longitude and Latitude into one collumn\n",
    "from pyspark.sql import functions\n",
    "airport = airport_dat.select(\"AirportID\", \"Name\", \"City\", \"Country\",\"IATA\",\"ICAO\",\n",
    "                                 functions.concat_ws(\"_\",airport_dat.Longitude,airport_dat.Latitude).alias(\"Location\"))\n",
    "\n",
    "# Convert string to geometry type\n",
    "airport = airport.selectExpr(\"*\", \"ST_PointFromText(Location, \\'_\\') as geospacial_Location\")\n",
    "airport = airport.drop(\"Location\")\n",
    "airport.createOrReplaceTempView(\"airport\")\n",
    "airport.show()\n",
    "airport.printSchema()"
   ]
  },
  {
   "cell_type": "markdown",
   "id": "43256399",
   "metadata": {},
   "source": [
    "## Importing airline.dat and perform data cleaning"
   ]
  },
  {
   "cell_type": "code",
   "execution_count": 6,
   "id": "6522c57e",
   "metadata": {},
   "outputs": [
    {
     "name": "stdout",
     "output_type": "stream",
     "text": [
      "airlines.dat exits\n"
     ]
    }
   ],
   "source": [
    "if os.path.isfile(\"./airlines.dat\"):\n",
    "    print(\"airlines.dat exits\")\n",
    "else:\n",
    "    !wget https://raw.githubusercontent.com/jpatokal/openflights/master/data/airlines.dat"
   ]
  },
  {
   "cell_type": "code",
   "execution_count": 7,
   "id": "a29ca1be",
   "metadata": {
    "scrolled": false
   },
   "outputs": [
    {
     "name": "stderr",
     "output_type": "stream",
     "text": [
      "\r",
      "[Stage 5:>                                                          (0 + 1) / 1]\r"
     ]
    },
    {
     "name": "stdout",
     "output_type": "stream",
     "text": [
      "+---------+--------------------+-----+----+----+--------------+------+\n",
      "|AirlineID|                Name|Alias|IATA|ICAO|       Country|Active|\n",
      "+---------+--------------------+-----+----+----+--------------+------+\n",
      "|        1|      Private flight|  N/A| N/A| N/A|           N/A|     Y|\n",
      "|        2|         135 Airways|  N/A| N/A| GNL| United States|     N|\n",
      "|        3|       1Time Airline|  N/A|  1T| RNX|  South Africa|     Y|\n",
      "|        4|2 Sqn No 1 Elemen...|  N/A| N/A| WYT|United Kingdom|     N|\n",
      "|        5|     213 Flight Unit|  N/A| N/A| TFU|        Russia|     N|\n",
      "|        6|223 Flight Unit S...|  N/A| N/A| CHD|        Russia|     N|\n",
      "|        7|   224th Flight Unit|  N/A| N/A| TTF|        Russia|     N|\n",
      "|        8|         247 Jet Ltd|  N/A| N/A| TWF|United Kingdom|     N|\n",
      "|        9|         3D Aviation|  N/A| N/A| SEC| United States|     N|\n",
      "|       10|         40-Mile Air|  N/A|  Q5| MLA| United States|     Y|\n",
      "|       11|              4D Air|  N/A| N/A| QRT|      Thailand|     N|\n",
      "|       12|611897 Alberta Li...|  N/A| N/A| THD|        Canada|     N|\n",
      "|       13|    Ansett Australia|  N/A|  AN| AAA|     Australia|     Y|\n",
      "|       14|Abacus International|  N/A|  1B| N/A|     Singapore|     Y|\n",
      "|       15|     Abelag Aviation|  N/A|  W9| AAB|       Belgium|     N|\n",
      "|       16|      Army Air Corps|  N/A| N/A| AAC|United Kingdom|     N|\n",
      "|       17|Aero Aviation Cen...|  N/A| N/A| AAD|        Canada|     N|\n",
      "|       18|Aero Servicios Ej...|  N/A| N/A| SII|        Mexico|     N|\n",
      "|       19|         Aero Biniza|  N/A| N/A| BZS|        Mexico|     N|\n",
      "|       20|       Aero Albatros|  N/A| N/A| ABM|         Spain|     N|\n",
      "+---------+--------------------+-----+----+----+--------------+------+\n",
      "only showing top 20 rows\n",
      "\n",
      "root\n",
      " |-- AirlineID: string (nullable = false)\n",
      " |-- Name: string (nullable = false)\n",
      " |-- Alias: string (nullable = false)\n",
      " |-- IATA: string (nullable = false)\n",
      " |-- ICAO: string (nullable = false)\n",
      " |-- Country: string (nullable = false)\n",
      " |-- Active: string (nullable = false)\n",
      "\n"
     ]
    },
    {
     "name": "stderr",
     "output_type": "stream",
     "text": [
      "\r",
      "                                                                                \r"
     ]
    }
   ],
   "source": [
    "# Import data to Spark data frame\n",
    "airline_dat = spark.read.option(\"delimiter\", \",\").option(\"header\", \"false\").csv(\"airlines.dat\").toDF(\"AirlineID\",\"Name\"\n",
    ",\"Alias\",\"IATA\",\"ICAO\",\"Callsign\",\"Country\",\"Active\")\n",
    "\n",
    "# Make all Null values have the same representation\n",
    "airline_dat = airline_dat.fillna('N/A')\n",
    "airline_dat = airline_dat.na.replace(\"\\\\N\",\"N/A\")\n",
    "airline_dat = airline_dat.na.replace(\"-\",\"N/A\")\n",
    "\n",
    "# Drop unused attributes\n",
    "airline_dat = airline_dat.drop(\"Callsign\")\n",
    "\n",
    "airline_dat.createOrReplaceTempView(\"airline\")\n",
    "\n",
    "# Drop non-sense tuples\n",
    "airline_dat = spark.sql(\"select * from airline where AirlineID > 0\")\n",
    "\n",
    "airline_dat.show()\n",
    "airline_dat.printSchema()\n",
    "airline = airline_dat"
   ]
  },
  {
   "cell_type": "markdown",
   "id": "00d9caf4",
   "metadata": {},
   "source": [
    "## Importing routes.dat"
   ]
  },
  {
   "cell_type": "code",
   "execution_count": 8,
   "id": "40888c71",
   "metadata": {},
   "outputs": [
    {
     "name": "stdout",
     "output_type": "stream",
     "text": [
      "routes.dat exits\n"
     ]
    }
   ],
   "source": [
    "if os.path.isfile(\"./routes.dat\"):\n",
    "    print(\"routes.dat exits\")\n",
    "else:\n",
    "    !wget https://raw.githubusercontent.com/jpatokal/openflights/master/data/routes.dat"
   ]
  },
  {
   "cell_type": "code",
   "execution_count": 9,
   "id": "146e6817",
   "metadata": {},
   "outputs": [
    {
     "name": "stdout",
     "output_type": "stream",
     "text": [
      "+-------+---------+-------------+---------------+------------------+--------------------+---------+-----+\n",
      "|Airline|AirlineID|SourceAirport|SourceAirportID|DestinationAirport|DestinationAirportID|Codeshare|Stops|\n",
      "+-------+---------+-------------+---------------+------------------+--------------------+---------+-----+\n",
      "|     2B|      410|          AER|           2965|               KZN|                2990|      N/A|    0|\n",
      "|     2B|      410|          ASF|           2966|               KZN|                2990|      N/A|    0|\n",
      "|     2B|      410|          ASF|           2966|               MRV|                2962|      N/A|    0|\n",
      "|     2B|      410|          CEK|           2968|               KZN|                2990|      N/A|    0|\n",
      "|     2B|      410|          CEK|           2968|               OVB|                4078|      N/A|    0|\n",
      "|     2B|      410|          DME|           4029|               KZN|                2990|      N/A|    0|\n",
      "|     2B|      410|          DME|           4029|               NBC|                6969|      N/A|    0|\n",
      "|     2B|      410|          DME|           4029|               TGK|                 N/A|      N/A|    0|\n",
      "|     2B|      410|          DME|           4029|               UUA|                6160|      N/A|    0|\n",
      "|     2B|      410|          EGO|           6156|               KGD|                2952|      N/A|    0|\n",
      "|     2B|      410|          EGO|           6156|               KZN|                2990|      N/A|    0|\n",
      "|     2B|      410|          GYD|           2922|               NBC|                6969|      N/A|    0|\n",
      "|     2B|      410|          KGD|           2952|               EGO|                6156|      N/A|    0|\n",
      "|     2B|      410|          KZN|           2990|               AER|                2965|      N/A|    0|\n",
      "|     2B|      410|          KZN|           2990|               ASF|                2966|      N/A|    0|\n",
      "|     2B|      410|          KZN|           2990|               CEK|                2968|      N/A|    0|\n",
      "|     2B|      410|          KZN|           2990|               DME|                4029|      N/A|    0|\n",
      "|     2B|      410|          KZN|           2990|               EGO|                6156|      N/A|    0|\n",
      "|     2B|      410|          KZN|           2990|               LED|                2948|      N/A|    0|\n",
      "|     2B|      410|          KZN|           2990|               SVX|                2975|      N/A|    0|\n",
      "+-------+---------+-------------+---------------+------------------+--------------------+---------+-----+\n",
      "only showing top 20 rows\n",
      "\n"
     ]
    }
   ],
   "source": [
    "# Import data to Spark data frame\n",
    "route_dat = spark.read.option(\"delimiter\", \",\").option(\"header\", \"false\").csv(\"routes.dat\").toDF(\"Airline\",\"AirlineID\"\n",
    ",\"SourceAirport\",\"SourceAirportID\",\"DestinationAirport\",\"DestinationAirportID\",\"Codeshare\",\"Stops\",\"Equipment\")\n",
    "\n",
    "# Drop unused attributes\n",
    "route_dat = route_dat.drop(\"Equipment\")\n",
    "\n",
    "# Make all Null values have the same representation\n",
    "route_dat = route_dat.fillna('N/A')\n",
    "route_dat = route_dat.na.replace(\"\\\\N\",\"N/A\")\n",
    "route_dat = route_dat.na.replace(\"-\",\"N/A\")\n",
    "\n",
    "route = route_dat\n",
    "route.createOrReplaceTempView(\"route\")\n",
    "\n",
    "route.show()"
   ]
  },
  {
   "cell_type": "markdown",
   "id": "d90ba37f",
   "metadata": {},
   "source": [
    "## Updating routes table"
   ]
  },
  {
   "cell_type": "code",
   "execution_count": 12,
   "id": "4f5a7efc",
   "metadata": {},
   "outputs": [],
   "source": [
    "# The main logic here is to look up airport and airline tables\n",
    "\n",
    "# Then update either airlineID or airportID, which ever is missing\n",
    "\n",
    "# The method performed is a left join"
   ]
  },
  {
   "cell_type": "markdown",
   "id": "6c21b391",
   "metadata": {},
   "source": [
    "### Updating airlineID using airline.IATA"
   ]
  },
  {
   "cell_type": "code",
   "execution_count": 13,
   "id": "af625f86",
   "metadata": {},
   "outputs": [],
   "source": [
    "airline_cp = spark.sql(\"Select * from airline where airline.IATA != 'N/A'\")\n",
    "airline_cp = airline_cp.withColumnRenamed(\"IATA\",\"Airline\")"
   ]
  },
  {
   "cell_type": "code",
   "execution_count": 14,
   "id": "8e8f0584",
   "metadata": {},
   "outputs": [],
   "source": [
    "route_cp = route.alias('r').join(airline_cp.alias('a'), on = 'Airline', how = 'left')\\\n",
    "    .select('r.Airline', functions.when(~functions.isnull(functions.col('a.AirlineID')),\n",
    "                                       functions.col('a.AirlineID')\n",
    "                                       ).otherwise(functions.col('r.AirlineID')).alias('AirlineID'),\n",
    "           'r.SourceAirport', 'r.SourceAirportID', 'r.DestinationAirport', 'r.DestinationAirportID',\n",
    "           'r.Codeshare', 'r.Stops').dropDuplicates()"
   ]
  },
  {
   "cell_type": "markdown",
   "id": "cd74fd3d",
   "metadata": {},
   "source": [
    "### Updating airlineID using airline.ICAO"
   ]
  },
  {
   "cell_type": "code",
   "execution_count": 15,
   "id": "a798aac7",
   "metadata": {},
   "outputs": [],
   "source": [
    "airline_cp = spark.sql(\"Select * from airline where airline.ICAO != 'N/A'\")\n",
    "airline_cp = airline_cp.withColumnRenamed(\"ICAO\",\"Airline\")"
   ]
  },
  {
   "cell_type": "code",
   "execution_count": 16,
   "id": "d628171d",
   "metadata": {},
   "outputs": [],
   "source": [
    "route_cp = route_cp.alias('r').join(airline_cp.alias('a'), on = 'Airline', how = 'left')\\\n",
    "    .select('r.Airline', functions.when(~functions.isnull(functions.col('a.AirlineID')),\n",
    "                                       functions.col('a.AirlineID')\n",
    "                                       ).otherwise(functions.col('r.AirlineID')).alias('AirlineID'),\n",
    "           'r.SourceAirport', 'r.SourceAirportID', 'r.DestinationAirport', 'r.DestinationAirportID',\n",
    "           'r.Codeshare', 'r.Stops').dropDuplicates()"
   ]
  },
  {
   "cell_type": "markdown",
   "id": "9a7d0ded",
   "metadata": {},
   "source": [
    "### Updating SourceAirportID using airport.IATA"
   ]
  },
  {
   "cell_type": "code",
   "execution_count": 17,
   "id": "026b3d02",
   "metadata": {},
   "outputs": [],
   "source": [
    "airport_cp = spark.sql(\"Select * from airport where airport.IATA != 'N/A'\")\n",
    "airport_cp = airport_cp.withColumnRenamed(\"IATA\",\"SourceAirport\")"
   ]
  },
  {
   "cell_type": "code",
   "execution_count": 18,
   "id": "880c324e",
   "metadata": {},
   "outputs": [],
   "source": [
    "route_cp = route_cp.alias('r').join(airport_cp.alias('a'), on = 'SourceAirport', how = 'left')\\\n",
    "    .select('r.Airline', 'r.AirlineID','r.SourceAirport', functions.when(~functions.isnull(functions.col('a.AirportID')),\n",
    "                                       functions.col('a.AirportID')\n",
    "                                       ).otherwise(functions.col('r.SourceAirportID')).alias('SourceAirportID'), \n",
    "            'r.DestinationAirport', 'r.DestinationAirportID',\n",
    "           'r.Codeshare', 'r.Stops').dropDuplicates()"
   ]
  },
  {
   "cell_type": "markdown",
   "id": "aa2d6654",
   "metadata": {},
   "source": [
    "### Updating SourceAirportID using airport.ICAO"
   ]
  },
  {
   "cell_type": "code",
   "execution_count": 19,
   "id": "3ae7c4c2",
   "metadata": {},
   "outputs": [],
   "source": [
    "airport_cp = spark.sql(\"Select * from airport where airport.ICAO != 'N/A'\")\n",
    "airport_cp = airport_cp.withColumnRenamed(\"ICAO\",\"SourceAirport\")"
   ]
  },
  {
   "cell_type": "code",
   "execution_count": 20,
   "id": "f698a5df",
   "metadata": {},
   "outputs": [],
   "source": [
    "route_cp = route_cp.alias('r').join(airport_cp.alias('a'), on = 'SourceAirport', how = 'left')\\\n",
    "    .select('r.Airline', 'r.AirlineID','r.SourceAirport', functions.when(~functions.isnull(functions.col('a.AirportID')),\n",
    "                                       functions.col('a.AirportID')\n",
    "                                       ).otherwise(functions.col('r.SourceAirportID')).alias('SourceAirportID'), \n",
    "            'r.DestinationAirport', 'r.DestinationAirportID',\n",
    "           'r.Codeshare', 'r.Stops').dropDuplicates()"
   ]
  },
  {
   "cell_type": "markdown",
   "id": "357987ae",
   "metadata": {},
   "source": [
    "### Updating DestinationAirportID using airport.IATA"
   ]
  },
  {
   "cell_type": "code",
   "execution_count": 21,
   "id": "74b1c059",
   "metadata": {},
   "outputs": [],
   "source": [
    "airport_cp = spark.sql(\"Select * from airport where airport.IATA != 'N/A'\")\n",
    "airport_cp = airport_cp.withColumnRenamed(\"IATA\",\"DestinationAirport\")"
   ]
  },
  {
   "cell_type": "code",
   "execution_count": 22,
   "id": "96e67d26",
   "metadata": {},
   "outputs": [],
   "source": [
    "route_cp = route_cp.alias('r').join(airport_cp.alias('a'), on = 'DestinationAirport', how = 'left')\\\n",
    "    .select('r.Airline', 'r.AirlineID','r.SourceAirport', 'r.SourceAirportID',\n",
    "            'r.DestinationAirport', functions.when(~functions.isnull(functions.col('a.AirportID')),\n",
    "                                       functions.col('a.AirportID')\n",
    "                                       ).otherwise(functions.col('r.DestinationAirportID')).alias('DestinationAirportID'),\n",
    "           'r.Codeshare', 'r.Stops').dropDuplicates()"
   ]
  },
  {
   "cell_type": "markdown",
   "id": "1fc5b7cb",
   "metadata": {},
   "source": [
    "### Updating SourceAirportID using airport.ICAO"
   ]
  },
  {
   "cell_type": "code",
   "execution_count": 23,
   "id": "1b9c1c18",
   "metadata": {},
   "outputs": [],
   "source": [
    "airport_cp = spark.sql(\"Select * from airport where airport.ICAO != 'N/A'\")\n",
    "airport_cp = airport_cp.withColumnRenamed(\"ICAO\",\"DestinationAirport\")"
   ]
  },
  {
   "cell_type": "code",
   "execution_count": 24,
   "id": "4c1aeb35",
   "metadata": {},
   "outputs": [],
   "source": [
    "route_cp = route_cp.alias('r').join(airport_cp.alias('a'), on = 'DestinationAirport', how = 'left')\\\n",
    "    .select('r.Airline', 'r.AirlineID','r.SourceAirport', 'r.SourceAirportID',\n",
    "            'r.DestinationAirport', functions.when(~functions.isnull(functions.col('a.AirportID')),\n",
    "                                       functions.col('a.AirportID')\n",
    "                                       ).otherwise(functions.col('r.DestinationAirportID')).alias('DestinationAirportID'),\n",
    "           'r.Codeshare', 'r.Stops').dropDuplicates().sort(\"Airline\")"
   ]
  },
  {
   "cell_type": "code",
   "execution_count": 27,
   "id": "3042014c",
   "metadata": {},
   "outputs": [
    {
     "name": "stderr",
     "output_type": "stream",
     "text": [
      "[Stage 50:================================================>     (179 + 4) / 200]\r"
     ]
    },
    {
     "name": "stdout",
     "output_type": "stream",
     "text": [
      "+-------+---------+-------------+---------------+------------------+--------------------+---------+-----+\n",
      "|Airline|AirlineID|SourceAirport|SourceAirportID|DestinationAirport|DestinationAirportID|Codeshare|Stops|\n",
      "+-------+---------+-------------+---------------+------------------+--------------------+---------+-----+\n",
      "|     2B|      410|          NUX|           4364|               SVX|                2975|      N/A|    0|\n",
      "|     2B|      410|          ASF|           2966|               MRV|                2962|      N/A|    0|\n",
      "|     2B|      410|          KZN|           2990|               CEK|                2968|      N/A|    0|\n",
      "|     2B|      410|          LED|           2948|               UUA|                6160|      N/A|    0|\n",
      "|     2B|      410|          KZN|           2990|               AER|                2965|      N/A|    0|\n",
      "|     2B|      410|          UUA|           6160|               LED|                2948|      N/A|    0|\n",
      "|     2B|      410|          LED|           2948|               NBC|                6969|      N/A|    0|\n",
      "|     2B|      410|          KZN|           2990|               LED|                2948|      N/A|    0|\n",
      "|     2B|      410|          DME|           4029|               KZN|                2990|      N/A|    0|\n",
      "|     2B|      410|          KZN|           2990|               ASF|                2966|      N/A|    0|\n",
      "|     2B|      410|          NBC|           6969|               DME|                4029|      N/A|    0|\n",
      "|     2B|      410|          TGK|           6932|               DME|                4029|      N/A|    0|\n",
      "|     2B|      410|          EGO|           6156|               KGD|                2952|      N/A|    0|\n",
      "|     2B|      410|          SVX|           2975|               NJC|                2972|      N/A|    0|\n",
      "|     2B|      410|          LED|           2948|               KZN|                2990|      N/A|    0|\n",
      "|     2B|      410|          KZN|           2990|               DME|                4029|      N/A|    0|\n",
      "|     2B|      410|          CEK|           2968|               OVB|                4078|      N/A|    0|\n",
      "|     2B|      410|          KZN|           2990|               EGO|                6156|      N/A|    0|\n",
      "|     2B|      410|          GYD|           2922|               NBC|                6969|      N/A|    0|\n",
      "|     2B|      410|          AER|           2965|               KZN|                2990|      N/A|    0|\n",
      "+-------+---------+-------------+---------------+------------------+--------------------+---------+-----+\n",
      "only showing top 20 rows\n",
      "\n"
     ]
    },
    {
     "name": "stderr",
     "output_type": "stream",
     "text": [
      "\r",
      "[Stage 50:===================================================>  (191 + 4) / 200]\r",
      "\r",
      "                                                                                \r"
     ]
    }
   ],
   "source": [
    "# Take very long. Dont run this\n",
    "\n",
    "route_cp.show()"
   ]
  },
  {
   "cell_type": "markdown",
   "id": "c6376acd",
   "metadata": {},
   "source": [
    "## Find the list of airports operating in country X"
   ]
  },
  {
   "cell_type": "code",
   "execution_count": 29,
   "id": "5c90f875",
   "metadata": {},
   "outputs": [],
   "source": [
    "# SQL query WHERE country == X"
   ]
  },
  {
   "cell_type": "code",
   "execution_count": 28,
   "id": "7fb95475",
   "metadata": {},
   "outputs": [
    {
     "name": "stdout",
     "output_type": "stream",
     "text": [
      "Enter country's name: Vietnam\n"
     ]
    },
    {
     "name": "stderr",
     "output_type": "stream",
     "text": [
      "\r",
      "[Stage 51:>                                                         (0 + 1) / 1]\r",
      "\r",
      "                                                                                \r"
     ]
    },
    {
     "name": "stdout",
     "output_type": "stream",
     "text": [
      "+---------+--------------------+----------------+-------+\n",
      "|AirportID|                Name|            City|Country|\n",
      "+---------+--------------------+----------------+-------+\n",
      "|     3196|Da Nang Internati...|          Danang|Vietnam|\n",
      "|     3197|    Gia Lam Air Base|           Hanoi|Vietnam|\n",
      "|     3198|        Kep Air Base|             Kep|Vietnam|\n",
      "|     3199|Noi Bai Internati...|           Hanoi|Vietnam|\n",
      "|     3200|  Nha Trang Air Base|        Nhatrang|Vietnam|\n",
      "|     3201|     Phu Bai Airport|             Hue|Vietnam|\n",
      "|     3204|Phu Quoc Internat...|         Phuquoc|Vietnam|\n",
      "|     3205|Tan Son Nhat Inte...|Ho Chi Minh City|Vietnam|\n",
      "|     4153| Lien Khuong Airport|           Dalat|Vietnam|\n",
      "|     4154|    Dong Hoi Airport|        Dong Hoi|Vietnam|\n",
      "|     4155|    Rach Gia Airport|        Rach Gia|Vietnam|\n",
      "|     4156|      Cà Mau Airport|          Ca Mau|Vietnam|\n",
      "|     4157|Chu Lai Internati...|         Chu Lai|Vietnam|\n",
      "|     4158|    Dong Tac Airport|         Tuy Hoa|Vietnam|\n",
      "|     6187|Buon Ma Thuot Air...|     Buonmethuot|Vietnam|\n",
      "|     6188|Cat Bi Internatio...|        Haiphong|Vietnam|\n",
      "|     6189|    Cam Ranh Airport|       Nha Trang|Vietnam|\n",
      "|     6190|      Co Ong Airport|          Conson|Vietnam|\n",
      "|     6191|Can Tho Internati...|         Can Tho|Vietnam|\n",
      "|     6192|Dien Bien Phu Air...|     Dienbienphu|Vietnam|\n",
      "+---------+--------------------+----------------+-------+\n",
      "only showing top 20 rows\n",
      "\n"
     ]
    }
   ],
   "source": [
    "airport_cp = spark.sql(\"Select AirportID, Name, City, Country from airport\")\n",
    "X = input(\"Enter country's name: \")\n",
    "airport_cp.filter(airport_cp.Country.rlike(f\"(?i)^*{X}$\")).show()"
   ]
  },
  {
   "cell_type": "markdown",
   "id": "2cc6ade2",
   "metadata": {},
   "source": [
    "## Find the list of airlines having X stops"
   ]
  },
  {
   "cell_type": "code",
   "execution_count": 30,
   "id": "d2c29113",
   "metadata": {},
   "outputs": [],
   "source": [
    "# Attribute Stops belongs to route table\n",
    "\n",
    "# Airline Name belongs to airline table\n",
    "\n",
    "# Both tables have attribute AirlineID\n",
    "\n",
    "# Perform a inner join on AirlineID"
   ]
  },
  {
   "cell_type": "code",
   "execution_count": 31,
   "id": "b43bc0fb",
   "metadata": {},
   "outputs": [
    {
     "name": "stdout",
     "output_type": "stream",
     "text": [
      "Enter # stops: 1\n"
     ]
    },
    {
     "name": "stderr",
     "output_type": "stream",
     "text": [
      "                                                                                \r"
     ]
    },
    {
     "name": "stdout",
     "output_type": "stream",
     "text": [
      "+---------+--------------------+-----+\n",
      "|AirlineID|        Airline_Name|Stops|\n",
      "+---------+--------------------+-----+\n",
      "|     1316|     AirTran Airways|    1|\n",
      "|     1936|  Cubana de Aviación|    1|\n",
      "|     4319|Scandinavian Airl...|    1|\n",
      "|     1623|      Canadian North|    1|\n",
      "|      330|          Air Canada|    1|\n",
      "|     4547|  Southwest Airlines|    1|\n",
      "+---------+--------------------+-----+\n",
      "\n"
     ]
    }
   ],
   "source": [
    "# PySpark functionalities are used instead of SQL syntax\n",
    "\n",
    "# But the result stays the same\n",
    "\n",
    "from pyspark.sql.functions import when\n",
    "route_cp.createOrReplaceTempView(\"route_cp\")\n",
    "\n",
    "# Take in user's input\n",
    "X = input(\"Enter # stops: \")\n",
    "\n",
    "# Select only airlines that have X stops from route table\n",
    "newRoute = spark.sql(f\"Select AirlineID, Stops from route_cp where route_cp.Stops == {X}\")\n",
    "\n",
    "# Select only used attributes from airline table\n",
    "airline_cp = spark.sql(f\"Select AirlineID, Name, Alias from airline\")\n",
    "\n",
    "# Inner join on AirlineID\n",
    "newRoute = newRoute.alias('r').join(airline_cp.alias('a'), on = 'AirlineID', how = 'inner')\\\n",
    "    .select('r.AirlineID', when(airline_cp.Name != 'N/A', airline_cp.Name)\n",
    "            .otherwise(\"a.Alias\").alias('Airline_Name'),\n",
    "'r.Stops').dropDuplicates()\n",
    "\n",
    "# Show result\n",
    "newRoute.filter(newRoute.Airline_Name != 'N/A').show()"
   ]
  },
  {
   "cell_type": "markdown",
   "id": "00f68990",
   "metadata": {},
   "source": [
    "## List of airlines operating with codeshares"
   ]
  },
  {
   "cell_type": "code",
   "execution_count": 32,
   "id": "54c0d766",
   "metadata": {},
   "outputs": [],
   "source": [
    "# Codeshare belongs to route table\n",
    "\n",
    "# AirlineName belongs to airline table\n",
    "\n",
    "# Again an inner join on AirlineID where Codeshare == Y or Codeshare == y"
   ]
  },
  {
   "cell_type": "code",
   "execution_count": 33,
   "id": "3ab2e1fd",
   "metadata": {},
   "outputs": [
    {
     "name": "stderr",
     "output_type": "stream",
     "text": [
      "[Stage 129:======================================>                (14 + 4) / 20]\r"
     ]
    },
    {
     "name": "stdout",
     "output_type": "stream",
     "text": [
      "+---------+--------------------+---------+\n",
      "|AirlineID|        Airline_Name|Codeshare|\n",
      "+---------+--------------------+---------+\n",
      "|     5179|               Tarom|        Y|\n",
      "|      502|Abu Dhabi Amiri F...|        Y|\n",
      "|      324|  All Nippon Airways|        Y|\n",
      "|     2855|              Indigo|        Y|\n",
      "|     5416|             WestJet|        Y|\n",
      "|     5347|Virgin Atlantic A...|        Y|\n",
      "|     1889|       Copa Airlines|        Y|\n",
      "|     2421|               Flybe|        Y|\n",
      "|     4559|Swiss Internation...|        Y|\n",
      "|       28|     Asiana Airlines|        Y|\n",
      "|     5309|    Vietnam Airlines|        Y|\n",
      "|     1942|      Cyprus Airways|        Y|\n",
      "|      137|          Air France|        Y|\n",
      "|      241|          Air Sahara|        Y|\n",
      "|     3378|   Malaysia Airlines|        Y|\n",
      "|     1908|          Corsairfly|        Y|\n",
      "|     1317|         Air Transat|        Y|\n",
      "|     4292|    Rwandair Express|        Y|\n",
      "|      197| Azerbaijan Airlines|        Y|\n",
      "|     2056|           Dragonair|        Y|\n",
      "+---------+--------------------+---------+\n",
      "only showing top 20 rows\n",
      "\n"
     ]
    },
    {
     "name": "stderr",
     "output_type": "stream",
     "text": [
      "\r",
      "                                                                                \r"
     ]
    }
   ],
   "source": [
    "# Select used attributes from route table where Codeshare == Y | y\n",
    "newRoute = spark.sql(f\"Select AirlineID, Codeshare from route_cp where route_cp.Codeshare == 'Y' \\\n",
    "                     or route_cp.Codeshare == 'y'\")\n",
    "\n",
    "# Select only used attributes from airline table\n",
    "airline_cp = spark.sql(f\"Select AirlineID, Name, Alias from airline\")\n",
    "\n",
    "# Perform an inner join on AirlineID\n",
    "airline_cp = newRoute.alias('r').join(airline_cp.alias('a'), on = 'AirlineID', how = 'inner')\\\n",
    "    .select('r.AirlineID', when(airline_cp.Name != 'N/A', airline_cp.Name)\n",
    "            .otherwise(\"a.Alias\").alias('Airline_Name'),\n",
    "'r.Codeshare').dropDuplicates()\n",
    "\n",
    "# Show result\n",
    "airline_cp.filter(airline_cp.Airline_Name != 'N/A').show()"
   ]
  },
  {
   "cell_type": "markdown",
   "id": "3753cf8e",
   "metadata": {},
   "source": [
    "## Find the list of active airlines in the United States - Airline aggregation "
   ]
  },
  {
   "cell_type": "code",
   "execution_count": 34,
   "id": "03ccea1b",
   "metadata": {},
   "outputs": [
    {
     "name": "stdout",
     "output_type": "stream",
     "text": [
      "+---------+--------------------+-------------+------+\n",
      "|AirlineID|        Airline_Name|      Country|Active|\n",
      "+---------+--------------------+-------------+------+\n",
      "|       10|         40-Mile Air|United States|     Y|\n",
      "|       22|      Aloha Airlines|United States|     Y|\n",
      "|       24|   American Airlines|United States|     Y|\n",
      "|       35|       Allegiant Air|United States|     Y|\n",
      "|      109|Alaska Central Ex...|United States|     Y|\n",
      "|      149|  Air Cargo Carriers|United States|     Y|\n",
      "|      210|Airlift Internati...|United States|     Y|\n",
      "|      281|America West Airl...|United States|     Y|\n",
      "|      282|       Air Wisconsin|United States|     Y|\n",
      "|      287|Allegheny Commute...|United States|     Y|\n",
      "|      295|        Air Sunshine|United States|     Y|\n",
      "|      315|        ATA Airlines|United States|     Y|\n",
      "|      397|           Arrow Air|United States|     Y|\n",
      "|      452|Atlantic Southeas...|United States|     Y|\n",
      "|      659|American Eagle Ai...|United States|     Y|\n",
      "|      792|          Access Air|United States|     Y|\n",
      "|      882|         Air Florida|United States|     Y|\n",
      "|      928|           Atlas Air|United States|     Y|\n",
      "|     1316|     AirTran Airways|United States|     Y|\n",
      "|     1442|    Bemidji Airlines|United States|     Y|\n",
      "+---------+--------------------+-------------+------+\n",
      "only showing top 20 rows\n",
      "\n"
     ]
    }
   ],
   "source": [
    "# SQL syntax for airline table\n",
    "\n",
    "# WHERE country == US and active == Y | y\n",
    "airline_cp = spark.sql(\"\"\"\n",
    "                       Select AirlineID, Name, Alias, Country, Active \n",
    "                       from airline \n",
    "                       where Country == 'United States' and (Active == 'Y' or Active == 'y')\n",
    "                       \"\"\")\n",
    "airline_cp = airline_cp.select(airline_cp.AirlineID, when(airline_cp.Name != 'N/A', airline_cp.Name)\n",
    "            .otherwise(airline_cp.Alias).alias('Airline_Name'), airline_cp.Country, airline_cp.Active)\n",
    "\n",
    "# Show result\n",
    "airline_cp.filter(airline_cp.Airline_Name != 'N/A').show()"
   ]
  },
  {
   "cell_type": "markdown",
   "id": "93f96ae9",
   "metadata": {},
   "source": [
    "## Find the country (or) territory has the highest number of Airports "
   ]
  },
  {
   "cell_type": "code",
   "execution_count": 35,
   "id": "f3f31325",
   "metadata": {},
   "outputs": [],
   "source": [
    "# The main logic is\n",
    "\n",
    "# Filter out rows in which country is NULL\n",
    "\n",
    "# Perform a group by on Country attribute\n",
    "\n",
    "# Orient the result with a descending order"
   ]
  },
  {
   "cell_type": "code",
   "execution_count": 36,
   "id": "040f2102",
   "metadata": {},
   "outputs": [
    {
     "name": "stderr",
     "output_type": "stream",
     "text": [
      "                                                                                \r"
     ]
    },
    {
     "data": {
      "text/plain": [
       "Row(Country='United States', Num_Airports=1512)"
      ]
     },
     "execution_count": 36,
     "metadata": {},
     "output_type": "execute_result"
    }
   ],
   "source": [
    "airport_cp = spark.sql(\"\"\"\n",
    "                select Country, count(Country) as Num_Airports\n",
    "                from airport\n",
    "                where country != 'N/A'\n",
    "                group by Country\n",
    "                order by Num_Airports desc\n",
    "            \"\"\")\n",
    "\n",
    "# Show result - only the first one is required\n",
    "airport_cp.first()"
   ]
  },
  {
   "cell_type": "markdown",
   "id": "35c6037c",
   "metadata": {},
   "source": [
    "## Top K cities with most incoming airlines - takes lots of time"
   ]
  },
  {
   "cell_type": "code",
   "execution_count": null,
   "id": "93a514f8",
   "metadata": {},
   "outputs": [],
   "source": [
    "# Most incoming airlines == most DestinationAirport from route table\n",
    "\n",
    "# Need to display AirportName, which belongs to airport table\n",
    "\n",
    "# Perform an inner join on AirportID"
   ]
  },
  {
   "cell_type": "code",
   "execution_count": 41,
   "id": "c7f8a713",
   "metadata": {},
   "outputs": [
    {
     "name": "stderr",
     "output_type": "stream",
     "text": [
      "[Stage 146:=========>                                            (37 + 4) / 200]\r"
     ]
    },
    {
     "name": "stdout",
     "output_type": "stream",
     "text": [
      "How many cities: 8\n"
     ]
    },
    {
     "name": "stderr",
     "output_type": "stream",
     "text": [
      "[Stage 164:===================================================> (194 + 4) / 200]\r"
     ]
    },
    {
     "name": "stdout",
     "output_type": "stream",
     "text": [
      "+---------+------------+\n",
      "|     City|Num_Airlines|\n",
      "+---------+------------+\n",
      "|    Paris|         147|\n",
      "|   London|         139|\n",
      "|   Moscow|         132|\n",
      "|  Bangkok|         126|\n",
      "|Frankfurt|         111|\n",
      "|     Rome|         103|\n",
      "| Istanbul|          99|\n",
      "|    Dubai|          97|\n",
      "|Hong Kong|          97|\n",
      "|Singapore|          94|\n",
      "|Amsterdam|          93|\n",
      "|   Munich|          93|\n",
      "|  Beijing|          91|\n",
      "| New York|          86|\n",
      "|   Milano|          85|\n",
      "|Barcelona|          85|\n",
      "|   Vienna|          83|\n",
      "|   Zurich|          83|\n",
      "| Shanghai|          82|\n",
      "|    Tokyo|          82|\n",
      "+---------+------------+\n",
      "only showing top 20 rows\n",
      "\n"
     ]
    },
    {
     "name": "stderr",
     "output_type": "stream",
     "text": [
      "\r",
      "[Stage 164:====================================================>(197 + 3) / 200]\r",
      "\r",
      "                                                                                \r"
     ]
    }
   ],
   "source": [
    "# Take lots of time - don't run this\n",
    "\n",
    "# Take users' input\n",
    "K = input(\"How many cities: \")\n",
    "\n",
    "# Choose used attributes from route table\n",
    "airline_cp = spark.sql(\"\"\"\n",
    "                       Select AirlineID, DestinationAirportID \n",
    "                       from route_cp \n",
    "                       where AirlineID != 'N/A' and DestinationAirportID != 'N/A'\n",
    "                       \"\"\")\n",
    "airline_cp.createOrReplaceTempView(\"airline_cp\")\n",
    "\n",
    "# Choose used attributes from airport table\n",
    "airport_cp = spark.sql(\"\"\"\n",
    "                       Select AirportID, City\n",
    "                       from airport \n",
    "                       where City != 'N/A'\n",
    "                       \"\"\")\n",
    "airport_cp.createOrReplaceTempView(\"airport_cp\")\n",
    "\n",
    "# Inner join\n",
    "result = spark.sql(\"\"\"\n",
    "            Select airport_cp.City, count(distinct airline_cp.AirlineID) as Num_Airlines\n",
    "            from airline_cp\n",
    "            inner join airport_cp\n",
    "            on airline_cp.DestinationAirportID == airport_cp.AirportID\n",
    "            group by airport_cp.City\n",
    "            order by Num_Airlines desc\n",
    "    \"\"\")\n",
    "\n",
    "topIncomingAirport = result.limit(int(K))\n",
    "\n",
    "#Show result\n",
    "result.show(n = int(K))"
   ]
  },
  {
   "cell_type": "markdown",
   "id": "e723788c",
   "metadata": {},
   "source": [
    "### Category graph - top K incoming airports"
   ]
  },
  {
   "cell_type": "code",
   "execution_count": 44,
   "id": "3a6be933",
   "metadata": {},
   "outputs": [
    {
     "name": "stderr",
     "output_type": "stream",
     "text": [
      "                                                                                \r"
     ]
    },
    {
     "data": {
      "image/png": "[encoded data removed]",
      "text/plain": [
       "<Figure size 576x288 with 1 Axes>"
      ]
     },
     "metadata": {},
     "output_type": "display_data"
    }
   ],
   "source": [
    "import matplotlib.pyplot as plt\n",
    "import numpy as np\n",
    "\n",
    "plt.style.use('_mpl-gallery-nogrid')\n",
    "\n",
    "keyList = [x['City'] for x in topIncomingAirport.collect()]\n",
    "valueList = [x['Num_Airlines'] for x in topIncomingAirport.collect()]\n",
    "labels = keyList\n",
    "sizes = valueList\n",
    "\n",
    "explode = [0.15]\n",
    "\n",
    "for i in range (1, int(K)):\n",
    "    explode.append(0)\n",
    "\n",
    "explode = tuple(explode)\n",
    "\n",
    "plt.rcParams['figure.figsize']=[8,4]\n",
    "\n",
    "fig1, ax1 = plt.subplots()\n",
    "ax1.pie(sizes, explode=explode, labels=labels, autopct='%0.2f%%',\n",
    "        shadow=True, startangle=90)\n",
    "ax1.axis('equal') \n",
    "plt.title(f'Top {K} cities with most incoming airlines')\n",
    "\n",
    "plt.show()"
   ]
  },
  {
   "cell_type": "markdown",
   "id": "4263cfe8",
   "metadata": {},
   "source": [
    "### Bar graph - top K incoming airports"
   ]
  },
  {
   "cell_type": "code",
   "execution_count": 46,
   "id": "5f93bfd9",
   "metadata": {},
   "outputs": [
    {
     "data": {
      "image/png": "[encoded data removed]",
      "text/plain": [
       "<Figure size 576x288 with 1 Axes>"
      ]
     },
     "metadata": {
      "needs_background": "light"
     },
     "output_type": "display_data"
    }
   ],
   "source": [
    "x = keyList\n",
    "y = valueList\n",
    "plt.bar(x,y)\n",
    "plt.title(f'Top {K} cities with most incoming airlines')\n",
    "plt.show()"
   ]
  },
  {
   "cell_type": "markdown",
   "id": "00d79be9",
   "metadata": {},
   "source": [
    "## Find the closest airport to a city X’s geospatial coordinate "
   ]
  },
  {
   "cell_type": "code",
   "execution_count": 37,
   "id": "1c58f3e6",
   "metadata": {},
   "outputs": [],
   "source": [
    "# Example: Seattle\n",
    "\n",
    "# Longitude = -122.313323\n",
    "\n",
    "# Latitude = 47.622715"
   ]
  },
  {
   "cell_type": "code",
   "execution_count": 55,
   "id": "1e975180",
   "metadata": {},
   "outputs": [
    {
     "name": "stdout",
     "output_type": "stream",
     "text": [
      "Enter city's longitude: -122.313323\n",
      "Enter city's latitude: 47.622715\n"
     ]
    },
    {
     "name": "stderr",
     "output_type": "stream",
     "text": [
      "[Stage 217:>                                                        (0 + 1) / 1]\r"
     ]
    },
    {
     "name": "stdout",
     "output_type": "stream",
     "text": [
      "+---------+--------------------+--------------+-------------+--------------------+-------------------+\n",
      "|AirportID|                Name|          City|      Country| geospacial_Location|           Distance|\n",
      "+---------+--------------------+--------------+-------------+--------------------+-------------------+\n",
      "|     3726|Boeing Field King...|       Seattle|United States|POINT (-122.30200...|0.09340483758251691|\n",
      "|     8796|Renton Municipal ...|        Renton|United States|POINT (-122.21600...|0.16208440203787616|\n",
      "|     3577|Seattle Tacoma In...|       Seattle|United States|POINT (-122.30899...|0.17376783195113774|\n",
      "|     6455|Berkley Structure...|    Pagerungan|    Indonesia|POINT (-122.14845...|0.17521683501593222|\n",
      "|     3822|Snohomish County ...|       Everett|United States|POINT (-122.28199...| 0.2853094707603653|\n",
      "|     8446|Tacoma Narrows Ai...|        Tacoma|United States|POINT (-122.57800...| 0.4426625752853818|\n",
      "|     6445|Bremerton Nationa...|     Bremerton|United States|POINT (-122.76499...| 0.4707141116100695|\n",
      "|     3672|McChord Air Force...|        Tacoma|United States|POINT (-122.47599...| 0.5115696708090709|\n",
      "|     9348|    Enumclaw Airport|      Enumclaw|United States|POINT (-122.02200...| 0.5169213534484512|\n",
      "|    11141|Arlington Municip...|     Arlington|United States|POINT (-122.15899...| 0.5596841796160805|\n",
      "|     3530| Gray Army Air Field|    Fort Lewis|United States|POINT (-122.58100...| 0.6058542919830145|\n",
      "|     3573|Whidbey Island Na...|Whidbey Island|United States|POINT (-122.65599...| 0.8055989291707135|\n",
      "|    12528|Skagit Regional A...|        Skagit|United States|POINT (-122.42099...| 0.8549936516859054|\n",
      "|     7650|Olympia Regional ...|       Olympia|United States|POINT (-122.90299...| 0.8800802779098416|\n",
      "|     9547|     Sanderson Field|       Shelton|United States|POINT (-123.14800...| 0.9209234925083426|\n",
      "|     6136|Lopez Island Airport|         Lopez|United States|POINT (-122.93800...| 1.0638901339262905|\n",
      "|     7082|Friday Harbor Air...| Friday Harbor|United States|POINT (-123.02400...|  1.146201163044584|\n",
      "|     9408|Chehalis Centrali...|      Chehalis|United States|POINT (-122.98300...| 1.1588140297746152|\n",
      "|     3777|Bellingham Intern...|    Bellingham|United States|POINT (-122.53800...| 1.1914619929116053|\n",
      "|     3455|Port Angeles Cgas...|  Port Angeles|United States|POINT (-123.41400...|  1.216811189537659|\n",
      "+---------+--------------------+--------------+-------------+--------------------+-------------------+\n",
      "only showing top 20 rows\n",
      "\n"
     ]
    },
    {
     "name": "stderr",
     "output_type": "stream",
     "text": [
      "\r",
      "                                                                                \r"
     ]
    }
   ],
   "source": [
    "# Take users' inputs\n",
    "X = input(\"Enter city's longitude: \")\n",
    "Y = input(\"Enter city's latitude: \")\n",
    "\n",
    "# Select used attributes from airport table\n",
    "airport_cp = spark.sql(\"\"\"\n",
    "    select AirportID,Name,City,Country,geospacial_Location\n",
    "    from airport\n",
    "    where City != 'N/A'\n",
    "\"\"\")\n",
    "airport_cp.createOrReplaceTempView(\"airport_cp\")\n",
    "\n",
    "# Using Apache Sedona to turn X, Y into a point (ST_Point())\n",
    "\n",
    "# Then using ST_Distance() to find out the closest airport\n",
    "result = spark.sql(f\" \\\n",
    "    SELECT a.AirportID, a.Name, a.City, a.Country, a.geospacial_Location, \\\n",
    "           ST_Distance(a.geospacial_Location, ST_Point({X}, {Y})) as Distance \\\n",
    "    FROM airport as a \\\n",
    "    ORDER by Distance\")\n",
    "\n",
    "closestAirport = result.limit(10)\n",
    "closestAirport2 = gpd.GeoDataFrame(result.limit(100).toPandas(), geometry = \"geospacial_Location\")\n",
    "\n",
    "# Show result\n",
    "result.show()"
   ]
  },
  {
   "cell_type": "markdown",
   "id": "a491167f",
   "metadata": {},
   "source": [
    "### Bar graph - closest airport to city X"
   ]
  },
  {
   "cell_type": "code",
   "execution_count": 56,
   "id": "1767fc52",
   "metadata": {},
   "outputs": [
    {
     "name": "stderr",
     "output_type": "stream",
     "text": [
      "                                                                                \r"
     ]
    },
    {
     "data": {
      "image/png": "[encoded data removed]",
      "text/plain": [
       "<Figure size 576x288 with 1 Axes>"
      ]
     },
     "metadata": {
      "needs_background": "light"
     },
     "output_type": "display_data"
    }
   ],
   "source": [
    "import matplotlib.pyplot as plt\n",
    "import matplotlib\n",
    "keyList = [x['Name'] for x in closestAirport.collect()]\n",
    "valueList = [x['Distance'] for x in closestAirport.collect()]\n",
    "x = keyList\n",
    "y = valueList\n",
    "plt.xticks(rotation=90, fontsize=14)\n",
    "plt.bar(x,y,color='red')\n",
    "plt.ylabel('mile')\n",
    "plt.title('Find the closest airport to a city X’s geospatial coordinate')\n",
    "plt.show()"
   ]
  },
  {
   "cell_type": "markdown",
   "id": "b62d829b",
   "metadata": {},
   "source": [
    "### Line graph - closest airport to city X"
   ]
  },
  {
   "cell_type": "code",
   "execution_count": 57,
   "id": "7398580b",
   "metadata": {},
   "outputs": [
    {
     "data": {
      "text/plain": [
       "<function matplotlib.pyplot.show(close=None, block=None)>"
      ]
     },
     "execution_count": 57,
     "metadata": {},
     "output_type": "execute_result"
    },
    {
     "data": {
      "image/png": "[encoded data removed]",
      "text/plain": [
       "<Figure size 576x288 with 1 Axes>"
      ]
     },
     "metadata": {
      "needs_background": "light"
     },
     "output_type": "display_data"
    }
   ],
   "source": [
    "import matplotlib.pyplot as plt\n",
    "keyList = [x['Name'] for x in closestAirport.collect()]\n",
    "valueList = [x['Distance'] for x in closestAirport.collect()]\n",
    "x = keyList\n",
    "y = valueList\n",
    "plt.xticks(rotation=90, fontsize=14)\n",
    "plt.plot(x,y)\n",
    "plt.ylabel('mile')\n",
    "plt.title('Find the closest airport to a city X’s geospatial coordinate')\n",
    "plt.show"
   ]
  },
  {
   "cell_type": "markdown",
   "id": "ab27fdaf",
   "metadata": {},
   "source": [
    "### World Map - closest airport to city X"
   ]
  },
  {
   "cell_type": "code",
   "execution_count": 58,
   "id": "f4093533",
   "metadata": {},
   "outputs": [
    {
     "data": {
      "text/plain": [
       "<AxesSubplot:>"
      ]
     },
     "execution_count": 58,
     "metadata": {},
     "output_type": "execute_result"
    },
    {
     "data": {
      "image/png": "[encoded data removed]",
      "text/plain": [
       "<Figure size 576x288 with 1 Axes>"
      ]
     },
     "metadata": {
      "needs_background": "light"
     },
     "output_type": "display_data"
    }
   ],
   "source": [
    "world = gpd.read_file(gpd.datasets.get_path('naturalearth_lowres'))\n",
    "base = world.plot(edgecolor='#808080')\n",
    "closestAirport2.plot(ax=base, marker='o', color='red', markersize=5)"
   ]
  },
  {
   "cell_type": "markdown",
   "id": "2a7f5ff7",
   "metadata": {},
   "source": [
    "## Find the airport in each US state’s geospatial boundary "
   ]
  },
  {
   "cell_type": "code",
   "execution_count": 63,
   "id": "f47f5df4",
   "metadata": {},
   "outputs": [
    {
     "name": "stderr",
     "output_type": "stream",
     "text": [
      "21/12/08 17:41:41 WARN JoinQuery: UseIndex is true, but no index exists. Will build index on the fly.\n",
      "                                                                                \r"
     ]
    },
    {
     "data": {
      "text/html": [
       "<div>\n",
       "<style scoped>\n",
       "    .dataframe tbody tr th:only-of-type {\n",
       "        vertical-align: middle;\n",
       "    }\n",
       "\n",
       "    .dataframe tbody tr th {\n",
       "        vertical-align: top;\n",
       "    }\n",
       "\n",
       "    .dataframe thead th {\n",
       "        text-align: right;\n",
       "    }\n",
       "</style>\n",
       "<table border=\"1\" class=\"dataframe\">\n",
       "  <thead>\n",
       "    <tr style=\"text-align: right;\">\n",
       "      <th></th>\n",
       "      <th>States</th>\n",
       "      <th>AirportID</th>\n",
       "      <th>Name</th>\n",
       "      <th>City</th>\n",
       "      <th>s_bound</th>\n",
       "    </tr>\n",
       "  </thead>\n",
       "  <tbody>\n",
       "    <tr>\n",
       "      <th>0</th>\n",
       "      <td>Alaska</td>\n",
       "      <td>3411</td>\n",
       "      <td>Barter Island LRRS Airport</td>\n",
       "      <td>Barter Island</td>\n",
       "      <td>POLYGON ((-141.02050 70.01870, -141.72910 70.1...</td>\n",
       "    </tr>\n",
       "    <tr>\n",
       "      <th>1</th>\n",
       "      <td>Alaska</td>\n",
       "      <td>3412</td>\n",
       "      <td>Wainwright Air Station</td>\n",
       "      <td>Fort Wainwright</td>\n",
       "      <td>POLYGON ((-141.02050 70.01870, -141.72910 70.1...</td>\n",
       "    </tr>\n",
       "    <tr>\n",
       "      <th>2</th>\n",
       "      <td>Alaska</td>\n",
       "      <td>3413</td>\n",
       "      <td>Cape Lisburne LRRS Airport</td>\n",
       "      <td>Cape Lisburne</td>\n",
       "      <td>POLYGON ((-141.02050 70.01870, -141.72910 70.1...</td>\n",
       "    </tr>\n",
       "    <tr>\n",
       "      <th>3</th>\n",
       "      <td>Alaska</td>\n",
       "      <td>3414</td>\n",
       "      <td>Point Lay LRRS Airport</td>\n",
       "      <td>Point Lay</td>\n",
       "      <td>POLYGON ((-141.02050 70.01870, -141.72910 70.1...</td>\n",
       "    </tr>\n",
       "    <tr>\n",
       "      <th>4</th>\n",
       "      <td>Hawaii</td>\n",
       "      <td>3415</td>\n",
       "      <td>Hilo International Airport</td>\n",
       "      <td>Hilo</td>\n",
       "      <td>POLYGON ((-154.62840 19.51580, -154.82350 19.8...</td>\n",
       "    </tr>\n",
       "    <tr>\n",
       "      <th>...</th>\n",
       "      <td>...</td>\n",
       "      <td>...</td>\n",
       "      <td>...</td>\n",
       "      <td>...</td>\n",
       "      <td>...</td>\n",
       "    </tr>\n",
       "    <tr>\n",
       "      <th>1504</th>\n",
       "      <td>California</td>\n",
       "      <td>13717</td>\n",
       "      <td>Camp Pendleton MCAS (Munn Field) Airport</td>\n",
       "      <td>Oceanside</td>\n",
       "      <td>POLYGON ((-124.40090 41.99830, -123.62370 42.0...</td>\n",
       "    </tr>\n",
       "    <tr>\n",
       "      <th>1505</th>\n",
       "      <td>Georgia</td>\n",
       "      <td>13757</td>\n",
       "      <td>Vidalia Regional Airport</td>\n",
       "      <td>Vidalia</td>\n",
       "      <td>POLYGON ((-85.60820 34.99740, -84.72660 34.990...</td>\n",
       "    </tr>\n",
       "    <tr>\n",
       "      <th>1506</th>\n",
       "      <td>Texas</td>\n",
       "      <td>13758</td>\n",
       "      <td>Granbury Regional Airport</td>\n",
       "      <td>Granbury</td>\n",
       "      <td>POLYGON ((-106.57150 31.86590, -106.50420 31.7...</td>\n",
       "    </tr>\n",
       "    <tr>\n",
       "      <th>1507</th>\n",
       "      <td>New York</td>\n",
       "      <td>13759</td>\n",
       "      <td>Oswego County Airport</td>\n",
       "      <td>Fulton</td>\n",
       "      <td>POLYGON ((-79.76240 42.51420, -79.06720 42.778...</td>\n",
       "    </tr>\n",
       "    <tr>\n",
       "      <th>1508</th>\n",
       "      <td>South Dakota</td>\n",
       "      <td>13803</td>\n",
       "      <td>Mitchell Municipal Airport</td>\n",
       "      <td>Mitchell</td>\n",
       "      <td>POLYGON ((-104.05010 45.94350, -104.05290 43.0...</td>\n",
       "    </tr>\n",
       "  </tbody>\n",
       "</table>\n",
       "<p>1509 rows × 5 columns</p>\n",
       "</div>"
      ],
      "text/plain": [
       "            States AirportID                                      Name  \\\n",
       "0           Alaska      3411                Barter Island LRRS Airport   \n",
       "1           Alaska      3412                    Wainwright Air Station   \n",
       "2           Alaska      3413                Cape Lisburne LRRS Airport   \n",
       "3           Alaska      3414                    Point Lay LRRS Airport   \n",
       "4           Hawaii      3415                Hilo International Airport   \n",
       "...            ...       ...                                       ...   \n",
       "1504    California     13717  Camp Pendleton MCAS (Munn Field) Airport   \n",
       "1505       Georgia     13757                  Vidalia Regional Airport   \n",
       "1506         Texas     13758                 Granbury Regional Airport   \n",
       "1507      New York     13759                     Oswego County Airport   \n",
       "1508  South Dakota     13803                Mitchell Municipal Airport   \n",
       "\n",
       "                 City                                            s_bound  \n",
       "0       Barter Island  POLYGON ((-141.02050 70.01870, -141.72910 70.1...  \n",
       "1     Fort Wainwright  POLYGON ((-141.02050 70.01870, -141.72910 70.1...  \n",
       "2       Cape Lisburne  POLYGON ((-141.02050 70.01870, -141.72910 70.1...  \n",
       "3           Point Lay  POLYGON ((-141.02050 70.01870, -141.72910 70.1...  \n",
       "4                Hilo  POLYGON ((-154.62840 19.51580, -154.82350 19.8...  \n",
       "...               ...                                                ...  \n",
       "1504        Oceanside  POLYGON ((-124.40090 41.99830, -123.62370 42.0...  \n",
       "1505          Vidalia  POLYGON ((-85.60820 34.99740, -84.72660 34.990...  \n",
       "1506         Granbury  POLYGON ((-106.57150 31.86590, -106.50420 31.7...  \n",
       "1507           Fulton  POLYGON ((-79.76240 42.51420, -79.06720 42.778...  \n",
       "1508         Mitchell  POLYGON ((-104.05010 45.94350, -104.05290 43.0...  \n",
       "\n",
       "[1509 rows x 5 columns]"
      ]
     },
     "execution_count": 63,
     "metadata": {},
     "output_type": "execute_result"
    }
   ],
   "source": [
    "# Using ST_Contains from Apache Sedona to identify which airport belongs to which states\n",
    "airportInState = spark.sql(\"\"\"\n",
    "    select s.s_name as States, a.AirportID, a.Name, a.City, s.s_bound\n",
    "    from states as s, airport as a\n",
    "    where ST_Contains(s.s_bound, a.geospacial_Location)\n",
    "\"\"\")\n",
    "\n",
    "# Convert Spark dataframe into pandas dataframe\n",
    "geopandas_df = gpd.GeoDataFrame(airportInState.toPandas(), geometry=\"s_bound\")\n",
    "\n",
    "# Show result\n",
    "geopandas_df"
   ]
  },
  {
   "cell_type": "markdown",
   "id": "11a39282",
   "metadata": {},
   "source": [
    "### Heat map - Airports per state"
   ]
  },
  {
   "cell_type": "code",
   "execution_count": 64,
   "id": "d10fac82",
   "metadata": {},
   "outputs": [
    {
     "data": {
      "image/png": "[encoded data removed]",
      "text/plain": [
       "<Figure size 576x288 with 1 Axes>"
      ]
     },
     "metadata": {
      "needs_background": "light"
     },
     "output_type": "display_data"
    }
   ],
   "source": [
    "geopandas_df['airport_per_state'] = geopandas_df.States\n",
    "geopandas_df.plot(column='airport_per_state', cmap='OrRd');"
   ]
  },
  {
   "cell_type": "code",
   "execution_count": null,
   "id": "6dcd495c",
   "metadata": {},
   "outputs": [],
   "source": []
  }
 ],
 "metadata": {
  "kernelspec": {
   "display_name": "Python 3 (ipykernel)",
   "language": "python",
   "name": "python3"
  },
  "language_info": {
   "codemirror_mode": {
    "name": "ipython",
    "version": 3
   },
   "file_extension": ".py",
   "mimetype": "text/x-python",
   "name": "python",
   "nbconvert_exporter": "python",
   "pygments_lexer": "ipython3",
   "version": "3.8.10"
  }
 },
 "nbformat": 4,
 "nbformat_minor": 5
}
